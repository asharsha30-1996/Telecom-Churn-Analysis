{
 "cells": [
  {
   "cell_type": "markdown",
   "metadata": {},
   "source": [
    "# Telecorm Case Study:\n",
    "\n",
    "**Tasks:**\n",
    "\n",
    "**Part--1**\n",
    "\n",
    "1. Data exploration and missing value identification\n",
    "2. Missing value treatment and outlier analysis\n",
    "3. Deriving the target feature based on 9 month data\n",
    "4. Exploratory Data Analysis to understand trend between the target Churn and various independant features.\n",
    "\n",
    "\n",
    "**Part--2 Model Building**\n",
    "\n",
    "1. Handling class imbalance and reducing the features using the PCA\n",
    "2. Applying Logistic Regression, Decision Tree, Random Forest and AdaBoost models on the data.\n",
    "3. Using Hyper-parameter tuning for all the above models and prescribe the model which produces least sensitivity.\n",
    "\n",
    "**Part--3 Model Interpretability**\n",
    "\n",
    "1. Using the Train and Test data without PCA application.\n",
    "2. Using Decision Tree model to weight the important features of the data to provide the bussiness recommendation\n",
    "\n"
   ]
  },
  {
   "cell_type": "markdown",
   "metadata": {},
   "source": [
    "# **Part--1**\n",
    "\n",
    "**Data exploration and missing value identification**"
   ]
  },
  {
   "cell_type": "code",
   "execution_count": 190,
   "metadata": {
    "execution": {
     "iopub.execute_input": "2022-01-01T02:06:56.158084Z",
     "iopub.status.busy": "2022-01-01T02:06:56.157851Z",
     "iopub.status.idle": "2022-01-01T02:06:56.165208Z",
     "shell.execute_reply": "2022-01-01T02:06:56.163235Z",
     "shell.execute_reply.started": "2022-01-01T02:06:56.158047Z"
    }
   },
   "outputs": [],
   "source": [
    "##Importing first-level necessary libraries and we shall import others as we proceed along\n",
    "import pandas as pd\n",
    "import numpy as np\n",
    "import seaborn as sns\n",
    "import matplotlib.pyplot as plt\n",
    "import warnings\n",
    "warnings.filterwarnings('ignore')\n",
    "pd.set_option('display.max_rows', 500)\n",
    "pd.set_option('display.max_columns', 500)\n",
    "pd.set_option('display.width', 1000)"
   ]
  },
  {
   "cell_type": "code",
   "execution_count": 191,
   "metadata": {
    "execution": {
     "iopub.execute_input": "2022-01-01T02:06:56.175591Z",
     "iopub.status.busy": "2022-01-01T02:06:56.175402Z",
     "iopub.status.idle": "2022-01-01T02:06:58.394235Z",
     "shell.execute_reply": "2022-01-01T02:06:58.393482Z",
     "shell.execute_reply.started": "2022-01-01T02:06:56.175560Z"
    }
   },
   "outputs": [],
   "source": [
    "data=pd.read_csv('telecom_churn_data.csv')"
   ]
  },
  {
   "cell_type": "code",
   "execution_count": 192,
   "metadata": {
    "execution": {
     "iopub.execute_input": "2022-01-01T02:06:58.395808Z",
     "iopub.status.busy": "2022-01-01T02:06:58.395561Z",
     "iopub.status.idle": "2022-01-01T02:06:58.401443Z",
     "shell.execute_reply": "2022-01-01T02:06:58.400759Z",
     "shell.execute_reply.started": "2022-01-01T02:06:58.395774Z"
    }
   },
   "outputs": [
    {
     "name": "stdout",
     "output_type": "stream",
     "text": [
      "The row count and column count are.... 99999 and 226 respectively\n"
     ]
    }
   ],
   "source": [
    "##Printing the row and column of the data\n",
    "print('The row count and column count are....',data.shape[0],'and',data.shape[1],'respectively')"
   ]
  },
  {
   "cell_type": "code",
   "execution_count": 193,
   "metadata": {
    "execution": {
     "iopub.execute_input": "2022-01-01T02:06:58.403197Z",
     "iopub.status.busy": "2022-01-01T02:06:58.402756Z",
     "iopub.status.idle": "2022-01-01T02:06:59.110582Z",
     "shell.execute_reply": "2022-01-01T02:06:59.109859Z",
     "shell.execute_reply.started": "2022-01-01T02:06:58.403134Z"
    }
   },
   "outputs": [
    {
     "data": {
      "text/plain": [
       "0"
      ]
     },
     "execution_count": 193,
     "metadata": {},
     "output_type": "execute_result"
    }
   ],
   "source": [
    "##Checking for duplicated data an dno duplicates\n",
    "data.duplicated().sum()"
   ]
  },
  {
   "cell_type": "code",
   "execution_count": 194,
   "metadata": {
    "execution": {
     "iopub.execute_input": "2022-01-01T02:06:59.112404Z",
     "iopub.status.busy": "2022-01-01T02:06:59.112212Z",
     "iopub.status.idle": "2022-01-01T02:06:59.253336Z",
     "shell.execute_reply": "2022-01-01T02:06:59.252559Z",
     "shell.execute_reply.started": "2022-01-01T02:06:59.112380Z"
    }
   },
   "outputs": [
    {
     "data": {
      "text/plain": [
       "date_of_last_rech_data_6    74.85\n",
       "date_of_last_rech_data_7    74.43\n",
       "date_of_last_rech_data_8    73.66\n",
       "date_of_last_rech_data_9    74.08\n",
       "total_rech_data_6           74.85\n",
       "total_rech_data_7           74.43\n",
       "total_rech_data_8           73.66\n",
       "total_rech_data_9           74.08\n",
       "max_rech_data_6             74.85\n",
       "max_rech_data_7             74.43\n",
       "max_rech_data_8             73.66\n",
       "max_rech_data_9             74.08\n",
       "count_rech_2g_6             74.85\n",
       "count_rech_2g_7             74.43\n",
       "count_rech_2g_8             73.66\n",
       "count_rech_2g_9             74.08\n",
       "count_rech_3g_6             74.85\n",
       "count_rech_3g_7             74.43\n",
       "count_rech_3g_8             73.66\n",
       "count_rech_3g_9             74.08\n",
       "av_rech_amt_data_6          74.85\n",
       "av_rech_amt_data_7          74.43\n",
       "av_rech_amt_data_8          73.66\n",
       "av_rech_amt_data_9          74.08\n",
       "arpu_3g_6                   74.85\n",
       "arpu_3g_7                   74.43\n",
       "arpu_3g_8                   73.66\n",
       "arpu_3g_9                   74.08\n",
       "arpu_2g_6                   74.85\n",
       "arpu_2g_7                   74.43\n",
       "arpu_2g_8                   73.66\n",
       "arpu_2g_9                   74.08\n",
       "night_pck_user_6            74.85\n",
       "night_pck_user_7            74.43\n",
       "night_pck_user_8            73.66\n",
       "night_pck_user_9            74.08\n",
       "fb_user_6                   74.85\n",
       "fb_user_7                   74.43\n",
       "fb_user_8                   73.66\n",
       "fb_user_9                   74.08\n",
       "dtype: float64"
      ]
     },
     "execution_count": 194,
     "metadata": {},
     "output_type": "execute_result"
    }
   ],
   "source": [
    "#### We have quite many columns and now let us find the null values and percentage of null values\n",
    "null_values=data.isnull().sum()/len(data)\n",
    "null_values_perc=round(null_values*100,2)\n",
    "null_values_perc[null_values.sort_values(ascending=False)>0.7]\n"
   ]
  },
  {
   "cell_type": "code",
   "execution_count": 195,
   "metadata": {
    "execution": {
     "iopub.execute_input": "2022-01-01T02:06:59.254919Z",
     "iopub.status.busy": "2022-01-01T02:06:59.254666Z",
     "iopub.status.idle": "2022-01-01T02:06:59.267287Z",
     "shell.execute_reply": "2022-01-01T02:06:59.266369Z",
     "shell.execute_reply.started": "2022-01-01T02:06:59.254885Z"
    }
   },
   "outputs": [
    {
     "data": {
      "text/plain": [
       "Index(['mobile_number', 'circle_id', 'total_rech_num_6', 'total_rech_num_7', 'total_rech_num_8', 'total_rech_num_9', 'total_rech_amt_6', 'total_rech_amt_7', 'total_rech_amt_8', 'total_rech_amt_9', 'max_rech_amt_6', 'max_rech_amt_7', 'max_rech_amt_8', 'max_rech_amt_9', 'last_day_rch_amt_6', 'last_day_rch_amt_7', 'last_day_rch_amt_8', 'last_day_rch_amt_9', 'monthly_2g_6', 'monthly_2g_7', 'monthly_2g_8', 'monthly_2g_9', 'sachet_2g_6', 'sachet_2g_7', 'sachet_2g_8', 'sachet_2g_9', 'monthly_3g_6', 'monthly_3g_7', 'monthly_3g_8', 'monthly_3g_9', 'sachet_3g_6', 'sachet_3g_7', 'sachet_3g_8', 'sachet_3g_9', 'aon'], dtype='object')"
      ]
     },
     "execution_count": 195,
     "metadata": {},
     "output_type": "execute_result"
    }
   ],
   "source": [
    "##We shall split into numerical and object columns\n",
    "numerical_int_cols=data.select_dtypes(include='int64')\n",
    "numerical_int_cols.columns"
   ]
  },
  {
   "cell_type": "code",
   "execution_count": 196,
   "metadata": {
    "execution": {
     "iopub.execute_input": "2022-01-01T02:06:59.269521Z",
     "iopub.status.busy": "2022-01-01T02:06:59.268944Z",
     "iopub.status.idle": "2022-01-01T02:06:59.322478Z",
     "shell.execute_reply": "2022-01-01T02:06:59.321674Z",
     "shell.execute_reply.started": "2022-01-01T02:06:59.269471Z"
    }
   },
   "outputs": [
    {
     "data": {
      "text/plain": [
       "Index(['loc_og_t2o_mou', 'std_og_t2o_mou', 'loc_ic_t2o_mou', 'arpu_6', 'arpu_7', 'arpu_8', 'arpu_9', 'onnet_mou_6', 'onnet_mou_7', 'onnet_mou_8',\n",
       "       ...\n",
       "       'night_pck_user_8', 'night_pck_user_9', 'fb_user_6', 'fb_user_7', 'fb_user_8', 'fb_user_9', 'aug_vbc_3g', 'jul_vbc_3g', 'jun_vbc_3g', 'sep_vbc_3g'], dtype='object', length=179)"
      ]
     },
     "execution_count": 196,
     "metadata": {},
     "output_type": "execute_result"
    }
   ],
   "source": [
    "numerical_float_cols=data.select_dtypes(include='float64')\n",
    "numerical_float_cols.columns"
   ]
  },
  {
   "cell_type": "code",
   "execution_count": 197,
   "metadata": {
    "execution": {
     "iopub.execute_input": "2022-01-01T02:06:59.324545Z",
     "iopub.status.busy": "2022-01-01T02:06:59.324248Z",
     "iopub.status.idle": "2022-01-01T02:06:59.342652Z",
     "shell.execute_reply": "2022-01-01T02:06:59.342048Z",
     "shell.execute_reply.started": "2022-01-01T02:06:59.324510Z"
    }
   },
   "outputs": [
    {
     "data": {
      "text/plain": [
       "Index(['last_date_of_month_6', 'last_date_of_month_7', 'last_date_of_month_8', 'last_date_of_month_9', 'date_of_last_rech_6', 'date_of_last_rech_7', 'date_of_last_rech_8', 'date_of_last_rech_9', 'date_of_last_rech_data_6', 'date_of_last_rech_data_7', 'date_of_last_rech_data_8', 'date_of_last_rech_data_9'], dtype='object')"
      ]
     },
     "execution_count": 197,
     "metadata": {},
     "output_type": "execute_result"
    }
   ],
   "source": [
    "object_cols=data.select_dtypes(include='object')\n",
    "object_cols.columns"
   ]
  },
  {
   "cell_type": "code",
   "execution_count": 198,
   "metadata": {
    "execution": {
     "iopub.execute_input": "2022-01-01T02:06:59.344132Z",
     "iopub.status.busy": "2022-01-01T02:06:59.343899Z",
     "iopub.status.idle": "2022-01-01T02:06:59.347879Z",
     "shell.execute_reply": "2022-01-01T02:06:59.347168Z",
     "shell.execute_reply.started": "2022-01-01T02:06:59.344101Z"
    }
   },
   "outputs": [],
   "source": [
    "numerical_columns=numerical_int_cols.columns.tolist()+numerical_float_cols.columns.tolist()\n"
   ]
  },
  {
   "cell_type": "code",
   "execution_count": 199,
   "metadata": {
    "execution": {
     "iopub.execute_input": "2022-01-01T02:06:59.349441Z",
     "iopub.status.busy": "2022-01-01T02:06:59.348929Z",
     "iopub.status.idle": "2022-01-01T02:06:59.356210Z",
     "shell.execute_reply": "2022-01-01T02:06:59.355297Z",
     "shell.execute_reply.started": "2022-01-01T02:06:59.349404Z"
    }
   },
   "outputs": [],
   "source": [
    "##It seems that the date and recharge column holds the maximum number of zeros. Let us investigate further\n",
    "date_column=[]\n",
    "recharge_column=[]\n",
    "for i in data.columns:\n",
    "    if 'date' in i:\n",
    "        date_column.append(i)\n",
    "    elif 'rech' in i:\n",
    "        recharge_column.append(i)\n"
   ]
  },
  {
   "cell_type": "code",
   "execution_count": 200,
   "metadata": {
    "execution": {
     "iopub.execute_input": "2022-01-01T02:06:59.358130Z",
     "iopub.status.busy": "2022-01-01T02:06:59.357324Z",
     "iopub.status.idle": "2022-01-01T02:06:59.366388Z",
     "shell.execute_reply": "2022-01-01T02:06:59.365665Z",
     "shell.execute_reply.started": "2022-01-01T02:06:59.358072Z"
    }
   },
   "outputs": [
    {
     "data": {
      "text/plain": [
       "['total_rech_num_6',\n",
       " 'total_rech_num_7',\n",
       " 'total_rech_num_8',\n",
       " 'total_rech_num_9',\n",
       " 'total_rech_amt_6',\n",
       " 'total_rech_amt_7',\n",
       " 'total_rech_amt_8',\n",
       " 'total_rech_amt_9',\n",
       " 'max_rech_amt_6',\n",
       " 'max_rech_amt_7',\n",
       " 'max_rech_amt_8',\n",
       " 'max_rech_amt_9',\n",
       " 'total_rech_data_6',\n",
       " 'total_rech_data_7',\n",
       " 'total_rech_data_8',\n",
       " 'total_rech_data_9',\n",
       " 'max_rech_data_6',\n",
       " 'max_rech_data_7',\n",
       " 'max_rech_data_8',\n",
       " 'max_rech_data_9',\n",
       " 'count_rech_2g_6',\n",
       " 'count_rech_2g_7',\n",
       " 'count_rech_2g_8',\n",
       " 'count_rech_2g_9',\n",
       " 'count_rech_3g_6',\n",
       " 'count_rech_3g_7',\n",
       " 'count_rech_3g_8',\n",
       " 'count_rech_3g_9',\n",
       " 'av_rech_amt_data_6',\n",
       " 'av_rech_amt_data_7',\n",
       " 'av_rech_amt_data_8',\n",
       " 'av_rech_amt_data_9']"
      ]
     },
     "execution_count": 200,
     "metadata": {},
     "output_type": "execute_result"
    }
   ],
   "source": [
    "recharge_column"
   ]
  },
  {
   "cell_type": "markdown",
   "metadata": {},
   "source": [
    "If we observe the recharge columns for the months of 6,7,8 and 9 there are the following descriptions:\n",
    "\n",
    "1. Total_reach_num ----> Total_Recharge_Number\n",
    "2. Max_reach_amt------> Amount in local currency\n",
    "3. total_reach_data---->Total recharge data\n",
    "4. Max_recharge_data---->Maximum recharge data\n",
    "5. av_rech_amt_data---->Average Recharge data"
   ]
  },
  {
   "cell_type": "code",
   "execution_count": 201,
   "metadata": {
    "execution": {
     "iopub.execute_input": "2022-01-01T02:06:59.368282Z",
     "iopub.status.busy": "2022-01-01T02:06:59.367540Z",
     "iopub.status.idle": "2022-01-01T02:06:59.539403Z",
     "shell.execute_reply": "2022-01-01T02:06:59.538685Z",
     "shell.execute_reply.started": "2022-01-01T02:06:59.368244Z"
    }
   },
   "outputs": [
    {
     "data": {
      "text/html": [
       "<div>\n",
       "<style scoped>\n",
       "    .dataframe tbody tr th:only-of-type {\n",
       "        vertical-align: middle;\n",
       "    }\n",
       "\n",
       "    .dataframe tbody tr th {\n",
       "        vertical-align: top;\n",
       "    }\n",
       "\n",
       "    .dataframe thead th {\n",
       "        text-align: right;\n",
       "    }\n",
       "</style>\n",
       "<table border=\"1\" class=\"dataframe\">\n",
       "  <thead>\n",
       "    <tr style=\"text-align: right;\">\n",
       "      <th></th>\n",
       "      <th>total_rech_num_6</th>\n",
       "      <th>total_rech_num_7</th>\n",
       "      <th>total_rech_num_8</th>\n",
       "      <th>total_rech_num_9</th>\n",
       "      <th>total_rech_amt_6</th>\n",
       "      <th>total_rech_amt_7</th>\n",
       "      <th>total_rech_amt_8</th>\n",
       "      <th>total_rech_amt_9</th>\n",
       "      <th>max_rech_amt_6</th>\n",
       "      <th>max_rech_amt_7</th>\n",
       "      <th>max_rech_amt_8</th>\n",
       "      <th>max_rech_amt_9</th>\n",
       "      <th>total_rech_data_6</th>\n",
       "      <th>total_rech_data_7</th>\n",
       "      <th>total_rech_data_8</th>\n",
       "      <th>total_rech_data_9</th>\n",
       "      <th>max_rech_data_6</th>\n",
       "      <th>max_rech_data_7</th>\n",
       "      <th>max_rech_data_8</th>\n",
       "      <th>max_rech_data_9</th>\n",
       "      <th>count_rech_2g_6</th>\n",
       "      <th>count_rech_2g_7</th>\n",
       "      <th>count_rech_2g_8</th>\n",
       "      <th>count_rech_2g_9</th>\n",
       "      <th>count_rech_3g_6</th>\n",
       "      <th>count_rech_3g_7</th>\n",
       "      <th>count_rech_3g_8</th>\n",
       "      <th>count_rech_3g_9</th>\n",
       "      <th>av_rech_amt_data_6</th>\n",
       "      <th>av_rech_amt_data_7</th>\n",
       "      <th>av_rech_amt_data_8</th>\n",
       "      <th>av_rech_amt_data_9</th>\n",
       "    </tr>\n",
       "  </thead>\n",
       "  <tbody>\n",
       "    <tr>\n",
       "      <th>count</th>\n",
       "      <td>99999.000000</td>\n",
       "      <td>99999.000000</td>\n",
       "      <td>99999.000000</td>\n",
       "      <td>99999.000000</td>\n",
       "      <td>99999.000000</td>\n",
       "      <td>99999.000000</td>\n",
       "      <td>99999.000000</td>\n",
       "      <td>99999.000000</td>\n",
       "      <td>99999.000000</td>\n",
       "      <td>99999.000000</td>\n",
       "      <td>99999.000000</td>\n",
       "      <td>99999.000000</td>\n",
       "      <td>25153.000000</td>\n",
       "      <td>25571.000000</td>\n",
       "      <td>26339.000000</td>\n",
       "      <td>25922.000000</td>\n",
       "      <td>25153.000000</td>\n",
       "      <td>25571.000000</td>\n",
       "      <td>26339.000000</td>\n",
       "      <td>25922.00000</td>\n",
       "      <td>25153.000000</td>\n",
       "      <td>25571.000000</td>\n",
       "      <td>26339.000000</td>\n",
       "      <td>25922.000000</td>\n",
       "      <td>25153.000000</td>\n",
       "      <td>25571.000000</td>\n",
       "      <td>26339.000000</td>\n",
       "      <td>25922.000000</td>\n",
       "      <td>25153.000000</td>\n",
       "      <td>25571.000000</td>\n",
       "      <td>26339.000000</td>\n",
       "      <td>25922.000000</td>\n",
       "    </tr>\n",
       "    <tr>\n",
       "      <th>mean</th>\n",
       "      <td>7.558806</td>\n",
       "      <td>7.700367</td>\n",
       "      <td>7.212912</td>\n",
       "      <td>6.893019</td>\n",
       "      <td>327.514615</td>\n",
       "      <td>322.962970</td>\n",
       "      <td>324.157122</td>\n",
       "      <td>303.345673</td>\n",
       "      <td>104.637486</td>\n",
       "      <td>104.752398</td>\n",
       "      <td>107.728207</td>\n",
       "      <td>101.943889</td>\n",
       "      <td>2.463802</td>\n",
       "      <td>2.666419</td>\n",
       "      <td>2.651999</td>\n",
       "      <td>2.441170</td>\n",
       "      <td>126.393392</td>\n",
       "      <td>126.729459</td>\n",
       "      <td>125.717301</td>\n",
       "      <td>124.94144</td>\n",
       "      <td>1.864668</td>\n",
       "      <td>2.044699</td>\n",
       "      <td>2.016288</td>\n",
       "      <td>1.781807</td>\n",
       "      <td>0.599133</td>\n",
       "      <td>0.621720</td>\n",
       "      <td>0.635711</td>\n",
       "      <td>0.659363</td>\n",
       "      <td>192.600982</td>\n",
       "      <td>200.981292</td>\n",
       "      <td>197.526489</td>\n",
       "      <td>192.734315</td>\n",
       "    </tr>\n",
       "    <tr>\n",
       "      <th>std</th>\n",
       "      <td>7.078405</td>\n",
       "      <td>7.070422</td>\n",
       "      <td>7.203753</td>\n",
       "      <td>7.096261</td>\n",
       "      <td>398.019701</td>\n",
       "      <td>408.114237</td>\n",
       "      <td>416.540455</td>\n",
       "      <td>404.588583</td>\n",
       "      <td>120.614894</td>\n",
       "      <td>124.523970</td>\n",
       "      <td>126.902505</td>\n",
       "      <td>125.375109</td>\n",
       "      <td>2.789128</td>\n",
       "      <td>3.031593</td>\n",
       "      <td>3.074987</td>\n",
       "      <td>2.516339</td>\n",
       "      <td>108.477235</td>\n",
       "      <td>109.765267</td>\n",
       "      <td>109.437851</td>\n",
       "      <td>111.36376</td>\n",
       "      <td>2.570254</td>\n",
       "      <td>2.768332</td>\n",
       "      <td>2.720132</td>\n",
       "      <td>2.214701</td>\n",
       "      <td>1.274428</td>\n",
       "      <td>1.394524</td>\n",
       "      <td>1.422827</td>\n",
       "      <td>1.411513</td>\n",
       "      <td>192.646318</td>\n",
       "      <td>196.791224</td>\n",
       "      <td>191.301305</td>\n",
       "      <td>188.400286</td>\n",
       "    </tr>\n",
       "    <tr>\n",
       "      <th>min</th>\n",
       "      <td>0.000000</td>\n",
       "      <td>0.000000</td>\n",
       "      <td>0.000000</td>\n",
       "      <td>0.000000</td>\n",
       "      <td>0.000000</td>\n",
       "      <td>0.000000</td>\n",
       "      <td>0.000000</td>\n",
       "      <td>0.000000</td>\n",
       "      <td>0.000000</td>\n",
       "      <td>0.000000</td>\n",
       "      <td>0.000000</td>\n",
       "      <td>0.000000</td>\n",
       "      <td>1.000000</td>\n",
       "      <td>1.000000</td>\n",
       "      <td>1.000000</td>\n",
       "      <td>1.000000</td>\n",
       "      <td>1.000000</td>\n",
       "      <td>1.000000</td>\n",
       "      <td>1.000000</td>\n",
       "      <td>1.00000</td>\n",
       "      <td>0.000000</td>\n",
       "      <td>0.000000</td>\n",
       "      <td>0.000000</td>\n",
       "      <td>0.000000</td>\n",
       "      <td>0.000000</td>\n",
       "      <td>0.000000</td>\n",
       "      <td>0.000000</td>\n",
       "      <td>0.000000</td>\n",
       "      <td>1.000000</td>\n",
       "      <td>0.500000</td>\n",
       "      <td>0.500000</td>\n",
       "      <td>1.000000</td>\n",
       "    </tr>\n",
       "    <tr>\n",
       "      <th>25%</th>\n",
       "      <td>3.000000</td>\n",
       "      <td>3.000000</td>\n",
       "      <td>3.000000</td>\n",
       "      <td>3.000000</td>\n",
       "      <td>109.000000</td>\n",
       "      <td>100.000000</td>\n",
       "      <td>90.000000</td>\n",
       "      <td>52.000000</td>\n",
       "      <td>30.000000</td>\n",
       "      <td>30.000000</td>\n",
       "      <td>30.000000</td>\n",
       "      <td>28.000000</td>\n",
       "      <td>1.000000</td>\n",
       "      <td>1.000000</td>\n",
       "      <td>1.000000</td>\n",
       "      <td>1.000000</td>\n",
       "      <td>25.000000</td>\n",
       "      <td>25.000000</td>\n",
       "      <td>25.000000</td>\n",
       "      <td>25.00000</td>\n",
       "      <td>1.000000</td>\n",
       "      <td>1.000000</td>\n",
       "      <td>1.000000</td>\n",
       "      <td>1.000000</td>\n",
       "      <td>0.000000</td>\n",
       "      <td>0.000000</td>\n",
       "      <td>0.000000</td>\n",
       "      <td>0.000000</td>\n",
       "      <td>82.000000</td>\n",
       "      <td>92.000000</td>\n",
       "      <td>87.000000</td>\n",
       "      <td>69.000000</td>\n",
       "    </tr>\n",
       "    <tr>\n",
       "      <th>50%</th>\n",
       "      <td>6.000000</td>\n",
       "      <td>6.000000</td>\n",
       "      <td>5.000000</td>\n",
       "      <td>5.000000</td>\n",
       "      <td>230.000000</td>\n",
       "      <td>220.000000</td>\n",
       "      <td>225.000000</td>\n",
       "      <td>200.000000</td>\n",
       "      <td>110.000000</td>\n",
       "      <td>110.000000</td>\n",
       "      <td>98.000000</td>\n",
       "      <td>61.000000</td>\n",
       "      <td>1.000000</td>\n",
       "      <td>1.000000</td>\n",
       "      <td>1.000000</td>\n",
       "      <td>2.000000</td>\n",
       "      <td>145.000000</td>\n",
       "      <td>145.000000</td>\n",
       "      <td>145.000000</td>\n",
       "      <td>145.00000</td>\n",
       "      <td>1.000000</td>\n",
       "      <td>1.000000</td>\n",
       "      <td>1.000000</td>\n",
       "      <td>1.000000</td>\n",
       "      <td>0.000000</td>\n",
       "      <td>0.000000</td>\n",
       "      <td>0.000000</td>\n",
       "      <td>0.000000</td>\n",
       "      <td>154.000000</td>\n",
       "      <td>154.000000</td>\n",
       "      <td>154.000000</td>\n",
       "      <td>164.000000</td>\n",
       "    </tr>\n",
       "    <tr>\n",
       "      <th>75%</th>\n",
       "      <td>9.000000</td>\n",
       "      <td>10.000000</td>\n",
       "      <td>9.000000</td>\n",
       "      <td>9.000000</td>\n",
       "      <td>437.500000</td>\n",
       "      <td>428.000000</td>\n",
       "      <td>434.500000</td>\n",
       "      <td>415.000000</td>\n",
       "      <td>120.000000</td>\n",
       "      <td>128.000000</td>\n",
       "      <td>144.000000</td>\n",
       "      <td>144.000000</td>\n",
       "      <td>3.000000</td>\n",
       "      <td>3.000000</td>\n",
       "      <td>3.000000</td>\n",
       "      <td>3.000000</td>\n",
       "      <td>177.000000</td>\n",
       "      <td>177.000000</td>\n",
       "      <td>179.000000</td>\n",
       "      <td>179.00000</td>\n",
       "      <td>2.000000</td>\n",
       "      <td>2.000000</td>\n",
       "      <td>2.000000</td>\n",
       "      <td>2.000000</td>\n",
       "      <td>1.000000</td>\n",
       "      <td>1.000000</td>\n",
       "      <td>1.000000</td>\n",
       "      <td>1.000000</td>\n",
       "      <td>252.000000</td>\n",
       "      <td>252.000000</td>\n",
       "      <td>252.000000</td>\n",
       "      <td>252.000000</td>\n",
       "    </tr>\n",
       "    <tr>\n",
       "      <th>max</th>\n",
       "      <td>307.000000</td>\n",
       "      <td>138.000000</td>\n",
       "      <td>196.000000</td>\n",
       "      <td>131.000000</td>\n",
       "      <td>35190.000000</td>\n",
       "      <td>40335.000000</td>\n",
       "      <td>45320.000000</td>\n",
       "      <td>37235.000000</td>\n",
       "      <td>4010.000000</td>\n",
       "      <td>4010.000000</td>\n",
       "      <td>4449.000000</td>\n",
       "      <td>3399.000000</td>\n",
       "      <td>61.000000</td>\n",
       "      <td>54.000000</td>\n",
       "      <td>60.000000</td>\n",
       "      <td>84.000000</td>\n",
       "      <td>1555.000000</td>\n",
       "      <td>1555.000000</td>\n",
       "      <td>1555.000000</td>\n",
       "      <td>1555.00000</td>\n",
       "      <td>42.000000</td>\n",
       "      <td>48.000000</td>\n",
       "      <td>44.000000</td>\n",
       "      <td>40.000000</td>\n",
       "      <td>29.000000</td>\n",
       "      <td>35.000000</td>\n",
       "      <td>45.000000</td>\n",
       "      <td>49.000000</td>\n",
       "      <td>7546.000000</td>\n",
       "      <td>4365.000000</td>\n",
       "      <td>4076.000000</td>\n",
       "      <td>4061.000000</td>\n",
       "    </tr>\n",
       "  </tbody>\n",
       "</table>\n",
       "</div>"
      ],
      "text/plain": [
       "       total_rech_num_6  total_rech_num_7  total_rech_num_8  total_rech_num_9  total_rech_amt_6  total_rech_amt_7  total_rech_amt_8  total_rech_amt_9  max_rech_amt_6  max_rech_amt_7  max_rech_amt_8  max_rech_amt_9  total_rech_data_6  total_rech_data_7  total_rech_data_8  total_rech_data_9  max_rech_data_6  max_rech_data_7  max_rech_data_8  max_rech_data_9  count_rech_2g_6  count_rech_2g_7  count_rech_2g_8  count_rech_2g_9  count_rech_3g_6  count_rech_3g_7  count_rech_3g_8  count_rech_3g_9  av_rech_amt_data_6  av_rech_amt_data_7  av_rech_amt_data_8  av_rech_amt_data_9\n",
       "count  99999.000000      99999.000000      99999.000000      99999.000000      99999.000000      99999.000000      99999.000000      99999.000000      99999.000000    99999.000000    99999.000000    99999.000000    25153.000000       25571.000000       26339.000000       25922.000000       25153.000000     25571.000000     26339.000000     25922.00000      25153.000000     25571.000000     26339.000000     25922.000000     25153.000000     25571.000000     26339.000000     25922.000000     25153.000000        25571.000000        26339.000000        25922.000000      \n",
       "mean   7.558806          7.700367          7.212912          6.893019          327.514615        322.962970        324.157122        303.345673        104.637486      104.752398      107.728207      101.943889      2.463802           2.666419           2.651999           2.441170           126.393392       126.729459       125.717301       124.94144        1.864668         2.044699         2.016288         1.781807         0.599133         0.621720         0.635711         0.659363         192.600982          200.981292          197.526489          192.734315        \n",
       "std    7.078405          7.070422          7.203753          7.096261          398.019701        408.114237        416.540455        404.588583        120.614894      124.523970      126.902505      125.375109      2.789128           3.031593           3.074987           2.516339           108.477235       109.765267       109.437851       111.36376        2.570254         2.768332         2.720132         2.214701         1.274428         1.394524         1.422827         1.411513         192.646318          196.791224          191.301305          188.400286        \n",
       "min    0.000000          0.000000          0.000000          0.000000          0.000000          0.000000          0.000000          0.000000          0.000000        0.000000        0.000000        0.000000        1.000000           1.000000           1.000000           1.000000           1.000000         1.000000         1.000000         1.00000          0.000000         0.000000         0.000000         0.000000         0.000000         0.000000         0.000000         0.000000         1.000000            0.500000            0.500000            1.000000          \n",
       "25%    3.000000          3.000000          3.000000          3.000000          109.000000        100.000000        90.000000         52.000000         30.000000       30.000000       30.000000       28.000000       1.000000           1.000000           1.000000           1.000000           25.000000        25.000000        25.000000        25.00000         1.000000         1.000000         1.000000         1.000000         0.000000         0.000000         0.000000         0.000000         82.000000           92.000000           87.000000           69.000000         \n",
       "50%    6.000000          6.000000          5.000000          5.000000          230.000000        220.000000        225.000000        200.000000        110.000000      110.000000      98.000000       61.000000       1.000000           1.000000           1.000000           2.000000           145.000000       145.000000       145.000000       145.00000        1.000000         1.000000         1.000000         1.000000         0.000000         0.000000         0.000000         0.000000         154.000000          154.000000          154.000000          164.000000        \n",
       "75%    9.000000          10.000000         9.000000          9.000000          437.500000        428.000000        434.500000        415.000000        120.000000      128.000000      144.000000      144.000000      3.000000           3.000000           3.000000           3.000000           177.000000       177.000000       179.000000       179.00000        2.000000         2.000000         2.000000         2.000000         1.000000         1.000000         1.000000         1.000000         252.000000          252.000000          252.000000          252.000000        \n",
       "max    307.000000        138.000000        196.000000        131.000000        35190.000000      40335.000000      45320.000000      37235.000000      4010.000000     4010.000000     4449.000000     3399.000000     61.000000          54.000000          60.000000          84.000000          1555.000000      1555.000000      1555.000000      1555.00000       42.000000        48.000000        44.000000        40.000000        29.000000        35.000000        45.000000        49.000000        7546.000000         4365.000000         4076.000000         4061.000000       "
      ]
     },
     "execution_count": 201,
     "metadata": {},
     "output_type": "execute_result"
    }
   ],
   "source": [
    "## Analysing the statistical parameters of the reach colums\n",
    "\n",
    "data[recharge_column].describe()"
   ]
  },
  {
   "cell_type": "markdown",
   "metadata": {},
   "source": [
    "We shall extarct the last recharge date and the recharge pattern of the months "
   ]
  },
  {
   "cell_type": "code",
   "execution_count": 202,
   "metadata": {
    "execution": {
     "iopub.execute_input": "2022-01-01T02:06:59.545321Z",
     "iopub.status.busy": "2022-01-01T02:06:59.544770Z",
     "iopub.status.idle": "2022-01-01T02:06:59.783154Z",
     "shell.execute_reply": "2022-01-01T02:06:59.782393Z",
     "shell.execute_reply.started": "2022-01-01T02:06:59.545288Z"
    }
   },
   "outputs": [
    {
     "name": "stdout",
     "output_type": "stream",
     "text": [
      "total_rech_data_6 74846\n",
      "total_rech_data_7 74428\n",
      "total_rech_data_8 73660\n",
      "total_rech_data_9 74077\n"
     ]
    }
   ],
   "source": [
    "l1=['total_rech_data_6','total_rech_data_7','total_rech_data_8','total_rech_data_9']\n",
    "l2=['date_of_last_rech_data_6','date_of_last_rech_data_7','date_of_last_rech_data_8','date_of_last_rech_data_9']\n",
    "for i,j  in zip(l1,l2):\n",
    "    print(i, len(data.loc[data[i].isnull() & data[j].isnull()]))\n",
    "\n"
   ]
  },
  {
   "cell_type": "code",
   "execution_count": 203,
   "metadata": {
    "execution": {
     "iopub.execute_input": "2022-01-01T02:06:59.784550Z",
     "iopub.status.busy": "2022-01-01T02:06:59.784305Z",
     "iopub.status.idle": "2022-01-01T02:07:00.021506Z",
     "shell.execute_reply": "2022-01-01T02:07:00.020717Z",
     "shell.execute_reply.started": "2022-01-01T02:06:59.784514Z"
    }
   },
   "outputs": [
    {
     "name": "stdout",
     "output_type": "stream",
     "text": [
      "av_rech_amt_data_6 74846\n",
      "av_rech_amt_data_7 74428\n",
      "av_rech_amt_data_8 73660\n",
      "av_rech_amt_data_9 74077\n"
     ]
    }
   ],
   "source": [
    "##Extending the check for all average recharge of all months with respect to the \n",
    "\n",
    "l1=['av_rech_amt_data_6', 'av_rech_amt_data_7', 'av_rech_amt_data_8', 'av_rech_amt_data_9']\n",
    "l2=['date_of_last_rech_data_6','date_of_last_rech_data_7','date_of_last_rech_data_8','date_of_last_rech_data_9']\n",
    "for i,j  in zip(l1,l2):\n",
    "    print(i, len(data.loc[data[i].isnull() & data[j].isnull()]))\n",
    "\n"
   ]
  },
  {
   "cell_type": "code",
   "execution_count": 204,
   "metadata": {
    "execution": {
     "iopub.execute_input": "2022-01-01T02:07:00.023445Z",
     "iopub.status.busy": "2022-01-01T02:07:00.023033Z",
     "iopub.status.idle": "2022-01-01T02:07:00.267487Z",
     "shell.execute_reply": "2022-01-01T02:07:00.266703Z",
     "shell.execute_reply.started": "2022-01-01T02:07:00.023406Z"
    }
   },
   "outputs": [
    {
     "name": "stdout",
     "output_type": "stream",
     "text": [
      "max_rech_data_6 74846\n",
      "max_rech_data_7 74428\n",
      "max_rech_data_8 73660\n",
      "max_rech_data_9 74077\n"
     ]
    }
   ],
   "source": [
    "l1=['max_rech_data_6', 'max_rech_data_7', 'max_rech_data_8', 'max_rech_data_9']\n",
    "l2=['date_of_last_rech_data_6','date_of_last_rech_data_7','date_of_last_rech_data_8','date_of_last_rech_data_9']\n",
    "for i,j  in zip(l1,l2):\n",
    "    print(i, len(data.loc[data[i].isnull() & data[j].isnull()]))\n"
   ]
  },
  {
   "cell_type": "code",
   "execution_count": 205,
   "metadata": {
    "execution": {
     "iopub.execute_input": "2022-01-01T02:07:00.269054Z",
     "iopub.status.busy": "2022-01-01T02:07:00.268791Z",
     "iopub.status.idle": "2022-01-01T02:07:00.508152Z",
     "shell.execute_reply": "2022-01-01T02:07:00.507297Z",
     "shell.execute_reply.started": "2022-01-01T02:07:00.269019Z"
    }
   },
   "outputs": [
    {
     "name": "stdout",
     "output_type": "stream",
     "text": [
      "count_rech_2g_6 74846\n",
      "count_rech_2g_7 74428\n",
      "count_rech_2g_8 73660\n",
      "count_rech_2g_9 74077\n"
     ]
    }
   ],
   "source": [
    "l1=['count_rech_2g_6', 'count_rech_2g_7', 'count_rech_2g_8', 'count_rech_2g_9']\n",
    "l2=['date_of_last_rech_data_6','date_of_last_rech_data_7','date_of_last_rech_data_8','date_of_last_rech_data_9']\n",
    "for i,j  in zip(l1,l2):\n",
    "    print(i, len(data.loc[data[i].isnull() & (data[j].isnull())]))\n"
   ]
  },
  {
   "cell_type": "code",
   "execution_count": 206,
   "metadata": {
    "execution": {
     "iopub.execute_input": "2022-01-01T02:07:00.509766Z",
     "iopub.status.busy": "2022-01-01T02:07:00.509519Z",
     "iopub.status.idle": "2022-01-01T02:07:00.754533Z",
     "shell.execute_reply": "2022-01-01T02:07:00.753709Z",
     "shell.execute_reply.started": "2022-01-01T02:07:00.509732Z"
    }
   },
   "outputs": [
    {
     "name": "stdout",
     "output_type": "stream",
     "text": [
      "count_rech_3g_6 74846\n",
      "count_rech_3g_7 74428\n",
      "count_rech_3g_8 73660\n",
      "count_rech_3g_9 74077\n"
     ]
    }
   ],
   "source": [
    "l1=['count_rech_3g_6', 'count_rech_3g_7', 'count_rech_3g_8', 'count_rech_3g_9']\n",
    "l2=['date_of_last_rech_data_6','date_of_last_rech_data_7','date_of_last_rech_data_8','date_of_last_rech_data_9']\n",
    "for i,j  in zip(l1,l2):\n",
    "    print(i, len(data.loc[data[i].isnull() & (data[j].isnull())]))\n"
   ]
  },
  {
   "cell_type": "markdown",
   "metadata": {},
   "source": [
    "Important Observation:\n",
    "    1. We observe that all of the recharge columns showing null values provided that the recharge date column is also null\n",
    "    2. We shall impute the value to 0 as n recharge is done\n"
   ]
  },
  {
   "cell_type": "code",
   "execution_count": 207,
   "metadata": {
    "execution": {
     "iopub.execute_input": "2022-01-01T02:07:00.756036Z",
     "iopub.status.busy": "2022-01-01T02:07:00.755757Z",
     "iopub.status.idle": "2022-01-01T02:07:00.760979Z",
     "shell.execute_reply": "2022-01-01T02:07:00.759988Z",
     "shell.execute_reply.started": "2022-01-01T02:07:00.755984Z"
    }
   },
   "outputs": [],
   "source": [
    "zero_impute=['total_rech_data_6','total_rech_data_7','total_rech_data_8','total_rech_data_9',\n",
    "            'av_rech_amt_data_6', 'av_rech_amt_data_7', 'av_rech_amt_data_8', 'av_rech_amt_data_9',\n",
    "           'max_rech_data_6', 'max_rech_data_7', 'max_rech_data_8', 'max_rech_data_9',\n",
    "            'count_rech_2g_6', 'count_rech_2g_7', 'count_rech_2g_8', \n",
    "             'count_rech_2g_9','count_rech_3g_6', 'count_rech_3g_7', 'count_rech_3g_8', 'count_rech_3g_9']"
   ]
  },
  {
   "cell_type": "code",
   "execution_count": 208,
   "metadata": {
    "execution": {
     "iopub.execute_input": "2022-01-01T02:07:00.762891Z",
     "iopub.status.busy": "2022-01-01T02:07:00.762377Z",
     "iopub.status.idle": "2022-01-01T02:07:00.801326Z",
     "shell.execute_reply": "2022-01-01T02:07:00.800582Z",
     "shell.execute_reply.started": "2022-01-01T02:07:00.762855Z"
    }
   },
   "outputs": [],
   "source": [
    "data[zero_impute]=data[zero_impute].apply(lambda x: x.fillna(0))"
   ]
  },
  {
   "cell_type": "code",
   "execution_count": 209,
   "metadata": {
    "execution": {
     "iopub.execute_input": "2022-01-01T02:07:00.803038Z",
     "iopub.status.busy": "2022-01-01T02:07:00.802756Z",
     "iopub.status.idle": "2022-01-01T02:07:00.943055Z",
     "shell.execute_reply": "2022-01-01T02:07:00.942166Z",
     "shell.execute_reply.started": "2022-01-01T02:07:00.802989Z"
    }
   },
   "outputs": [
    {
     "data": {
      "text/plain": [
       "date_of_last_rech_data_6    74.85\n",
       "date_of_last_rech_data_7    74.43\n",
       "date_of_last_rech_data_8    73.66\n",
       "date_of_last_rech_data_9    74.08\n",
       "arpu_3g_6                   74.85\n",
       "arpu_3g_7                   74.43\n",
       "arpu_3g_8                   73.66\n",
       "arpu_3g_9                   74.08\n",
       "arpu_2g_6                   74.85\n",
       "arpu_2g_7                   74.43\n",
       "arpu_2g_8                   73.66\n",
       "arpu_2g_9                   74.08\n",
       "night_pck_user_6            74.85\n",
       "night_pck_user_7            74.43\n",
       "night_pck_user_8            73.66\n",
       "night_pck_user_9            74.08\n",
       "fb_user_6                   74.85\n",
       "fb_user_7                   74.43\n",
       "fb_user_8                   73.66\n",
       "fb_user_9                   74.08\n",
       "dtype: float64"
      ]
     },
     "execution_count": 209,
     "metadata": {},
     "output_type": "execute_result"
    }
   ],
   "source": [
    "##Checking the missing values again\n",
    "#### We have quite many columns and now let us find the null values and percentage of null values\n",
    "null_values=data.isnull().sum()/len(data)\n",
    "null_values_perc=round(null_values*100,2)\n",
    "null_values_perc[null_values.sort_values(ascending=False)>0.6]"
   ]
  },
  {
   "cell_type": "code",
   "execution_count": 210,
   "metadata": {
    "execution": {
     "iopub.execute_input": "2022-01-01T02:07:00.944842Z",
     "iopub.status.busy": "2022-01-01T02:07:00.944588Z",
     "iopub.status.idle": "2022-01-01T02:07:01.002335Z",
     "shell.execute_reply": "2022-01-01T02:07:01.001570Z",
     "shell.execute_reply.started": "2022-01-01T02:07:00.944808Z"
    }
   },
   "outputs": [],
   "source": [
    "## We shall remove all the above missing values >60%\n",
    "\n",
    "to_remove=null_values_perc[null_values.sort_values(ascending=False)>0.6].index.tolist()\n",
    "data.drop(to_remove,inplace=True,axis=1)"
   ]
  },
  {
   "cell_type": "code",
   "execution_count": 211,
   "metadata": {
    "execution": {
     "iopub.execute_input": "2022-01-01T02:07:01.004019Z",
     "iopub.status.busy": "2022-01-01T02:07:01.003751Z",
     "iopub.status.idle": "2022-01-01T02:07:01.124240Z",
     "shell.execute_reply": "2022-01-01T02:07:01.123463Z",
     "shell.execute_reply.started": "2022-01-01T02:07:01.003972Z"
    }
   },
   "outputs": [
    {
     "data": {
      "text/plain": [
       "loc_og_t2o_mou          1.02\n",
       "std_og_t2o_mou          1.02\n",
       "loc_ic_t2o_mou          1.02\n",
       "last_date_of_month_7    0.60\n",
       "last_date_of_month_8    1.10\n",
       "last_date_of_month_9    1.66\n",
       "onnet_mou_6             3.94\n",
       "onnet_mou_7             3.86\n",
       "onnet_mou_8             5.38\n",
       "onnet_mou_9             7.75\n",
       "offnet_mou_6            3.94\n",
       "offnet_mou_7            3.86\n",
       "offnet_mou_8            5.38\n",
       "offnet_mou_9            7.75\n",
       "roam_ic_mou_6           3.94\n",
       "roam_ic_mou_7           3.86\n",
       "roam_ic_mou_8           5.38\n",
       "roam_ic_mou_9           7.75\n",
       "roam_og_mou_6           3.94\n",
       "roam_og_mou_7           3.86\n",
       "roam_og_mou_8           5.38\n",
       "roam_og_mou_9           7.75\n",
       "loc_og_t2t_mou_6        3.94\n",
       "loc_og_t2t_mou_7        3.86\n",
       "loc_og_t2t_mou_8        5.38\n",
       "loc_og_t2t_mou_9        7.75\n",
       "loc_og_t2m_mou_6        3.94\n",
       "loc_og_t2m_mou_7        3.86\n",
       "loc_og_t2m_mou_8        5.38\n",
       "loc_og_t2m_mou_9        7.75\n",
       "loc_og_t2f_mou_6        3.94\n",
       "loc_og_t2f_mou_7        3.86\n",
       "loc_og_t2f_mou_8        5.38\n",
       "loc_og_t2f_mou_9        7.75\n",
       "loc_og_t2c_mou_6        3.94\n",
       "loc_og_t2c_mou_7        3.86\n",
       "loc_og_t2c_mou_8        5.38\n",
       "loc_og_t2c_mou_9        7.75\n",
       "loc_og_mou_6            3.94\n",
       "loc_og_mou_7            3.86\n",
       "loc_og_mou_8            5.38\n",
       "loc_og_mou_9            7.75\n",
       "std_og_t2t_mou_6        3.94\n",
       "std_og_t2t_mou_7        3.86\n",
       "std_og_t2t_mou_8        5.38\n",
       "std_og_t2t_mou_9        7.75\n",
       "std_og_t2m_mou_6        3.94\n",
       "std_og_t2m_mou_7        3.86\n",
       "std_og_t2m_mou_8        5.38\n",
       "std_og_t2m_mou_9        7.75\n",
       "std_og_t2f_mou_6        3.94\n",
       "std_og_t2f_mou_7        3.86\n",
       "std_og_t2f_mou_8        5.38\n",
       "std_og_t2f_mou_9        7.75\n",
       "std_og_t2c_mou_6        3.94\n",
       "std_og_t2c_mou_7        3.86\n",
       "std_og_t2c_mou_8        5.38\n",
       "std_og_t2c_mou_9        7.75\n",
       "std_og_mou_6            3.94\n",
       "std_og_mou_7            3.86\n",
       "std_og_mou_8            5.38\n",
       "std_og_mou_9            7.75\n",
       "isd_og_mou_6            3.94\n",
       "isd_og_mou_7            3.86\n",
       "isd_og_mou_8            5.38\n",
       "isd_og_mou_9            7.75\n",
       "spl_og_mou_6            3.94\n",
       "spl_og_mou_7            3.86\n",
       "spl_og_mou_8            5.38\n",
       "spl_og_mou_9            7.75\n",
       "og_others_6             3.94\n",
       "og_others_7             3.86\n",
       "og_others_8             5.38\n",
       "og_others_9             7.75\n",
       "loc_ic_t2t_mou_6        3.94\n",
       "loc_ic_t2t_mou_7        3.86\n",
       "loc_ic_t2t_mou_8        5.38\n",
       "loc_ic_t2t_mou_9        7.75\n",
       "loc_ic_t2m_mou_6        3.94\n",
       "loc_ic_t2m_mou_7        3.86\n",
       "loc_ic_t2m_mou_8        5.38\n",
       "loc_ic_t2m_mou_9        7.75\n",
       "loc_ic_t2f_mou_6        3.94\n",
       "loc_ic_t2f_mou_7        3.86\n",
       "loc_ic_t2f_mou_8        5.38\n",
       "loc_ic_t2f_mou_9        7.75\n",
       "loc_ic_mou_6            3.94\n",
       "loc_ic_mou_7            3.86\n",
       "loc_ic_mou_8            5.38\n",
       "loc_ic_mou_9            7.75\n",
       "std_ic_t2t_mou_6        3.94\n",
       "std_ic_t2t_mou_7        3.86\n",
       "std_ic_t2t_mou_8        5.38\n",
       "std_ic_t2t_mou_9        7.75\n",
       "std_ic_t2m_mou_6        3.94\n",
       "std_ic_t2m_mou_7        3.86\n",
       "std_ic_t2m_mou_8        5.38\n",
       "std_ic_t2m_mou_9        7.75\n",
       "std_ic_t2f_mou_6        3.94\n",
       "std_ic_t2f_mou_7        3.86\n",
       "std_ic_t2f_mou_8        5.38\n",
       "std_ic_t2f_mou_9        7.75\n",
       "std_ic_t2o_mou_6        3.94\n",
       "std_ic_t2o_mou_7        3.86\n",
       "std_ic_t2o_mou_8        5.38\n",
       "std_ic_t2o_mou_9        7.75\n",
       "std_ic_mou_6            3.94\n",
       "std_ic_mou_7            3.86\n",
       "std_ic_mou_8            5.38\n",
       "std_ic_mou_9            7.75\n",
       "spl_ic_mou_6            3.94\n",
       "spl_ic_mou_7            3.86\n",
       "spl_ic_mou_8            5.38\n",
       "spl_ic_mou_9            7.75\n",
       "isd_ic_mou_6            3.94\n",
       "isd_ic_mou_7            3.86\n",
       "isd_ic_mou_8            5.38\n",
       "isd_ic_mou_9            7.75\n",
       "ic_others_6             3.94\n",
       "ic_others_7             3.86\n",
       "ic_others_8             5.38\n",
       "ic_others_9             7.75\n",
       "date_of_last_rech_6     1.61\n",
       "date_of_last_rech_7     1.77\n",
       "date_of_last_rech_8     3.62\n",
       "date_of_last_rech_9     4.76\n",
       "dtype: float64"
      ]
     },
     "execution_count": 211,
     "metadata": {},
     "output_type": "execute_result"
    }
   ],
   "source": [
    "##Checking null values again\n",
    "\n",
    "null_values=data.isnull().sum()/len(data)\n",
    "null_values_perc=round(null_values*100,2)\n",
    "null_values_perc[null_values.sort_values(ascending=False)>0]"
   ]
  },
  {
   "cell_type": "code",
   "execution_count": 212,
   "metadata": {
    "execution": {
     "iopub.execute_input": "2022-01-01T02:07:01.126080Z",
     "iopub.status.busy": "2022-01-01T02:07:01.125780Z",
     "iopub.status.idle": "2022-01-01T02:07:01.177638Z",
     "shell.execute_reply": "2022-01-01T02:07:01.176845Z",
     "shell.execute_reply.started": "2022-01-01T02:07:01.126043Z"
    }
   },
   "outputs": [],
   "source": [
    "##Removing the date and id columns\n",
    "\n",
    "data.drop(['circle_id','date_of_last_rech_6','date_of_last_rech_7',\n",
    "          'date_of_last_rech_8','date_of_last_rech_9','last_date_of_month_6','last_date_of_month_7',\n",
    "          'last_date_of_month_8','last_date_of_month_9'],axis=1,inplace=True)"
   ]
  },
  {
   "cell_type": "code",
   "execution_count": 213,
   "metadata": {
    "execution": {
     "iopub.execute_input": "2022-01-01T02:07:01.179336Z",
     "iopub.status.busy": "2022-01-01T02:07:01.178833Z",
     "iopub.status.idle": "2022-01-01T02:07:01.220657Z",
     "shell.execute_reply": "2022-01-01T02:07:01.220040Z",
     "shell.execute_reply.started": "2022-01-01T02:07:01.179298Z"
    }
   },
   "outputs": [],
   "source": [
    "##We hall use the KNN imputer to treat the rest of the missing values\n",
    "\n",
    "null_values=data.isnull().sum()/len(data)\n",
    "null_values_perc=round(null_values*100,2)\n",
    "null_values_perc=null_values_perc[null_values.sort_values(ascending=False)>0]\n"
   ]
  },
  {
   "cell_type": "markdown",
   "metadata": {},
   "source": [
    "Checking the statistical parameters of the missing values"
   ]
  },
  {
   "cell_type": "code",
   "execution_count": 214,
   "metadata": {
    "execution": {
     "iopub.execute_input": "2022-01-01T02:07:01.222329Z",
     "iopub.status.busy": "2022-01-01T02:07:01.222148Z",
     "iopub.status.idle": "2022-01-01T02:07:02.039023Z",
     "shell.execute_reply": "2022-01-01T02:07:02.038091Z",
     "shell.execute_reply.started": "2022-01-01T02:07:01.222305Z"
    }
   },
   "outputs": [
    {
     "data": {
      "text/html": [
       "<div>\n",
       "<style scoped>\n",
       "    .dataframe tbody tr th:only-of-type {\n",
       "        vertical-align: middle;\n",
       "    }\n",
       "\n",
       "    .dataframe tbody tr th {\n",
       "        vertical-align: top;\n",
       "    }\n",
       "\n",
       "    .dataframe thead th {\n",
       "        text-align: right;\n",
       "    }\n",
       "</style>\n",
       "<table border=\"1\" class=\"dataframe\">\n",
       "  <thead>\n",
       "    <tr style=\"text-align: right;\">\n",
       "      <th></th>\n",
       "      <th>loc_og_t2o_mou</th>\n",
       "      <th>std_og_t2o_mou</th>\n",
       "      <th>loc_ic_t2o_mou</th>\n",
       "      <th>onnet_mou_6</th>\n",
       "      <th>onnet_mou_7</th>\n",
       "      <th>onnet_mou_8</th>\n",
       "      <th>onnet_mou_9</th>\n",
       "      <th>offnet_mou_6</th>\n",
       "      <th>offnet_mou_7</th>\n",
       "      <th>offnet_mou_8</th>\n",
       "      <th>offnet_mou_9</th>\n",
       "      <th>roam_ic_mou_6</th>\n",
       "      <th>roam_ic_mou_7</th>\n",
       "      <th>roam_ic_mou_8</th>\n",
       "      <th>roam_ic_mou_9</th>\n",
       "      <th>roam_og_mou_6</th>\n",
       "      <th>roam_og_mou_7</th>\n",
       "      <th>roam_og_mou_8</th>\n",
       "      <th>roam_og_mou_9</th>\n",
       "      <th>loc_og_t2t_mou_6</th>\n",
       "      <th>loc_og_t2t_mou_7</th>\n",
       "      <th>loc_og_t2t_mou_8</th>\n",
       "      <th>loc_og_t2t_mou_9</th>\n",
       "      <th>loc_og_t2m_mou_6</th>\n",
       "      <th>loc_og_t2m_mou_7</th>\n",
       "      <th>loc_og_t2m_mou_8</th>\n",
       "      <th>loc_og_t2m_mou_9</th>\n",
       "      <th>loc_og_t2f_mou_6</th>\n",
       "      <th>loc_og_t2f_mou_7</th>\n",
       "      <th>loc_og_t2f_mou_8</th>\n",
       "      <th>loc_og_t2f_mou_9</th>\n",
       "      <th>loc_og_t2c_mou_6</th>\n",
       "      <th>loc_og_t2c_mou_7</th>\n",
       "      <th>loc_og_t2c_mou_8</th>\n",
       "      <th>loc_og_t2c_mou_9</th>\n",
       "      <th>loc_og_mou_6</th>\n",
       "      <th>loc_og_mou_7</th>\n",
       "      <th>loc_og_mou_8</th>\n",
       "      <th>loc_og_mou_9</th>\n",
       "      <th>std_og_t2t_mou_6</th>\n",
       "      <th>std_og_t2t_mou_7</th>\n",
       "      <th>std_og_t2t_mou_8</th>\n",
       "      <th>std_og_t2t_mou_9</th>\n",
       "      <th>std_og_t2m_mou_6</th>\n",
       "      <th>std_og_t2m_mou_7</th>\n",
       "      <th>std_og_t2m_mou_8</th>\n",
       "      <th>std_og_t2m_mou_9</th>\n",
       "      <th>std_og_t2f_mou_6</th>\n",
       "      <th>std_og_t2f_mou_7</th>\n",
       "      <th>std_og_t2f_mou_8</th>\n",
       "      <th>std_og_t2f_mou_9</th>\n",
       "      <th>std_og_t2c_mou_6</th>\n",
       "      <th>std_og_t2c_mou_7</th>\n",
       "      <th>std_og_t2c_mou_8</th>\n",
       "      <th>std_og_t2c_mou_9</th>\n",
       "      <th>std_og_mou_6</th>\n",
       "      <th>std_og_mou_7</th>\n",
       "      <th>std_og_mou_8</th>\n",
       "      <th>std_og_mou_9</th>\n",
       "      <th>isd_og_mou_6</th>\n",
       "      <th>isd_og_mou_7</th>\n",
       "      <th>isd_og_mou_8</th>\n",
       "      <th>isd_og_mou_9</th>\n",
       "      <th>spl_og_mou_6</th>\n",
       "      <th>spl_og_mou_7</th>\n",
       "      <th>spl_og_mou_8</th>\n",
       "      <th>spl_og_mou_9</th>\n",
       "      <th>og_others_6</th>\n",
       "      <th>og_others_7</th>\n",
       "      <th>og_others_8</th>\n",
       "      <th>og_others_9</th>\n",
       "      <th>loc_ic_t2t_mou_6</th>\n",
       "      <th>loc_ic_t2t_mou_7</th>\n",
       "      <th>loc_ic_t2t_mou_8</th>\n",
       "      <th>loc_ic_t2t_mou_9</th>\n",
       "      <th>loc_ic_t2m_mou_6</th>\n",
       "      <th>loc_ic_t2m_mou_7</th>\n",
       "      <th>loc_ic_t2m_mou_8</th>\n",
       "      <th>loc_ic_t2m_mou_9</th>\n",
       "      <th>loc_ic_t2f_mou_6</th>\n",
       "      <th>loc_ic_t2f_mou_7</th>\n",
       "      <th>loc_ic_t2f_mou_8</th>\n",
       "      <th>loc_ic_t2f_mou_9</th>\n",
       "      <th>loc_ic_mou_6</th>\n",
       "      <th>loc_ic_mou_7</th>\n",
       "      <th>loc_ic_mou_8</th>\n",
       "      <th>loc_ic_mou_9</th>\n",
       "      <th>std_ic_t2t_mou_6</th>\n",
       "      <th>std_ic_t2t_mou_7</th>\n",
       "      <th>std_ic_t2t_mou_8</th>\n",
       "      <th>std_ic_t2t_mou_9</th>\n",
       "      <th>std_ic_t2m_mou_6</th>\n",
       "      <th>std_ic_t2m_mou_7</th>\n",
       "      <th>std_ic_t2m_mou_8</th>\n",
       "      <th>std_ic_t2m_mou_9</th>\n",
       "      <th>std_ic_t2f_mou_6</th>\n",
       "      <th>std_ic_t2f_mou_7</th>\n",
       "      <th>std_ic_t2f_mou_8</th>\n",
       "      <th>std_ic_t2f_mou_9</th>\n",
       "      <th>std_ic_t2o_mou_6</th>\n",
       "      <th>std_ic_t2o_mou_7</th>\n",
       "      <th>std_ic_t2o_mou_8</th>\n",
       "      <th>std_ic_t2o_mou_9</th>\n",
       "      <th>std_ic_mou_6</th>\n",
       "      <th>std_ic_mou_7</th>\n",
       "      <th>std_ic_mou_8</th>\n",
       "      <th>std_ic_mou_9</th>\n",
       "      <th>spl_ic_mou_6</th>\n",
       "      <th>spl_ic_mou_7</th>\n",
       "      <th>spl_ic_mou_8</th>\n",
       "      <th>spl_ic_mou_9</th>\n",
       "      <th>isd_ic_mou_6</th>\n",
       "      <th>isd_ic_mou_7</th>\n",
       "      <th>isd_ic_mou_8</th>\n",
       "      <th>isd_ic_mou_9</th>\n",
       "      <th>ic_others_6</th>\n",
       "      <th>ic_others_7</th>\n",
       "      <th>ic_others_8</th>\n",
       "      <th>ic_others_9</th>\n",
       "    </tr>\n",
       "  </thead>\n",
       "  <tbody>\n",
       "    <tr>\n",
       "      <th>count</th>\n",
       "      <td>98981.0</td>\n",
       "      <td>98981.0</td>\n",
       "      <td>98981.0</td>\n",
       "      <td>96062.000000</td>\n",
       "      <td>96140.000000</td>\n",
       "      <td>94621.000000</td>\n",
       "      <td>92254.000000</td>\n",
       "      <td>96062.000000</td>\n",
       "      <td>96140.000000</td>\n",
       "      <td>94621.000000</td>\n",
       "      <td>92254.000000</td>\n",
       "      <td>96062.000000</td>\n",
       "      <td>96140.000000</td>\n",
       "      <td>94621.000000</td>\n",
       "      <td>92254.000000</td>\n",
       "      <td>96062.000000</td>\n",
       "      <td>96140.000000</td>\n",
       "      <td>94621.000000</td>\n",
       "      <td>92254.000000</td>\n",
       "      <td>96062.000000</td>\n",
       "      <td>96140.000000</td>\n",
       "      <td>94621.000000</td>\n",
       "      <td>92254.000000</td>\n",
       "      <td>96062.000000</td>\n",
       "      <td>96140.000000</td>\n",
       "      <td>94621.000000</td>\n",
       "      <td>92254.000000</td>\n",
       "      <td>96062.000000</td>\n",
       "      <td>96140.000000</td>\n",
       "      <td>94621.000000</td>\n",
       "      <td>92254.000000</td>\n",
       "      <td>96062.000000</td>\n",
       "      <td>96140.000000</td>\n",
       "      <td>94621.000000</td>\n",
       "      <td>92254.000000</td>\n",
       "      <td>96062.000000</td>\n",
       "      <td>96140.000000</td>\n",
       "      <td>94621.000000</td>\n",
       "      <td>92254.000000</td>\n",
       "      <td>96062.000000</td>\n",
       "      <td>96140.000000</td>\n",
       "      <td>94621.000000</td>\n",
       "      <td>92254.000000</td>\n",
       "      <td>96062.000000</td>\n",
       "      <td>96140.000000</td>\n",
       "      <td>94621.000000</td>\n",
       "      <td>92254.000000</td>\n",
       "      <td>96062.000000</td>\n",
       "      <td>96140.000000</td>\n",
       "      <td>94621.000000</td>\n",
       "      <td>92254.000000</td>\n",
       "      <td>96062.0</td>\n",
       "      <td>96140.0</td>\n",
       "      <td>94621.0</td>\n",
       "      <td>92254.0</td>\n",
       "      <td>96062.000000</td>\n",
       "      <td>96140.000000</td>\n",
       "      <td>94621.000000</td>\n",
       "      <td>92254.000000</td>\n",
       "      <td>96062.000000</td>\n",
       "      <td>96140.000000</td>\n",
       "      <td>94621.000000</td>\n",
       "      <td>92254.000000</td>\n",
       "      <td>96062.000000</td>\n",
       "      <td>96140.000000</td>\n",
       "      <td>94621.000000</td>\n",
       "      <td>92254.000000</td>\n",
       "      <td>96062.000000</td>\n",
       "      <td>96140.000000</td>\n",
       "      <td>94621.000000</td>\n",
       "      <td>92254.000000</td>\n",
       "      <td>96062.000000</td>\n",
       "      <td>96140.000000</td>\n",
       "      <td>94621.000000</td>\n",
       "      <td>92254.000000</td>\n",
       "      <td>96062.000000</td>\n",
       "      <td>96140.000000</td>\n",
       "      <td>94621.000000</td>\n",
       "      <td>92254.000000</td>\n",
       "      <td>96062.000000</td>\n",
       "      <td>96140.000000</td>\n",
       "      <td>94621.000000</td>\n",
       "      <td>92254.000000</td>\n",
       "      <td>96062.000000</td>\n",
       "      <td>96140.000000</td>\n",
       "      <td>94621.000000</td>\n",
       "      <td>92254.000000</td>\n",
       "      <td>96062.000000</td>\n",
       "      <td>96140.000000</td>\n",
       "      <td>94621.000000</td>\n",
       "      <td>92254.000000</td>\n",
       "      <td>96062.000000</td>\n",
       "      <td>96140.000000</td>\n",
       "      <td>94621.000000</td>\n",
       "      <td>92254.000000</td>\n",
       "      <td>96062.000000</td>\n",
       "      <td>96140.000000</td>\n",
       "      <td>94621.000000</td>\n",
       "      <td>92254.000000</td>\n",
       "      <td>96062.0</td>\n",
       "      <td>96140.0</td>\n",
       "      <td>94621.0</td>\n",
       "      <td>92254.0</td>\n",
       "      <td>96062.000000</td>\n",
       "      <td>96140.000000</td>\n",
       "      <td>94621.000000</td>\n",
       "      <td>92254.000000</td>\n",
       "      <td>96062.000000</td>\n",
       "      <td>96140.000000</td>\n",
       "      <td>94621.000000</td>\n",
       "      <td>92254.000000</td>\n",
       "      <td>96062.000000</td>\n",
       "      <td>96140.000000</td>\n",
       "      <td>94621.000000</td>\n",
       "      <td>92254.000000</td>\n",
       "      <td>96062.000000</td>\n",
       "      <td>96140.000000</td>\n",
       "      <td>94621.000000</td>\n",
       "      <td>92254.000000</td>\n",
       "    </tr>\n",
       "    <tr>\n",
       "      <th>mean</th>\n",
       "      <td>0.0</td>\n",
       "      <td>0.0</td>\n",
       "      <td>0.0</td>\n",
       "      <td>132.395875</td>\n",
       "      <td>133.670805</td>\n",
       "      <td>133.018098</td>\n",
       "      <td>130.302327</td>\n",
       "      <td>197.935577</td>\n",
       "      <td>197.045133</td>\n",
       "      <td>196.574803</td>\n",
       "      <td>190.337222</td>\n",
       "      <td>9.950013</td>\n",
       "      <td>7.149898</td>\n",
       "      <td>7.292981</td>\n",
       "      <td>6.343841</td>\n",
       "      <td>13.911337</td>\n",
       "      <td>9.818732</td>\n",
       "      <td>9.971890</td>\n",
       "      <td>8.555519</td>\n",
       "      <td>47.100763</td>\n",
       "      <td>46.473010</td>\n",
       "      <td>45.887806</td>\n",
       "      <td>44.584446</td>\n",
       "      <td>93.342088</td>\n",
       "      <td>91.397131</td>\n",
       "      <td>91.755128</td>\n",
       "      <td>90.463192</td>\n",
       "      <td>3.751013</td>\n",
       "      <td>3.792985</td>\n",
       "      <td>3.677991</td>\n",
       "      <td>3.655123</td>\n",
       "      <td>1.123056</td>\n",
       "      <td>1.368500</td>\n",
       "      <td>1.433821</td>\n",
       "      <td>1.232726</td>\n",
       "      <td>144.201175</td>\n",
       "      <td>141.670476</td>\n",
       "      <td>141.328209</td>\n",
       "      <td>138.709970</td>\n",
       "      <td>79.829870</td>\n",
       "      <td>83.299598</td>\n",
       "      <td>83.282673</td>\n",
       "      <td>82.342919</td>\n",
       "      <td>87.299624</td>\n",
       "      <td>90.804137</td>\n",
       "      <td>89.838390</td>\n",
       "      <td>86.276622</td>\n",
       "      <td>1.129011</td>\n",
       "      <td>1.115010</td>\n",
       "      <td>1.067792</td>\n",
       "      <td>1.042362</td>\n",
       "      <td>0.0</td>\n",
       "      <td>0.0</td>\n",
       "      <td>0.0</td>\n",
       "      <td>0.0</td>\n",
       "      <td>168.261218</td>\n",
       "      <td>175.221436</td>\n",
       "      <td>174.191498</td>\n",
       "      <td>169.664466</td>\n",
       "      <td>0.798277</td>\n",
       "      <td>0.776572</td>\n",
       "      <td>0.791247</td>\n",
       "      <td>0.723892</td>\n",
       "      <td>3.916811</td>\n",
       "      <td>4.978279</td>\n",
       "      <td>5.053769</td>\n",
       "      <td>4.412767</td>\n",
       "      <td>0.454157</td>\n",
       "      <td>0.030235</td>\n",
       "      <td>0.033372</td>\n",
       "      <td>0.047456</td>\n",
       "      <td>47.922365</td>\n",
       "      <td>47.990520</td>\n",
       "      <td>47.211362</td>\n",
       "      <td>46.281794</td>\n",
       "      <td>107.475650</td>\n",
       "      <td>107.120493</td>\n",
       "      <td>108.460515</td>\n",
       "      <td>106.155471</td>\n",
       "      <td>12.084305</td>\n",
       "      <td>12.599697</td>\n",
       "      <td>11.751834</td>\n",
       "      <td>12.173105</td>\n",
       "      <td>167.491059</td>\n",
       "      <td>167.719540</td>\n",
       "      <td>167.432575</td>\n",
       "      <td>164.619293</td>\n",
       "      <td>9.575993</td>\n",
       "      <td>10.011904</td>\n",
       "      <td>9.883921</td>\n",
       "      <td>9.432479</td>\n",
       "      <td>20.722240</td>\n",
       "      <td>21.656415</td>\n",
       "      <td>21.183211</td>\n",
       "      <td>19.620913</td>\n",
       "      <td>2.156397</td>\n",
       "      <td>2.216923</td>\n",
       "      <td>2.085004</td>\n",
       "      <td>2.173419</td>\n",
       "      <td>0.0</td>\n",
       "      <td>0.0</td>\n",
       "      <td>0.0</td>\n",
       "      <td>0.0</td>\n",
       "      <td>32.457179</td>\n",
       "      <td>33.887833</td>\n",
       "      <td>33.154735</td>\n",
       "      <td>31.229344</td>\n",
       "      <td>0.061557</td>\n",
       "      <td>0.033585</td>\n",
       "      <td>0.040361</td>\n",
       "      <td>0.163137</td>\n",
       "      <td>7.460608</td>\n",
       "      <td>8.334936</td>\n",
       "      <td>8.442001</td>\n",
       "      <td>8.063003</td>\n",
       "      <td>0.854656</td>\n",
       "      <td>1.012960</td>\n",
       "      <td>0.970800</td>\n",
       "      <td>1.017162</td>\n",
       "    </tr>\n",
       "    <tr>\n",
       "      <th>std</th>\n",
       "      <td>0.0</td>\n",
       "      <td>0.0</td>\n",
       "      <td>0.0</td>\n",
       "      <td>297.207406</td>\n",
       "      <td>308.794148</td>\n",
       "      <td>308.951589</td>\n",
       "      <td>308.477668</td>\n",
       "      <td>316.851613</td>\n",
       "      <td>325.862803</td>\n",
       "      <td>327.170662</td>\n",
       "      <td>319.396092</td>\n",
       "      <td>72.825411</td>\n",
       "      <td>73.447948</td>\n",
       "      <td>68.402466</td>\n",
       "      <td>57.137537</td>\n",
       "      <td>71.443196</td>\n",
       "      <td>58.455762</td>\n",
       "      <td>64.713221</td>\n",
       "      <td>58.438186</td>\n",
       "      <td>150.856393</td>\n",
       "      <td>155.318705</td>\n",
       "      <td>151.184830</td>\n",
       "      <td>147.995390</td>\n",
       "      <td>162.780544</td>\n",
       "      <td>157.492308</td>\n",
       "      <td>156.537048</td>\n",
       "      <td>158.681454</td>\n",
       "      <td>14.230438</td>\n",
       "      <td>14.264986</td>\n",
       "      <td>13.270996</td>\n",
       "      <td>13.457549</td>\n",
       "      <td>5.448946</td>\n",
       "      <td>7.533445</td>\n",
       "      <td>6.783335</td>\n",
       "      <td>5.619021</td>\n",
       "      <td>251.751489</td>\n",
       "      <td>248.731086</td>\n",
       "      <td>245.914311</td>\n",
       "      <td>245.934517</td>\n",
       "      <td>252.476533</td>\n",
       "      <td>263.631042</td>\n",
       "      <td>265.486090</td>\n",
       "      <td>267.184991</td>\n",
       "      <td>255.617850</td>\n",
       "      <td>269.347911</td>\n",
       "      <td>271.757783</td>\n",
       "      <td>261.407396</td>\n",
       "      <td>7.984970</td>\n",
       "      <td>8.599406</td>\n",
       "      <td>7.905971</td>\n",
       "      <td>8.261770</td>\n",
       "      <td>0.0</td>\n",
       "      <td>0.0</td>\n",
       "      <td>0.0</td>\n",
       "      <td>0.0</td>\n",
       "      <td>389.948499</td>\n",
       "      <td>408.922934</td>\n",
       "      <td>411.633049</td>\n",
       "      <td>405.138658</td>\n",
       "      <td>25.765248</td>\n",
       "      <td>25.603052</td>\n",
       "      <td>25.544471</td>\n",
       "      <td>21.310751</td>\n",
       "      <td>14.936449</td>\n",
       "      <td>20.661570</td>\n",
       "      <td>17.855111</td>\n",
       "      <td>16.328227</td>\n",
       "      <td>4.125911</td>\n",
       "      <td>2.161717</td>\n",
       "      <td>2.323464</td>\n",
       "      <td>3.635466</td>\n",
       "      <td>140.258485</td>\n",
       "      <td>145.795055</td>\n",
       "      <td>137.239552</td>\n",
       "      <td>140.130610</td>\n",
       "      <td>171.713903</td>\n",
       "      <td>169.423620</td>\n",
       "      <td>169.723759</td>\n",
       "      <td>165.492803</td>\n",
       "      <td>40.140895</td>\n",
       "      <td>42.977442</td>\n",
       "      <td>39.125379</td>\n",
       "      <td>43.840776</td>\n",
       "      <td>254.124029</td>\n",
       "      <td>256.242707</td>\n",
       "      <td>250.025523</td>\n",
       "      <td>249.845070</td>\n",
       "      <td>54.330607</td>\n",
       "      <td>57.411971</td>\n",
       "      <td>55.073186</td>\n",
       "      <td>53.376273</td>\n",
       "      <td>80.793414</td>\n",
       "      <td>86.521393</td>\n",
       "      <td>83.683565</td>\n",
       "      <td>74.913050</td>\n",
       "      <td>16.495594</td>\n",
       "      <td>16.454061</td>\n",
       "      <td>15.812580</td>\n",
       "      <td>15.978601</td>\n",
       "      <td>0.0</td>\n",
       "      <td>0.0</td>\n",
       "      <td>0.0</td>\n",
       "      <td>0.0</td>\n",
       "      <td>106.283386</td>\n",
       "      <td>113.720168</td>\n",
       "      <td>110.127008</td>\n",
       "      <td>101.982303</td>\n",
       "      <td>0.160920</td>\n",
       "      <td>0.155725</td>\n",
       "      <td>0.146147</td>\n",
       "      <td>0.527860</td>\n",
       "      <td>59.722948</td>\n",
       "      <td>65.219829</td>\n",
       "      <td>63.813098</td>\n",
       "      <td>63.505379</td>\n",
       "      <td>11.955164</td>\n",
       "      <td>12.673099</td>\n",
       "      <td>13.284348</td>\n",
       "      <td>12.381172</td>\n",
       "    </tr>\n",
       "    <tr>\n",
       "      <th>min</th>\n",
       "      <td>0.0</td>\n",
       "      <td>0.0</td>\n",
       "      <td>0.0</td>\n",
       "      <td>0.000000</td>\n",
       "      <td>0.000000</td>\n",
       "      <td>0.000000</td>\n",
       "      <td>0.000000</td>\n",
       "      <td>0.000000</td>\n",
       "      <td>0.000000</td>\n",
       "      <td>0.000000</td>\n",
       "      <td>0.000000</td>\n",
       "      <td>0.000000</td>\n",
       "      <td>0.000000</td>\n",
       "      <td>0.000000</td>\n",
       "      <td>0.000000</td>\n",
       "      <td>0.000000</td>\n",
       "      <td>0.000000</td>\n",
       "      <td>0.000000</td>\n",
       "      <td>0.000000</td>\n",
       "      <td>0.000000</td>\n",
       "      <td>0.000000</td>\n",
       "      <td>0.000000</td>\n",
       "      <td>0.000000</td>\n",
       "      <td>0.000000</td>\n",
       "      <td>0.000000</td>\n",
       "      <td>0.000000</td>\n",
       "      <td>0.000000</td>\n",
       "      <td>0.000000</td>\n",
       "      <td>0.000000</td>\n",
       "      <td>0.000000</td>\n",
       "      <td>0.000000</td>\n",
       "      <td>0.000000</td>\n",
       "      <td>0.000000</td>\n",
       "      <td>0.000000</td>\n",
       "      <td>0.000000</td>\n",
       "      <td>0.000000</td>\n",
       "      <td>0.000000</td>\n",
       "      <td>0.000000</td>\n",
       "      <td>0.000000</td>\n",
       "      <td>0.000000</td>\n",
       "      <td>0.000000</td>\n",
       "      <td>0.000000</td>\n",
       "      <td>0.000000</td>\n",
       "      <td>0.000000</td>\n",
       "      <td>0.000000</td>\n",
       "      <td>0.000000</td>\n",
       "      <td>0.000000</td>\n",
       "      <td>0.000000</td>\n",
       "      <td>0.000000</td>\n",
       "      <td>0.000000</td>\n",
       "      <td>0.000000</td>\n",
       "      <td>0.0</td>\n",
       "      <td>0.0</td>\n",
       "      <td>0.0</td>\n",
       "      <td>0.0</td>\n",
       "      <td>0.000000</td>\n",
       "      <td>0.000000</td>\n",
       "      <td>0.000000</td>\n",
       "      <td>0.000000</td>\n",
       "      <td>0.000000</td>\n",
       "      <td>0.000000</td>\n",
       "      <td>0.000000</td>\n",
       "      <td>0.000000</td>\n",
       "      <td>0.000000</td>\n",
       "      <td>0.000000</td>\n",
       "      <td>0.000000</td>\n",
       "      <td>0.000000</td>\n",
       "      <td>0.000000</td>\n",
       "      <td>0.000000</td>\n",
       "      <td>0.000000</td>\n",
       "      <td>0.000000</td>\n",
       "      <td>0.000000</td>\n",
       "      <td>0.000000</td>\n",
       "      <td>0.000000</td>\n",
       "      <td>0.000000</td>\n",
       "      <td>0.000000</td>\n",
       "      <td>0.000000</td>\n",
       "      <td>0.000000</td>\n",
       "      <td>0.000000</td>\n",
       "      <td>0.000000</td>\n",
       "      <td>0.000000</td>\n",
       "      <td>0.000000</td>\n",
       "      <td>0.000000</td>\n",
       "      <td>0.000000</td>\n",
       "      <td>0.000000</td>\n",
       "      <td>0.000000</td>\n",
       "      <td>0.000000</td>\n",
       "      <td>0.000000</td>\n",
       "      <td>0.000000</td>\n",
       "      <td>0.000000</td>\n",
       "      <td>0.000000</td>\n",
       "      <td>0.000000</td>\n",
       "      <td>0.000000</td>\n",
       "      <td>0.000000</td>\n",
       "      <td>0.000000</td>\n",
       "      <td>0.000000</td>\n",
       "      <td>0.000000</td>\n",
       "      <td>0.000000</td>\n",
       "      <td>0.000000</td>\n",
       "      <td>0.0</td>\n",
       "      <td>0.0</td>\n",
       "      <td>0.0</td>\n",
       "      <td>0.0</td>\n",
       "      <td>0.000000</td>\n",
       "      <td>0.000000</td>\n",
       "      <td>0.000000</td>\n",
       "      <td>0.000000</td>\n",
       "      <td>0.000000</td>\n",
       "      <td>0.000000</td>\n",
       "      <td>0.000000</td>\n",
       "      <td>0.000000</td>\n",
       "      <td>0.000000</td>\n",
       "      <td>0.000000</td>\n",
       "      <td>0.000000</td>\n",
       "      <td>0.000000</td>\n",
       "      <td>0.000000</td>\n",
       "      <td>0.000000</td>\n",
       "      <td>0.000000</td>\n",
       "      <td>0.000000</td>\n",
       "    </tr>\n",
       "    <tr>\n",
       "      <th>25%</th>\n",
       "      <td>0.0</td>\n",
       "      <td>0.0</td>\n",
       "      <td>0.0</td>\n",
       "      <td>7.380000</td>\n",
       "      <td>6.660000</td>\n",
       "      <td>6.460000</td>\n",
       "      <td>5.330000</td>\n",
       "      <td>34.730000</td>\n",
       "      <td>32.190000</td>\n",
       "      <td>31.630000</td>\n",
       "      <td>27.130000</td>\n",
       "      <td>0.000000</td>\n",
       "      <td>0.000000</td>\n",
       "      <td>0.000000</td>\n",
       "      <td>0.000000</td>\n",
       "      <td>0.000000</td>\n",
       "      <td>0.000000</td>\n",
       "      <td>0.000000</td>\n",
       "      <td>0.000000</td>\n",
       "      <td>1.660000</td>\n",
       "      <td>1.630000</td>\n",
       "      <td>1.600000</td>\n",
       "      <td>1.360000</td>\n",
       "      <td>9.880000</td>\n",
       "      <td>10.025000</td>\n",
       "      <td>9.810000</td>\n",
       "      <td>8.810000</td>\n",
       "      <td>0.000000</td>\n",
       "      <td>0.000000</td>\n",
       "      <td>0.000000</td>\n",
       "      <td>0.000000</td>\n",
       "      <td>0.000000</td>\n",
       "      <td>0.000000</td>\n",
       "      <td>0.000000</td>\n",
       "      <td>0.000000</td>\n",
       "      <td>17.110000</td>\n",
       "      <td>17.480000</td>\n",
       "      <td>17.110000</td>\n",
       "      <td>15.560000</td>\n",
       "      <td>0.000000</td>\n",
       "      <td>0.000000</td>\n",
       "      <td>0.000000</td>\n",
       "      <td>0.000000</td>\n",
       "      <td>0.000000</td>\n",
       "      <td>0.000000</td>\n",
       "      <td>0.000000</td>\n",
       "      <td>0.000000</td>\n",
       "      <td>0.000000</td>\n",
       "      <td>0.000000</td>\n",
       "      <td>0.000000</td>\n",
       "      <td>0.000000</td>\n",
       "      <td>0.0</td>\n",
       "      <td>0.0</td>\n",
       "      <td>0.0</td>\n",
       "      <td>0.0</td>\n",
       "      <td>0.000000</td>\n",
       "      <td>0.000000</td>\n",
       "      <td>0.000000</td>\n",
       "      <td>0.000000</td>\n",
       "      <td>0.000000</td>\n",
       "      <td>0.000000</td>\n",
       "      <td>0.000000</td>\n",
       "      <td>0.000000</td>\n",
       "      <td>0.000000</td>\n",
       "      <td>0.000000</td>\n",
       "      <td>0.000000</td>\n",
       "      <td>0.000000</td>\n",
       "      <td>0.000000</td>\n",
       "      <td>0.000000</td>\n",
       "      <td>0.000000</td>\n",
       "      <td>0.000000</td>\n",
       "      <td>2.990000</td>\n",
       "      <td>3.230000</td>\n",
       "      <td>3.280000</td>\n",
       "      <td>3.290000</td>\n",
       "      <td>17.290000</td>\n",
       "      <td>18.590000</td>\n",
       "      <td>18.930000</td>\n",
       "      <td>18.560000</td>\n",
       "      <td>0.000000</td>\n",
       "      <td>0.000000</td>\n",
       "      <td>0.000000</td>\n",
       "      <td>0.000000</td>\n",
       "      <td>30.390000</td>\n",
       "      <td>32.460000</td>\n",
       "      <td>32.740000</td>\n",
       "      <td>32.290000</td>\n",
       "      <td>0.000000</td>\n",
       "      <td>0.000000</td>\n",
       "      <td>0.000000</td>\n",
       "      <td>0.000000</td>\n",
       "      <td>0.000000</td>\n",
       "      <td>0.000000</td>\n",
       "      <td>0.000000</td>\n",
       "      <td>0.000000</td>\n",
       "      <td>0.000000</td>\n",
       "      <td>0.000000</td>\n",
       "      <td>0.000000</td>\n",
       "      <td>0.000000</td>\n",
       "      <td>0.0</td>\n",
       "      <td>0.0</td>\n",
       "      <td>0.0</td>\n",
       "      <td>0.0</td>\n",
       "      <td>0.000000</td>\n",
       "      <td>0.000000</td>\n",
       "      <td>0.010000</td>\n",
       "      <td>0.000000</td>\n",
       "      <td>0.000000</td>\n",
       "      <td>0.000000</td>\n",
       "      <td>0.000000</td>\n",
       "      <td>0.000000</td>\n",
       "      <td>0.000000</td>\n",
       "      <td>0.000000</td>\n",
       "      <td>0.000000</td>\n",
       "      <td>0.000000</td>\n",
       "      <td>0.000000</td>\n",
       "      <td>0.000000</td>\n",
       "      <td>0.000000</td>\n",
       "      <td>0.000000</td>\n",
       "    </tr>\n",
       "    <tr>\n",
       "      <th>50%</th>\n",
       "      <td>0.0</td>\n",
       "      <td>0.0</td>\n",
       "      <td>0.0</td>\n",
       "      <td>34.310000</td>\n",
       "      <td>32.330000</td>\n",
       "      <td>32.360000</td>\n",
       "      <td>29.840000</td>\n",
       "      <td>96.310000</td>\n",
       "      <td>91.735000</td>\n",
       "      <td>92.140000</td>\n",
       "      <td>87.290000</td>\n",
       "      <td>0.000000</td>\n",
       "      <td>0.000000</td>\n",
       "      <td>0.000000</td>\n",
       "      <td>0.000000</td>\n",
       "      <td>0.000000</td>\n",
       "      <td>0.000000</td>\n",
       "      <td>0.000000</td>\n",
       "      <td>0.000000</td>\n",
       "      <td>11.910000</td>\n",
       "      <td>11.610000</td>\n",
       "      <td>11.730000</td>\n",
       "      <td>11.260000</td>\n",
       "      <td>41.030000</td>\n",
       "      <td>40.430000</td>\n",
       "      <td>40.360000</td>\n",
       "      <td>39.120000</td>\n",
       "      <td>0.000000</td>\n",
       "      <td>0.000000</td>\n",
       "      <td>0.000000</td>\n",
       "      <td>0.000000</td>\n",
       "      <td>0.000000</td>\n",
       "      <td>0.000000</td>\n",
       "      <td>0.000000</td>\n",
       "      <td>0.000000</td>\n",
       "      <td>65.110000</td>\n",
       "      <td>63.685000</td>\n",
       "      <td>63.730000</td>\n",
       "      <td>61.840000</td>\n",
       "      <td>0.000000</td>\n",
       "      <td>0.000000</td>\n",
       "      <td>0.000000</td>\n",
       "      <td>0.000000</td>\n",
       "      <td>3.950000</td>\n",
       "      <td>3.635000</td>\n",
       "      <td>3.310000</td>\n",
       "      <td>2.500000</td>\n",
       "      <td>0.000000</td>\n",
       "      <td>0.000000</td>\n",
       "      <td>0.000000</td>\n",
       "      <td>0.000000</td>\n",
       "      <td>0.0</td>\n",
       "      <td>0.0</td>\n",
       "      <td>0.0</td>\n",
       "      <td>0.0</td>\n",
       "      <td>11.640000</td>\n",
       "      <td>11.090000</td>\n",
       "      <td>10.410000</td>\n",
       "      <td>8.410000</td>\n",
       "      <td>0.000000</td>\n",
       "      <td>0.000000</td>\n",
       "      <td>0.000000</td>\n",
       "      <td>0.000000</td>\n",
       "      <td>0.000000</td>\n",
       "      <td>0.000000</td>\n",
       "      <td>0.000000</td>\n",
       "      <td>0.000000</td>\n",
       "      <td>0.000000</td>\n",
       "      <td>0.000000</td>\n",
       "      <td>0.000000</td>\n",
       "      <td>0.000000</td>\n",
       "      <td>15.690000</td>\n",
       "      <td>15.740000</td>\n",
       "      <td>16.030000</td>\n",
       "      <td>15.660000</td>\n",
       "      <td>56.490000</td>\n",
       "      <td>57.080000</td>\n",
       "      <td>58.240000</td>\n",
       "      <td>56.610000</td>\n",
       "      <td>0.880000</td>\n",
       "      <td>0.930000</td>\n",
       "      <td>0.930000</td>\n",
       "      <td>0.960000</td>\n",
       "      <td>92.160000</td>\n",
       "      <td>92.550000</td>\n",
       "      <td>93.830000</td>\n",
       "      <td>91.640000</td>\n",
       "      <td>0.000000</td>\n",
       "      <td>0.000000</td>\n",
       "      <td>0.000000</td>\n",
       "      <td>0.000000</td>\n",
       "      <td>2.030000</td>\n",
       "      <td>2.040000</td>\n",
       "      <td>2.030000</td>\n",
       "      <td>1.740000</td>\n",
       "      <td>0.000000</td>\n",
       "      <td>0.000000</td>\n",
       "      <td>0.000000</td>\n",
       "      <td>0.000000</td>\n",
       "      <td>0.0</td>\n",
       "      <td>0.0</td>\n",
       "      <td>0.0</td>\n",
       "      <td>0.0</td>\n",
       "      <td>5.890000</td>\n",
       "      <td>5.960000</td>\n",
       "      <td>5.880000</td>\n",
       "      <td>5.380000</td>\n",
       "      <td>0.000000</td>\n",
       "      <td>0.000000</td>\n",
       "      <td>0.000000</td>\n",
       "      <td>0.000000</td>\n",
       "      <td>0.000000</td>\n",
       "      <td>0.000000</td>\n",
       "      <td>0.000000</td>\n",
       "      <td>0.000000</td>\n",
       "      <td>0.000000</td>\n",
       "      <td>0.000000</td>\n",
       "      <td>0.000000</td>\n",
       "      <td>0.000000</td>\n",
       "    </tr>\n",
       "    <tr>\n",
       "      <th>75%</th>\n",
       "      <td>0.0</td>\n",
       "      <td>0.0</td>\n",
       "      <td>0.0</td>\n",
       "      <td>118.740000</td>\n",
       "      <td>115.595000</td>\n",
       "      <td>115.860000</td>\n",
       "      <td>112.130000</td>\n",
       "      <td>231.860000</td>\n",
       "      <td>226.815000</td>\n",
       "      <td>228.260000</td>\n",
       "      <td>220.505000</td>\n",
       "      <td>0.000000</td>\n",
       "      <td>0.000000</td>\n",
       "      <td>0.000000</td>\n",
       "      <td>0.000000</td>\n",
       "      <td>0.000000</td>\n",
       "      <td>0.000000</td>\n",
       "      <td>0.000000</td>\n",
       "      <td>0.000000</td>\n",
       "      <td>40.960000</td>\n",
       "      <td>39.910000</td>\n",
       "      <td>40.110000</td>\n",
       "      <td>39.280000</td>\n",
       "      <td>110.390000</td>\n",
       "      <td>107.560000</td>\n",
       "      <td>109.090000</td>\n",
       "      <td>106.810000</td>\n",
       "      <td>2.080000</td>\n",
       "      <td>2.090000</td>\n",
       "      <td>2.040000</td>\n",
       "      <td>1.940000</td>\n",
       "      <td>0.000000</td>\n",
       "      <td>0.000000</td>\n",
       "      <td>0.000000</td>\n",
       "      <td>0.000000</td>\n",
       "      <td>168.270000</td>\n",
       "      <td>164.382500</td>\n",
       "      <td>166.110000</td>\n",
       "      <td>162.225000</td>\n",
       "      <td>30.807500</td>\n",
       "      <td>31.132500</td>\n",
       "      <td>30.580000</td>\n",
       "      <td>28.230000</td>\n",
       "      <td>53.290000</td>\n",
       "      <td>54.040000</td>\n",
       "      <td>52.490000</td>\n",
       "      <td>48.560000</td>\n",
       "      <td>0.000000</td>\n",
       "      <td>0.000000</td>\n",
       "      <td>0.000000</td>\n",
       "      <td>0.000000</td>\n",
       "      <td>0.0</td>\n",
       "      <td>0.0</td>\n",
       "      <td>0.0</td>\n",
       "      <td>0.0</td>\n",
       "      <td>144.837500</td>\n",
       "      <td>150.615000</td>\n",
       "      <td>147.940000</td>\n",
       "      <td>142.105000</td>\n",
       "      <td>0.000000</td>\n",
       "      <td>0.000000</td>\n",
       "      <td>0.000000</td>\n",
       "      <td>0.000000</td>\n",
       "      <td>2.430000</td>\n",
       "      <td>3.710000</td>\n",
       "      <td>3.990000</td>\n",
       "      <td>3.230000</td>\n",
       "      <td>0.000000</td>\n",
       "      <td>0.000000</td>\n",
       "      <td>0.000000</td>\n",
       "      <td>0.000000</td>\n",
       "      <td>46.840000</td>\n",
       "      <td>45.810000</td>\n",
       "      <td>46.290000</td>\n",
       "      <td>45.180000</td>\n",
       "      <td>132.387500</td>\n",
       "      <td>130.960000</td>\n",
       "      <td>133.930000</td>\n",
       "      <td>130.490000</td>\n",
       "      <td>8.140000</td>\n",
       "      <td>8.282500</td>\n",
       "      <td>8.110000</td>\n",
       "      <td>8.140000</td>\n",
       "      <td>208.075000</td>\n",
       "      <td>205.837500</td>\n",
       "      <td>207.280000</td>\n",
       "      <td>202.737500</td>\n",
       "      <td>4.060000</td>\n",
       "      <td>4.230000</td>\n",
       "      <td>4.080000</td>\n",
       "      <td>3.510000</td>\n",
       "      <td>15.030000</td>\n",
       "      <td>15.740000</td>\n",
       "      <td>15.360000</td>\n",
       "      <td>14.260000</td>\n",
       "      <td>0.000000</td>\n",
       "      <td>0.000000</td>\n",
       "      <td>0.000000</td>\n",
       "      <td>0.000000</td>\n",
       "      <td>0.0</td>\n",
       "      <td>0.0</td>\n",
       "      <td>0.0</td>\n",
       "      <td>0.0</td>\n",
       "      <td>26.930000</td>\n",
       "      <td>28.310000</td>\n",
       "      <td>27.710000</td>\n",
       "      <td>25.690000</td>\n",
       "      <td>0.000000</td>\n",
       "      <td>0.000000</td>\n",
       "      <td>0.000000</td>\n",
       "      <td>0.060000</td>\n",
       "      <td>0.000000</td>\n",
       "      <td>0.000000</td>\n",
       "      <td>0.000000</td>\n",
       "      <td>0.000000</td>\n",
       "      <td>0.000000</td>\n",
       "      <td>0.000000</td>\n",
       "      <td>0.000000</td>\n",
       "      <td>0.000000</td>\n",
       "    </tr>\n",
       "    <tr>\n",
       "      <th>max</th>\n",
       "      <td>0.0</td>\n",
       "      <td>0.0</td>\n",
       "      <td>0.0</td>\n",
       "      <td>7376.710000</td>\n",
       "      <td>8157.780000</td>\n",
       "      <td>10752.560000</td>\n",
       "      <td>10427.460000</td>\n",
       "      <td>8362.360000</td>\n",
       "      <td>9667.130000</td>\n",
       "      <td>14007.340000</td>\n",
       "      <td>10310.760000</td>\n",
       "      <td>13724.380000</td>\n",
       "      <td>15371.040000</td>\n",
       "      <td>13095.360000</td>\n",
       "      <td>8464.030000</td>\n",
       "      <td>3775.110000</td>\n",
       "      <td>2812.040000</td>\n",
       "      <td>5337.040000</td>\n",
       "      <td>4428.460000</td>\n",
       "      <td>6431.330000</td>\n",
       "      <td>7400.660000</td>\n",
       "      <td>10752.560000</td>\n",
       "      <td>10389.240000</td>\n",
       "      <td>4729.740000</td>\n",
       "      <td>4557.140000</td>\n",
       "      <td>4961.330000</td>\n",
       "      <td>4429.880000</td>\n",
       "      <td>1466.030000</td>\n",
       "      <td>1196.430000</td>\n",
       "      <td>928.490000</td>\n",
       "      <td>927.410000</td>\n",
       "      <td>342.860000</td>\n",
       "      <td>916.240000</td>\n",
       "      <td>502.090000</td>\n",
       "      <td>339.840000</td>\n",
       "      <td>10643.380000</td>\n",
       "      <td>7674.780000</td>\n",
       "      <td>11039.910000</td>\n",
       "      <td>11099.260000</td>\n",
       "      <td>7366.580000</td>\n",
       "      <td>8133.660000</td>\n",
       "      <td>8014.430000</td>\n",
       "      <td>9382.580000</td>\n",
       "      <td>8314.760000</td>\n",
       "      <td>9284.740000</td>\n",
       "      <td>13950.040000</td>\n",
       "      <td>10223.430000</td>\n",
       "      <td>628.560000</td>\n",
       "      <td>544.630000</td>\n",
       "      <td>516.910000</td>\n",
       "      <td>808.490000</td>\n",
       "      <td>0.0</td>\n",
       "      <td>0.0</td>\n",
       "      <td>0.0</td>\n",
       "      <td>0.0</td>\n",
       "      <td>8432.990000</td>\n",
       "      <td>10936.730000</td>\n",
       "      <td>13980.060000</td>\n",
       "      <td>11495.310000</td>\n",
       "      <td>5900.660000</td>\n",
       "      <td>5490.280000</td>\n",
       "      <td>5681.540000</td>\n",
       "      <td>4244.530000</td>\n",
       "      <td>1023.210000</td>\n",
       "      <td>2372.510000</td>\n",
       "      <td>1390.880000</td>\n",
       "      <td>1635.710000</td>\n",
       "      <td>800.890000</td>\n",
       "      <td>370.130000</td>\n",
       "      <td>394.930000</td>\n",
       "      <td>787.790000</td>\n",
       "      <td>6626.930000</td>\n",
       "      <td>9324.660000</td>\n",
       "      <td>10696.230000</td>\n",
       "      <td>10598.830000</td>\n",
       "      <td>4693.860000</td>\n",
       "      <td>4455.830000</td>\n",
       "      <td>6274.190000</td>\n",
       "      <td>5463.780000</td>\n",
       "      <td>1872.340000</td>\n",
       "      <td>1983.010000</td>\n",
       "      <td>2433.060000</td>\n",
       "      <td>4318.280000</td>\n",
       "      <td>7454.630000</td>\n",
       "      <td>9669.910000</td>\n",
       "      <td>10830.160000</td>\n",
       "      <td>10796.290000</td>\n",
       "      <td>5459.560000</td>\n",
       "      <td>5800.930000</td>\n",
       "      <td>4309.290000</td>\n",
       "      <td>3819.830000</td>\n",
       "      <td>5647.160000</td>\n",
       "      <td>6141.880000</td>\n",
       "      <td>5645.860000</td>\n",
       "      <td>5689.760000</td>\n",
       "      <td>1351.110000</td>\n",
       "      <td>1136.080000</td>\n",
       "      <td>1394.890000</td>\n",
       "      <td>1431.960000</td>\n",
       "      <td>0.0</td>\n",
       "      <td>0.0</td>\n",
       "      <td>0.0</td>\n",
       "      <td>0.0</td>\n",
       "      <td>5712.110000</td>\n",
       "      <td>6745.760000</td>\n",
       "      <td>5957.140000</td>\n",
       "      <td>5956.660000</td>\n",
       "      <td>19.760000</td>\n",
       "      <td>21.330000</td>\n",
       "      <td>16.860000</td>\n",
       "      <td>62.380000</td>\n",
       "      <td>6789.410000</td>\n",
       "      <td>5289.540000</td>\n",
       "      <td>4127.010000</td>\n",
       "      <td>5057.740000</td>\n",
       "      <td>1362.940000</td>\n",
       "      <td>1495.940000</td>\n",
       "      <td>2327.510000</td>\n",
       "      <td>1005.230000</td>\n",
       "    </tr>\n",
       "  </tbody>\n",
       "</table>\n",
       "</div>"
      ],
      "text/plain": [
       "       loc_og_t2o_mou  std_og_t2o_mou  loc_ic_t2o_mou   onnet_mou_6   onnet_mou_7   onnet_mou_8   onnet_mou_9  offnet_mou_6  offnet_mou_7  offnet_mou_8  offnet_mou_9  roam_ic_mou_6  roam_ic_mou_7  roam_ic_mou_8  roam_ic_mou_9  roam_og_mou_6  roam_og_mou_7  roam_og_mou_8  roam_og_mou_9  loc_og_t2t_mou_6  loc_og_t2t_mou_7  loc_og_t2t_mou_8  loc_og_t2t_mou_9  loc_og_t2m_mou_6  loc_og_t2m_mou_7  loc_og_t2m_mou_8  loc_og_t2m_mou_9  loc_og_t2f_mou_6  loc_og_t2f_mou_7  loc_og_t2f_mou_8  loc_og_t2f_mou_9  loc_og_t2c_mou_6  loc_og_t2c_mou_7  loc_og_t2c_mou_8  loc_og_t2c_mou_9  loc_og_mou_6  loc_og_mou_7  loc_og_mou_8  loc_og_mou_9  std_og_t2t_mou_6  std_og_t2t_mou_7  std_og_t2t_mou_8  std_og_t2t_mou_9  std_og_t2m_mou_6  std_og_t2m_mou_7  std_og_t2m_mou_8  std_og_t2m_mou_9  std_og_t2f_mou_6  std_og_t2f_mou_7  std_og_t2f_mou_8  std_og_t2f_mou_9  std_og_t2c_mou_6  std_og_t2c_mou_7  std_og_t2c_mou_8  std_og_t2c_mou_9  std_og_mou_6  std_og_mou_7  std_og_mou_8  std_og_mou_9  isd_og_mou_6  \\\n",
       "count  98981.0         98981.0         98981.0         96062.000000  96140.000000  94621.000000  92254.000000  96062.000000  96140.000000  94621.000000  92254.000000  96062.000000   96140.000000   94621.000000   92254.000000   96062.000000   96140.000000   94621.000000   92254.000000   96062.000000      96140.000000      94621.000000      92254.000000      96062.000000      96140.000000      94621.000000      92254.000000      96062.000000      96140.000000      94621.000000      92254.000000      96062.000000      96140.000000      94621.000000      92254.000000      96062.000000  96140.000000  94621.000000  92254.000000  96062.000000      96140.000000      94621.000000      92254.000000      96062.000000      96140.000000      94621.000000      92254.000000      96062.000000      96140.000000      94621.000000      92254.000000      96062.0           96140.0           94621.0           92254.0           96062.000000  96140.000000  94621.000000  92254.000000  96062.000000   \n",
       "mean   0.0             0.0             0.0             132.395875    133.670805    133.018098    130.302327    197.935577    197.045133    196.574803    190.337222    9.950013       7.149898       7.292981       6.343841       13.911337      9.818732       9.971890       8.555519       47.100763         46.473010         45.887806         44.584446         93.342088         91.397131         91.755128         90.463192         3.751013          3.792985          3.677991          3.655123          1.123056          1.368500          1.433821          1.232726          144.201175    141.670476    141.328209    138.709970    79.829870         83.299598         83.282673         82.342919         87.299624         90.804137         89.838390         86.276622         1.129011          1.115010          1.067792          1.042362          0.0               0.0               0.0               0.0               168.261218    175.221436    174.191498    169.664466    0.798277       \n",
       "std    0.0             0.0             0.0             297.207406    308.794148    308.951589    308.477668    316.851613    325.862803    327.170662    319.396092    72.825411      73.447948      68.402466      57.137537      71.443196      58.455762      64.713221      58.438186      150.856393        155.318705        151.184830        147.995390        162.780544        157.492308        156.537048        158.681454        14.230438         14.264986         13.270996         13.457549         5.448946          7.533445          6.783335          5.619021          251.751489    248.731086    245.914311    245.934517    252.476533        263.631042        265.486090        267.184991        255.617850        269.347911        271.757783        261.407396        7.984970          8.599406          7.905971          8.261770          0.0               0.0               0.0               0.0               389.948499    408.922934    411.633049    405.138658    25.765248      \n",
       "min    0.0             0.0             0.0             0.000000      0.000000      0.000000      0.000000      0.000000      0.000000      0.000000      0.000000      0.000000       0.000000       0.000000       0.000000       0.000000       0.000000       0.000000       0.000000       0.000000          0.000000          0.000000          0.000000          0.000000          0.000000          0.000000          0.000000          0.000000          0.000000          0.000000          0.000000          0.000000          0.000000          0.000000          0.000000          0.000000      0.000000      0.000000      0.000000      0.000000          0.000000          0.000000          0.000000          0.000000          0.000000          0.000000          0.000000          0.000000          0.000000          0.000000          0.000000          0.0               0.0               0.0               0.0               0.000000      0.000000      0.000000      0.000000      0.000000       \n",
       "25%    0.0             0.0             0.0             7.380000      6.660000      6.460000      5.330000      34.730000     32.190000     31.630000     27.130000     0.000000       0.000000       0.000000       0.000000       0.000000       0.000000       0.000000       0.000000       1.660000          1.630000          1.600000          1.360000          9.880000          10.025000         9.810000          8.810000          0.000000          0.000000          0.000000          0.000000          0.000000          0.000000          0.000000          0.000000          17.110000     17.480000     17.110000     15.560000     0.000000          0.000000          0.000000          0.000000          0.000000          0.000000          0.000000          0.000000          0.000000          0.000000          0.000000          0.000000          0.0               0.0               0.0               0.0               0.000000      0.000000      0.000000      0.000000      0.000000       \n",
       "50%    0.0             0.0             0.0             34.310000     32.330000     32.360000     29.840000     96.310000     91.735000     92.140000     87.290000     0.000000       0.000000       0.000000       0.000000       0.000000       0.000000       0.000000       0.000000       11.910000         11.610000         11.730000         11.260000         41.030000         40.430000         40.360000         39.120000         0.000000          0.000000          0.000000          0.000000          0.000000          0.000000          0.000000          0.000000          65.110000     63.685000     63.730000     61.840000     0.000000          0.000000          0.000000          0.000000          3.950000          3.635000          3.310000          2.500000          0.000000          0.000000          0.000000          0.000000          0.0               0.0               0.0               0.0               11.640000     11.090000     10.410000     8.410000      0.000000       \n",
       "75%    0.0             0.0             0.0             118.740000    115.595000    115.860000    112.130000    231.860000    226.815000    228.260000    220.505000    0.000000       0.000000       0.000000       0.000000       0.000000       0.000000       0.000000       0.000000       40.960000         39.910000         40.110000         39.280000         110.390000        107.560000        109.090000        106.810000        2.080000          2.090000          2.040000          1.940000          0.000000          0.000000          0.000000          0.000000          168.270000    164.382500    166.110000    162.225000    30.807500         31.132500         30.580000         28.230000         53.290000         54.040000         52.490000         48.560000         0.000000          0.000000          0.000000          0.000000          0.0               0.0               0.0               0.0               144.837500    150.615000    147.940000    142.105000    0.000000       \n",
       "max    0.0             0.0             0.0             7376.710000   8157.780000   10752.560000  10427.460000  8362.360000   9667.130000   14007.340000  10310.760000  13724.380000   15371.040000   13095.360000   8464.030000    3775.110000    2812.040000    5337.040000    4428.460000    6431.330000       7400.660000       10752.560000      10389.240000      4729.740000       4557.140000       4961.330000       4429.880000       1466.030000       1196.430000       928.490000        927.410000        342.860000        916.240000        502.090000        339.840000        10643.380000  7674.780000   11039.910000  11099.260000  7366.580000       8133.660000       8014.430000       9382.580000       8314.760000       9284.740000       13950.040000      10223.430000      628.560000        544.630000        516.910000        808.490000        0.0               0.0               0.0               0.0               8432.990000   10936.730000  13980.060000  11495.310000  5900.660000    \n",
       "\n",
       "       isd_og_mou_7  isd_og_mou_8  isd_og_mou_9  spl_og_mou_6  spl_og_mou_7  spl_og_mou_8  spl_og_mou_9   og_others_6   og_others_7   og_others_8   og_others_9  loc_ic_t2t_mou_6  loc_ic_t2t_mou_7  loc_ic_t2t_mou_8  loc_ic_t2t_mou_9  loc_ic_t2m_mou_6  loc_ic_t2m_mou_7  loc_ic_t2m_mou_8  loc_ic_t2m_mou_9  loc_ic_t2f_mou_6  loc_ic_t2f_mou_7  loc_ic_t2f_mou_8  loc_ic_t2f_mou_9  loc_ic_mou_6  loc_ic_mou_7  loc_ic_mou_8  loc_ic_mou_9  std_ic_t2t_mou_6  std_ic_t2t_mou_7  std_ic_t2t_mou_8  std_ic_t2t_mou_9  std_ic_t2m_mou_6  std_ic_t2m_mou_7  std_ic_t2m_mou_8  std_ic_t2m_mou_9  std_ic_t2f_mou_6  std_ic_t2f_mou_7  std_ic_t2f_mou_8  std_ic_t2f_mou_9  std_ic_t2o_mou_6  std_ic_t2o_mou_7  std_ic_t2o_mou_8  std_ic_t2o_mou_9  std_ic_mou_6  std_ic_mou_7  std_ic_mou_8  std_ic_mou_9  spl_ic_mou_6  spl_ic_mou_7  spl_ic_mou_8  spl_ic_mou_9  isd_ic_mou_6  isd_ic_mou_7  isd_ic_mou_8  isd_ic_mou_9   ic_others_6   ic_others_7   ic_others_8   ic_others_9  \n",
       "count  96140.000000  94621.000000  92254.000000  96062.000000  96140.000000  94621.000000  92254.000000  96062.000000  96140.000000  94621.000000  92254.000000  96062.000000      96140.000000      94621.000000      92254.000000      96062.000000      96140.000000      94621.000000      92254.000000      96062.000000      96140.000000      94621.000000      92254.000000      96062.000000  96140.000000  94621.000000  92254.000000  96062.000000      96140.000000      94621.000000      92254.000000      96062.000000      96140.000000      94621.000000      92254.000000      96062.000000      96140.000000      94621.000000      92254.000000      96062.0           96140.0           94621.0           92254.0           96062.000000  96140.000000  94621.000000  92254.000000  96062.000000  96140.000000  94621.000000  92254.000000  96062.000000  96140.000000  94621.000000  92254.000000  96062.000000  96140.000000  94621.000000  92254.000000  \n",
       "mean   0.776572      0.791247      0.723892      3.916811      4.978279      5.053769      4.412767      0.454157      0.030235      0.033372      0.047456      47.922365         47.990520         47.211362         46.281794         107.475650        107.120493        108.460515        106.155471        12.084305         12.599697         11.751834         12.173105         167.491059    167.719540    167.432575    164.619293    9.575993          10.011904         9.883921          9.432479          20.722240         21.656415         21.183211         19.620913         2.156397          2.216923          2.085004          2.173419          0.0               0.0               0.0               0.0               32.457179     33.887833     33.154735     31.229344     0.061557      0.033585      0.040361      0.163137      7.460608      8.334936      8.442001      8.063003      0.854656      1.012960      0.970800      1.017162      \n",
       "std    25.603052     25.544471     21.310751     14.936449     20.661570     17.855111     16.328227     4.125911      2.161717      2.323464      3.635466      140.258485        145.795055        137.239552        140.130610        171.713903        169.423620        169.723759        165.492803        40.140895         42.977442         39.125379         43.840776         254.124029    256.242707    250.025523    249.845070    54.330607         57.411971         55.073186         53.376273         80.793414         86.521393         83.683565         74.913050         16.495594         16.454061         15.812580         15.978601         0.0               0.0               0.0               0.0               106.283386    113.720168    110.127008    101.982303    0.160920      0.155725      0.146147      0.527860      59.722948     65.219829     63.813098     63.505379     11.955164     12.673099     13.284348     12.381172     \n",
       "min    0.000000      0.000000      0.000000      0.000000      0.000000      0.000000      0.000000      0.000000      0.000000      0.000000      0.000000      0.000000          0.000000          0.000000          0.000000          0.000000          0.000000          0.000000          0.000000          0.000000          0.000000          0.000000          0.000000          0.000000      0.000000      0.000000      0.000000      0.000000          0.000000          0.000000          0.000000          0.000000          0.000000          0.000000          0.000000          0.000000          0.000000          0.000000          0.000000          0.0               0.0               0.0               0.0               0.000000      0.000000      0.000000      0.000000      0.000000      0.000000      0.000000      0.000000      0.000000      0.000000      0.000000      0.000000      0.000000      0.000000      0.000000      0.000000      \n",
       "25%    0.000000      0.000000      0.000000      0.000000      0.000000      0.000000      0.000000      0.000000      0.000000      0.000000      0.000000      2.990000          3.230000          3.280000          3.290000          17.290000         18.590000         18.930000         18.560000         0.000000          0.000000          0.000000          0.000000          30.390000     32.460000     32.740000     32.290000     0.000000          0.000000          0.000000          0.000000          0.000000          0.000000          0.000000          0.000000          0.000000          0.000000          0.000000          0.000000          0.0               0.0               0.0               0.0               0.000000      0.000000      0.010000      0.000000      0.000000      0.000000      0.000000      0.000000      0.000000      0.000000      0.000000      0.000000      0.000000      0.000000      0.000000      0.000000      \n",
       "50%    0.000000      0.000000      0.000000      0.000000      0.000000      0.000000      0.000000      0.000000      0.000000      0.000000      0.000000      15.690000         15.740000         16.030000         15.660000         56.490000         57.080000         58.240000         56.610000         0.880000          0.930000          0.930000          0.960000          92.160000     92.550000     93.830000     91.640000     0.000000          0.000000          0.000000          0.000000          2.030000          2.040000          2.030000          1.740000          0.000000          0.000000          0.000000          0.000000          0.0               0.0               0.0               0.0               5.890000      5.960000      5.880000      5.380000      0.000000      0.000000      0.000000      0.000000      0.000000      0.000000      0.000000      0.000000      0.000000      0.000000      0.000000      0.000000      \n",
       "75%    0.000000      0.000000      0.000000      2.430000      3.710000      3.990000      3.230000      0.000000      0.000000      0.000000      0.000000      46.840000         45.810000         46.290000         45.180000         132.387500        130.960000        133.930000        130.490000        8.140000          8.282500          8.110000          8.140000          208.075000    205.837500    207.280000    202.737500    4.060000          4.230000          4.080000          3.510000          15.030000         15.740000         15.360000         14.260000         0.000000          0.000000          0.000000          0.000000          0.0               0.0               0.0               0.0               26.930000     28.310000     27.710000     25.690000     0.000000      0.000000      0.000000      0.060000      0.000000      0.000000      0.000000      0.000000      0.000000      0.000000      0.000000      0.000000      \n",
       "max    5490.280000   5681.540000   4244.530000   1023.210000   2372.510000   1390.880000   1635.710000   800.890000    370.130000    394.930000    787.790000    6626.930000       9324.660000       10696.230000      10598.830000      4693.860000       4455.830000       6274.190000       5463.780000       1872.340000       1983.010000       2433.060000       4318.280000       7454.630000   9669.910000   10830.160000  10796.290000  5459.560000       5800.930000       4309.290000       3819.830000       5647.160000       6141.880000       5645.860000       5689.760000       1351.110000       1136.080000       1394.890000       1431.960000       0.0               0.0               0.0               0.0               5712.110000   6745.760000   5957.140000   5956.660000   19.760000     21.330000     16.860000     62.380000     6789.410000   5289.540000   4127.010000   5057.740000   1362.940000   1495.940000   2327.510000   1005.230000   "
      ]
     },
     "execution_count": 214,
     "metadata": {},
     "output_type": "execute_result"
    }
   ],
   "source": [
    "data[null_values_perc.index.tolist()].describe()"
   ]
  },
  {
   "cell_type": "markdown",
   "metadata": {},
   "source": [
    "From the above statisticalparameter of missing values it is evident that there are there any monotonic values present in the feature as they \n",
    "will not add any insights."
   ]
  },
  {
   "cell_type": "code",
   "execution_count": 215,
   "metadata": {
    "execution": {
     "iopub.execute_input": "2022-01-01T02:07:02.040832Z",
     "iopub.status.busy": "2022-01-01T02:07:02.040396Z",
     "iopub.status.idle": "2022-01-01T02:07:02.324697Z",
     "shell.execute_reply": "2022-01-01T02:07:02.324018Z",
     "shell.execute_reply.started": "2022-01-01T02:07:02.040792Z"
    }
   },
   "outputs": [
    {
     "name": "stdout",
     "output_type": "stream",
     "text": [
      "['loc_og_t2o_mou', 'std_og_t2o_mou', 'loc_ic_t2o_mou', 'std_og_t2c_mou_6', 'std_og_t2c_mou_7', 'std_og_t2c_mou_8', 'std_og_t2c_mou_9', 'std_ic_t2o_mou_6', 'std_ic_t2o_mou_7', 'std_ic_t2o_mou_8', 'std_ic_t2o_mou_9']\n"
     ]
    }
   ],
   "source": [
    "to_remove=[]\n",
    "for i in null_values_perc.index.tolist():\n",
    "    if data[i].nunique()==1:\n",
    "        to_remove.append(i)\n",
    "print(to_remove)\n",
    "        \n",
    "    "
   ]
  },
  {
   "cell_type": "code",
   "execution_count": 216,
   "metadata": {
    "execution": {
     "iopub.execute_input": "2022-01-01T02:07:02.328440Z",
     "iopub.status.busy": "2022-01-01T02:07:02.328068Z",
     "iopub.status.idle": "2022-01-01T02:07:02.382688Z",
     "shell.execute_reply": "2022-01-01T02:07:02.381873Z",
     "shell.execute_reply.started": "2022-01-01T02:07:02.328406Z"
    }
   },
   "outputs": [],
   "source": [
    "data.drop(to_remove,axis=1,inplace=True)"
   ]
  },
  {
   "cell_type": "markdown",
   "metadata": {},
   "source": [
    "Let us check again the percentage of missing values"
   ]
  },
  {
   "cell_type": "code",
   "execution_count": 217,
   "metadata": {
    "execution": {
     "iopub.execute_input": "2022-01-01T02:07:02.384270Z",
     "iopub.status.busy": "2022-01-01T02:07:02.383998Z",
     "iopub.status.idle": "2022-01-01T02:07:02.427947Z",
     "shell.execute_reply": "2022-01-01T02:07:02.427267Z",
     "shell.execute_reply.started": "2022-01-01T02:07:02.384236Z"
    }
   },
   "outputs": [
    {
     "data": {
      "text/plain": [
       "onnet_mou_6         3.94\n",
       "onnet_mou_7         3.86\n",
       "onnet_mou_8         5.38\n",
       "onnet_mou_9         7.75\n",
       "offnet_mou_6        3.94\n",
       "offnet_mou_7        3.86\n",
       "offnet_mou_8        5.38\n",
       "offnet_mou_9        7.75\n",
       "roam_ic_mou_6       3.94\n",
       "roam_ic_mou_7       3.86\n",
       "roam_ic_mou_8       5.38\n",
       "roam_ic_mou_9       7.75\n",
       "roam_og_mou_6       3.94\n",
       "roam_og_mou_7       3.86\n",
       "roam_og_mou_8       5.38\n",
       "roam_og_mou_9       7.75\n",
       "loc_og_t2t_mou_6    3.94\n",
       "loc_og_t2t_mou_7    3.86\n",
       "loc_og_t2t_mou_8    5.38\n",
       "loc_og_t2t_mou_9    7.75\n",
       "loc_og_t2m_mou_6    3.94\n",
       "loc_og_t2m_mou_7    3.86\n",
       "loc_og_t2m_mou_8    5.38\n",
       "loc_og_t2m_mou_9    7.75\n",
       "loc_og_t2f_mou_6    3.94\n",
       "loc_og_t2f_mou_7    3.86\n",
       "loc_og_t2f_mou_8    5.38\n",
       "loc_og_t2f_mou_9    7.75\n",
       "loc_og_t2c_mou_6    3.94\n",
       "loc_og_t2c_mou_7    3.86\n",
       "loc_og_t2c_mou_8    5.38\n",
       "loc_og_t2c_mou_9    7.75\n",
       "loc_og_mou_6        3.94\n",
       "loc_og_mou_7        3.86\n",
       "loc_og_mou_8        5.38\n",
       "loc_og_mou_9        7.75\n",
       "std_og_t2t_mou_6    3.94\n",
       "std_og_t2t_mou_7    3.86\n",
       "std_og_t2t_mou_8    5.38\n",
       "std_og_t2t_mou_9    7.75\n",
       "std_og_t2m_mou_6    3.94\n",
       "std_og_t2m_mou_7    3.86\n",
       "std_og_t2m_mou_8    5.38\n",
       "std_og_t2m_mou_9    7.75\n",
       "std_og_t2f_mou_6    3.94\n",
       "std_og_t2f_mou_7    3.86\n",
       "std_og_t2f_mou_8    5.38\n",
       "std_og_t2f_mou_9    7.75\n",
       "std_og_mou_6        3.94\n",
       "std_og_mou_7        3.86\n",
       "std_og_mou_8        5.38\n",
       "std_og_mou_9        7.75\n",
       "isd_og_mou_6        3.94\n",
       "isd_og_mou_7        3.86\n",
       "isd_og_mou_8        5.38\n",
       "isd_og_mou_9        7.75\n",
       "spl_og_mou_6        3.94\n",
       "spl_og_mou_7        3.86\n",
       "spl_og_mou_8        5.38\n",
       "spl_og_mou_9        7.75\n",
       "og_others_6         3.94\n",
       "og_others_7         3.86\n",
       "og_others_8         5.38\n",
       "og_others_9         7.75\n",
       "loc_ic_t2t_mou_6    3.94\n",
       "loc_ic_t2t_mou_7    3.86\n",
       "loc_ic_t2t_mou_8    5.38\n",
       "loc_ic_t2t_mou_9    7.75\n",
       "loc_ic_t2m_mou_6    3.94\n",
       "loc_ic_t2m_mou_7    3.86\n",
       "loc_ic_t2m_mou_8    5.38\n",
       "loc_ic_t2m_mou_9    7.75\n",
       "loc_ic_t2f_mou_6    3.94\n",
       "loc_ic_t2f_mou_7    3.86\n",
       "loc_ic_t2f_mou_8    5.38\n",
       "loc_ic_t2f_mou_9    7.75\n",
       "loc_ic_mou_6        3.94\n",
       "loc_ic_mou_7        3.86\n",
       "loc_ic_mou_8        5.38\n",
       "loc_ic_mou_9        7.75\n",
       "std_ic_t2t_mou_6    3.94\n",
       "std_ic_t2t_mou_7    3.86\n",
       "std_ic_t2t_mou_8    5.38\n",
       "std_ic_t2t_mou_9    7.75\n",
       "std_ic_t2m_mou_6    3.94\n",
       "std_ic_t2m_mou_7    3.86\n",
       "std_ic_t2m_mou_8    5.38\n",
       "std_ic_t2m_mou_9    7.75\n",
       "std_ic_t2f_mou_6    3.94\n",
       "std_ic_t2f_mou_7    3.86\n",
       "std_ic_t2f_mou_8    5.38\n",
       "std_ic_t2f_mou_9    7.75\n",
       "std_ic_mou_6        3.94\n",
       "std_ic_mou_7        3.86\n",
       "std_ic_mou_8        5.38\n",
       "std_ic_mou_9        7.75\n",
       "spl_ic_mou_6        3.94\n",
       "spl_ic_mou_7        3.86\n",
       "spl_ic_mou_8        5.38\n",
       "spl_ic_mou_9        7.75\n",
       "isd_ic_mou_6        3.94\n",
       "isd_ic_mou_7        3.86\n",
       "isd_ic_mou_8        5.38\n",
       "isd_ic_mou_9        7.75\n",
       "ic_others_6         3.94\n",
       "ic_others_7         3.86\n",
       "ic_others_8         5.38\n",
       "ic_others_9         7.75\n",
       "dtype: float64"
      ]
     },
     "execution_count": 217,
     "metadata": {},
     "output_type": "execute_result"
    }
   ],
   "source": [
    "null_values=data.isnull().sum()/len(data)\n",
    "null_values_perc=round(null_values*100,2)\n",
    "null_values_perc=null_values_perc[null_values.sort_values(ascending=False)>0]\n",
    "null_values_perc"
   ]
  },
  {
   "cell_type": "markdown",
   "metadata": {},
   "source": [
    "Let us create a sample code which identifies outliers in the data and impute them with mean else we shall impute them with median"
   ]
  },
  {
   "cell_type": "code",
   "execution_count": 218,
   "metadata": {
    "execution": {
     "iopub.execute_input": "2022-01-01T02:07:02.429907Z",
     "iopub.status.busy": "2022-01-01T02:07:02.429441Z",
     "iopub.status.idle": "2022-01-01T02:07:02.847184Z",
     "shell.execute_reply": "2022-01-01T02:07:02.846433Z",
     "shell.execute_reply.started": "2022-01-01T02:07:02.429864Z"
    }
   },
   "outputs": [],
   "source": [
    "mean_imputation=[]\n",
    "median_imputation=[]\n",
    "for j in null_values_perc.index.tolist():\n",
    "    highest=data[j].mean() + 3*data[j].std()\n",
    "    lowest=data[j].mean() - 3*data[j].std()\n",
    "    if len(data[(data[j]>highest)| (data[j]<lowest)])!=0:\n",
    "        median_imputation.append(j)\n",
    "    else:\n",
    "        mean_imputation.append(j)\n",
    "        \n",
    "        \n",
    "    "
   ]
  },
  {
   "cell_type": "code",
   "execution_count": 219,
   "metadata": {
    "execution": {
     "iopub.execute_input": "2022-01-01T02:07:02.848715Z",
     "iopub.status.busy": "2022-01-01T02:07:02.848384Z",
     "iopub.status.idle": "2022-01-01T02:07:02.856369Z",
     "shell.execute_reply": "2022-01-01T02:07:02.855647Z",
     "shell.execute_reply.started": "2022-01-01T02:07:02.848677Z"
    }
   },
   "outputs": [
    {
     "data": {
      "text/plain": [
       "['onnet_mou_6',\n",
       " 'onnet_mou_7',\n",
       " 'onnet_mou_8',\n",
       " 'onnet_mou_9',\n",
       " 'offnet_mou_6',\n",
       " 'offnet_mou_7',\n",
       " 'offnet_mou_8',\n",
       " 'offnet_mou_9',\n",
       " 'roam_ic_mou_6',\n",
       " 'roam_ic_mou_7',\n",
       " 'roam_ic_mou_8',\n",
       " 'roam_ic_mou_9',\n",
       " 'roam_og_mou_6',\n",
       " 'roam_og_mou_7',\n",
       " 'roam_og_mou_8',\n",
       " 'roam_og_mou_9',\n",
       " 'loc_og_t2t_mou_6',\n",
       " 'loc_og_t2t_mou_7',\n",
       " 'loc_og_t2t_mou_8',\n",
       " 'loc_og_t2t_mou_9',\n",
       " 'loc_og_t2m_mou_6',\n",
       " 'loc_og_t2m_mou_7',\n",
       " 'loc_og_t2m_mou_8',\n",
       " 'loc_og_t2m_mou_9',\n",
       " 'loc_og_t2f_mou_6',\n",
       " 'loc_og_t2f_mou_7',\n",
       " 'loc_og_t2f_mou_8',\n",
       " 'loc_og_t2f_mou_9',\n",
       " 'loc_og_t2c_mou_6',\n",
       " 'loc_og_t2c_mou_7',\n",
       " 'loc_og_t2c_mou_8',\n",
       " 'loc_og_t2c_mou_9',\n",
       " 'loc_og_mou_6',\n",
       " 'loc_og_mou_7',\n",
       " 'loc_og_mou_8',\n",
       " 'loc_og_mou_9',\n",
       " 'std_og_t2t_mou_6',\n",
       " 'std_og_t2t_mou_7',\n",
       " 'std_og_t2t_mou_8',\n",
       " 'std_og_t2t_mou_9',\n",
       " 'std_og_t2m_mou_6',\n",
       " 'std_og_t2m_mou_7',\n",
       " 'std_og_t2m_mou_8',\n",
       " 'std_og_t2m_mou_9',\n",
       " 'std_og_t2f_mou_6',\n",
       " 'std_og_t2f_mou_7',\n",
       " 'std_og_t2f_mou_8',\n",
       " 'std_og_t2f_mou_9',\n",
       " 'std_og_mou_6',\n",
       " 'std_og_mou_7',\n",
       " 'std_og_mou_8',\n",
       " 'std_og_mou_9',\n",
       " 'isd_og_mou_6',\n",
       " 'isd_og_mou_7',\n",
       " 'isd_og_mou_8',\n",
       " 'isd_og_mou_9',\n",
       " 'spl_og_mou_6',\n",
       " 'spl_og_mou_7',\n",
       " 'spl_og_mou_8',\n",
       " 'spl_og_mou_9',\n",
       " 'og_others_6',\n",
       " 'og_others_7',\n",
       " 'og_others_8',\n",
       " 'og_others_9',\n",
       " 'loc_ic_t2t_mou_6',\n",
       " 'loc_ic_t2t_mou_7',\n",
       " 'loc_ic_t2t_mou_8',\n",
       " 'loc_ic_t2t_mou_9',\n",
       " 'loc_ic_t2m_mou_6',\n",
       " 'loc_ic_t2m_mou_7',\n",
       " 'loc_ic_t2m_mou_8',\n",
       " 'loc_ic_t2m_mou_9',\n",
       " 'loc_ic_t2f_mou_6',\n",
       " 'loc_ic_t2f_mou_7',\n",
       " 'loc_ic_t2f_mou_8',\n",
       " 'loc_ic_t2f_mou_9',\n",
       " 'loc_ic_mou_6',\n",
       " 'loc_ic_mou_7',\n",
       " 'loc_ic_mou_8',\n",
       " 'loc_ic_mou_9',\n",
       " 'std_ic_t2t_mou_6',\n",
       " 'std_ic_t2t_mou_7',\n",
       " 'std_ic_t2t_mou_8',\n",
       " 'std_ic_t2t_mou_9',\n",
       " 'std_ic_t2m_mou_6',\n",
       " 'std_ic_t2m_mou_7',\n",
       " 'std_ic_t2m_mou_8',\n",
       " 'std_ic_t2m_mou_9',\n",
       " 'std_ic_t2f_mou_6',\n",
       " 'std_ic_t2f_mou_7',\n",
       " 'std_ic_t2f_mou_8',\n",
       " 'std_ic_t2f_mou_9',\n",
       " 'std_ic_mou_6',\n",
       " 'std_ic_mou_7',\n",
       " 'std_ic_mou_8',\n",
       " 'std_ic_mou_9',\n",
       " 'spl_ic_mou_6',\n",
       " 'spl_ic_mou_7',\n",
       " 'spl_ic_mou_8',\n",
       " 'spl_ic_mou_9',\n",
       " 'isd_ic_mou_6',\n",
       " 'isd_ic_mou_7',\n",
       " 'isd_ic_mou_8',\n",
       " 'isd_ic_mou_9',\n",
       " 'ic_others_6',\n",
       " 'ic_others_7',\n",
       " 'ic_others_8',\n",
       " 'ic_others_9']"
      ]
     },
     "execution_count": 219,
     "metadata": {},
     "output_type": "execute_result"
    }
   ],
   "source": [
    "median_imputation"
   ]
  },
  {
   "cell_type": "markdown",
   "metadata": {},
   "source": [
    "This shows that all the above missing data contains outliers so we shall impute using the median imputation"
   ]
  },
  {
   "cell_type": "code",
   "execution_count": 220,
   "metadata": {
    "execution": {
     "iopub.execute_input": "2022-01-01T02:07:02.858101Z",
     "iopub.status.busy": "2022-01-01T02:07:02.857672Z",
     "iopub.status.idle": "2022-01-01T02:07:03.126511Z",
     "shell.execute_reply": "2022-01-01T02:07:03.125776Z",
     "shell.execute_reply.started": "2022-01-01T02:07:02.858040Z"
    }
   },
   "outputs": [],
   "source": [
    "data[median_imputation]=data[median_imputation].fillna(data[median_imputation].median())"
   ]
  },
  {
   "cell_type": "code",
   "execution_count": 221,
   "metadata": {
    "execution": {
     "iopub.execute_input": "2022-01-01T02:07:03.128213Z",
     "iopub.status.busy": "2022-01-01T02:07:03.127914Z",
     "iopub.status.idle": "2022-01-01T02:07:03.167801Z",
     "shell.execute_reply": "2022-01-01T02:07:03.167041Z",
     "shell.execute_reply.started": "2022-01-01T02:07:03.128177Z"
    }
   },
   "outputs": [
    {
     "data": {
      "text/plain": [
       "Series([], dtype: float64)"
      ]
     },
     "execution_count": 221,
     "metadata": {},
     "output_type": "execute_result"
    }
   ],
   "source": [
    "##Checking the missing values again\n",
    "\n",
    "null_values=data.isnull().sum()/len(data)\n",
    "null_values_perc=round(null_values*100,2)\n",
    "null_values_perc=null_values_perc[null_values.sort_values(ascending=False)>0]\n",
    "null_values_perc"
   ]
  },
  {
   "cell_type": "markdown",
   "metadata": {},
   "source": [
    "**3.Deriving the target feature based on 9 month data***"
   ]
  },
  {
   "cell_type": "markdown",
   "metadata": {},
   "source": [
    "As per the description stated, we need to derive the churn as it is explicitly not present in the data. The following steps are:\n",
    "    \n",
    "    1. Calculate the total recharge amount for June and July ( total reach data*average amt for the particular month)\n",
    "    2. Calculate the total call recharge and data recharge amount (total recharge amt+call recharge amount)\n",
    "    3.Calculate the average of the total call and data recharge amount for 6 anf 7,store it in new coulmn\n",
    "    4.Extarct the 70th percentile of the obtained data\n",
    "\n",
    "**Churn prediction:**\n",
    "    \n",
    "    1.With the filtered data we need to find if there are customers who were active september which \n",
    "      means we need to find if the columns total incoming and outgoing minutes of usage along \n",
    "      with the 2g and 3g data consumpion are not zero.\n",
    "    2.If the aforementioned columns are zero then it clearly indicates that the cutsomer has churned else not churned."
   ]
  },
  {
   "cell_type": "code",
   "execution_count": 222,
   "metadata": {
    "execution": {
     "iopub.execute_input": "2022-01-01T02:07:03.169504Z",
     "iopub.status.busy": "2022-01-01T02:07:03.169254Z",
     "iopub.status.idle": "2022-01-01T02:07:03.176026Z",
     "shell.execute_reply": "2022-01-01T02:07:03.175228Z",
     "shell.execute_reply.started": "2022-01-01T02:07:03.169471Z"
    }
   },
   "outputs": [],
   "source": [
    "# calculate the total data recharge amount for June and July ( total reach data*average amt for the particular month)\n",
    "data['6_month_total_recharge'] = data.total_rech_data_6 * data.av_rech_amt_data_6\n",
    "data['7_month_total_recharge'] = data.total_rech_data_7 * data.av_rech_amt_data_7"
   ]
  },
  {
   "cell_type": "code",
   "execution_count": 223,
   "metadata": {
    "execution": {
     "iopub.execute_input": "2022-01-01T02:07:03.177916Z",
     "iopub.status.busy": "2022-01-01T02:07:03.177614Z",
     "iopub.status.idle": "2022-01-01T02:07:03.187051Z",
     "shell.execute_reply": "2022-01-01T02:07:03.186389Z",
     "shell.execute_reply.started": "2022-01-01T02:07:03.177876Z"
    }
   },
   "outputs": [],
   "source": [
    "# Calculate the total call recharge and data recharge amount (total recharge amt+call recharge amount)\n",
    "data['6_month_total_amt'] = data.total_rech_amt_6 + data['6_month_total_recharge']\n",
    "data['7_month_total_amt'] = data.total_rech_amt_7 + data['7_month_total_recharge']"
   ]
  },
  {
   "cell_type": "code",
   "execution_count": 224,
   "metadata": {
    "execution": {
     "iopub.execute_input": "2022-01-01T02:07:03.189554Z",
     "iopub.status.busy": "2022-01-01T02:07:03.188910Z",
     "iopub.status.idle": "2022-01-01T02:07:03.195367Z",
     "shell.execute_reply": "2022-01-01T02:07:03.194678Z",
     "shell.execute_reply.started": "2022-01-01T02:07:03.189518Z"
    }
   },
   "outputs": [],
   "source": [
    "#Calculate the average of the total call and data recharge amount for 6 anf 7,store it in new coulmn\n",
    "data['6_7_avg_amt_data'] = (data['6_month_total_amt'] + data['7_month_total_amt'])/2"
   ]
  },
  {
   "cell_type": "code",
   "execution_count": 225,
   "metadata": {
    "execution": {
     "iopub.execute_input": "2022-01-01T02:07:03.197279Z",
     "iopub.status.busy": "2022-01-01T02:07:03.196929Z",
     "iopub.status.idle": "2022-01-01T02:07:03.205355Z",
     "shell.execute_reply": "2022-01-01T02:07:03.204494Z",
     "shell.execute_reply.started": "2022-01-01T02:07:03.197244Z"
    }
   },
   "outputs": [
    {
     "name": "stdout",
     "output_type": "stream",
     "text": [
      "High values customer at 70th percentile : 478.0\n"
     ]
    }
   ],
   "source": [
    "#Extarct the 70th percentile of the obtained data\n",
    "print(\"High values customer at 70th percentile : {0}\".format(data['6_7_avg_amt_data'].quantile(0.7)))"
   ]
  },
  {
   "cell_type": "code",
   "execution_count": 226,
   "metadata": {
    "execution": {
     "iopub.execute_input": "2022-01-01T02:07:03.207313Z",
     "iopub.status.busy": "2022-01-01T02:07:03.206951Z",
     "iopub.status.idle": "2022-01-01T02:07:03.315662Z",
     "shell.execute_reply": "2022-01-01T02:07:03.314886Z",
     "shell.execute_reply.started": "2022-01-01T02:07:03.207280Z"
    }
   },
   "outputs": [],
   "source": [
    "#Retaining only the high values customers and removing others\n",
    "\n",
    "imp_cust=data.loc[(data['6_7_avg_amt_data']>data['6_7_avg_amt_data'].quantile(0.7)),:]\n"
   ]
  },
  {
   "cell_type": "code",
   "execution_count": 227,
   "metadata": {
    "execution": {
     "iopub.execute_input": "2022-01-01T02:07:03.317340Z",
     "iopub.status.busy": "2022-01-01T02:07:03.317067Z",
     "iopub.status.idle": "2022-01-01T02:07:03.321849Z",
     "shell.execute_reply": "2022-01-01T02:07:03.320974Z",
     "shell.execute_reply.started": "2022-01-01T02:07:03.317305Z"
    }
   },
   "outputs": [
    {
     "name": "stdout",
     "output_type": "stream",
     "text": [
      "(29953, 191)\n"
     ]
    }
   ],
   "source": [
    "##The dimension of the data are as follows:\n",
    "\n",
    "print(imp_cust.shape)"
   ]
  },
  {
   "cell_type": "markdown",
   "metadata": {},
   "source": [
    "Note as mentioned in the task we have around 29.9k rows"
   ]
  },
  {
   "cell_type": "markdown",
   "metadata": {},
   "source": [
    "We used the above derived features as proxies to extract the high value customers, we shall now remove them\n"
   ]
  },
  {
   "cell_type": "code",
   "execution_count": 228,
   "metadata": {
    "execution": {
     "iopub.execute_input": "2022-01-01T02:07:03.323880Z",
     "iopub.status.busy": "2022-01-01T02:07:03.323574Z",
     "iopub.status.idle": "2022-01-01T02:07:03.341242Z",
     "shell.execute_reply": "2022-01-01T02:07:03.340615Z",
     "shell.execute_reply.started": "2022-01-01T02:07:03.323844Z"
    }
   },
   "outputs": [],
   "source": [
    "imp_cust.drop(['6_month_total_recharge','7_month_total_recharge','6_month_total_amt','7_month_total_amt',\n",
    "              '6_7_avg_amt_data'],inplace=True,axis=1)"
   ]
  },
  {
   "cell_type": "markdown",
   "metadata": {},
   "source": [
    "**Churn derivation**"
   ]
  },
  {
   "cell_type": "code",
   "execution_count": 229,
   "metadata": {
    "execution": {
     "iopub.execute_input": "2022-01-01T02:07:03.342791Z",
     "iopub.status.busy": "2022-01-01T02:07:03.342476Z",
     "iopub.status.idle": "2022-01-01T02:07:03.348399Z",
     "shell.execute_reply": "2022-01-01T02:07:03.347556Z",
     "shell.execute_reply.started": "2022-01-01T02:07:03.342755Z"
    }
   },
   "outputs": [],
   "source": [
    "# calculate total incoming and outgoing minutes of usage\n",
    "imp_cust['9_month_total_calls'] = imp_cust.total_ic_mou_9 + imp_cust.total_og_mou_9"
   ]
  },
  {
   "cell_type": "code",
   "execution_count": 230,
   "metadata": {
    "execution": {
     "iopub.execute_input": "2022-01-01T02:07:03.350180Z",
     "iopub.status.busy": "2022-01-01T02:07:03.349915Z",
     "iopub.status.idle": "2022-01-01T02:07:03.357772Z",
     "shell.execute_reply": "2022-01-01T02:07:03.356957Z",
     "shell.execute_reply.started": "2022-01-01T02:07:03.350147Z"
    }
   },
   "outputs": [],
   "source": [
    "# calculate 2g and 3g data consumption\n",
    "imp_cust['9_month_total_internet'] =  imp_cust.vol_2g_mb_9 + imp_cust.vol_3g_mb_9"
   ]
  },
  {
   "cell_type": "code",
   "execution_count": 231,
   "metadata": {
    "execution": {
     "iopub.execute_input": "2022-01-01T02:07:03.359764Z",
     "iopub.status.busy": "2022-01-01T02:07:03.359465Z",
     "iopub.status.idle": "2022-01-01T02:07:03.779397Z",
     "shell.execute_reply": "2022-01-01T02:07:03.778647Z",
     "shell.execute_reply.started": "2022-01-01T02:07:03.359728Z"
    }
   },
   "outputs": [],
   "source": [
    "#We now create the churn variable based on the above data ---->0 for not churn and 1 for churn. We use lambda function\n",
    "\n",
    "imp_cust['churn']=imp_cust.apply(lambda x:1 if (x['9_month_total_calls']==0 and x['9_month_total_internet']==0) else 0,axis=1)\n"
   ]
  },
  {
   "cell_type": "code",
   "execution_count": 232,
   "metadata": {
    "execution": {
     "iopub.execute_input": "2022-01-01T02:07:03.780729Z",
     "iopub.status.busy": "2022-01-01T02:07:03.780491Z",
     "iopub.status.idle": "2022-01-01T02:07:03.957465Z",
     "shell.execute_reply": "2022-01-01T02:07:03.956813Z",
     "shell.execute_reply.started": "2022-01-01T02:07:03.780696Z"
    }
   },
   "outputs": [
    {
     "data": {
      "text/plain": [
       "<Figure size 720x288 with 0 Axes>"
      ]
     },
     "metadata": {},
     "output_type": "display_data"
    },
    {
     "data": {
      "image/png": "[encoded data removed]",
      "text/plain": [
       "<Figure size 432x288 with 1 Axes>"
      ]
     },
     "metadata": {},
     "output_type": "display_data"
    }
   ],
   "source": [
    "##Distribution of the target variable\n",
    "plt.figure(figsize=[10,4])\n",
    "fig, ax = plt.subplots()\n",
    "p1=round(imp_cust.churn.value_counts(normalize=True)[0],2)\n",
    "p2=round(imp_cust.churn.value_counts(normalize=True)[1],2)\n",
    "y=[p1,p2]\n",
    "x=['%Number of people non-churned','%Number of people churned']\n",
    "plt.barh(x,y,color={'red','blue'})\n",
    "plt.title('% Customer Churn spread')\n",
    "for i, v in enumerate(y):\n",
    "    ax.text(v-0.0001, i, str(v), color='blue', fontweight='bold')\n",
    "plt.show()"
   ]
  },
  {
   "cell_type": "markdown",
   "metadata": {},
   "source": [
    "The data is highly imbalanced as the there are only 8% people who churned against the 92% people not-churned"
   ]
  },
  {
   "cell_type": "code",
   "execution_count": 233,
   "metadata": {
    "execution": {
     "iopub.execute_input": "2022-01-01T02:07:03.958993Z",
     "iopub.status.busy": "2022-01-01T02:07:03.958752Z",
     "iopub.status.idle": "2022-01-01T02:07:03.964606Z",
     "shell.execute_reply": "2022-01-01T02:07:03.963901Z",
     "shell.execute_reply.started": "2022-01-01T02:07:03.958959Z"
    }
   },
   "outputs": [
    {
     "name": "stdout",
     "output_type": "stream",
     "text": [
      "['arpu_9', 'onnet_mou_9', 'offnet_mou_9', 'roam_ic_mou_9', 'roam_og_mou_9', 'loc_og_t2t_mou_9', 'loc_og_t2m_mou_9', 'loc_og_t2f_mou_9', 'loc_og_t2c_mou_9', 'loc_og_mou_9', 'std_og_t2t_mou_9', 'std_og_t2m_mou_9', 'std_og_t2f_mou_9', 'std_og_mou_9', 'isd_og_mou_9', 'spl_og_mou_9', 'og_others_9', 'total_og_mou_9', 'loc_ic_t2t_mou_9', 'loc_ic_t2m_mou_9', 'loc_ic_t2f_mou_9', 'loc_ic_mou_9', 'std_ic_t2t_mou_9', 'std_ic_t2m_mou_9', 'std_ic_t2f_mou_9', 'std_ic_mou_9', 'total_ic_mou_9', 'spl_ic_mou_9', 'isd_ic_mou_9', 'ic_others_9', 'total_rech_num_9', 'total_rech_amt_9', 'max_rech_amt_9', 'last_day_rch_amt_9', 'total_rech_data_9', 'max_rech_data_9', 'count_rech_2g_9', 'count_rech_3g_9', 'av_rech_amt_data_9', 'vol_2g_mb_9', 'vol_3g_mb_9', 'monthly_2g_9', 'sachet_2g_9', 'monthly_3g_9', 'sachet_3g_9', '9_month_total_calls', '9_month_total_internet']\n"
     ]
    }
   ],
   "source": [
    "##Let us remove all churn related columnsbecause our prediction is going to be based out of three months\n",
    "to_remove=[]\n",
    "for i in imp_cust.columns.tolist():\n",
    "    if ('_9' in i ) or ('9_' in i):\n",
    "        to_remove.append(i)\n",
    "print(to_remove)\n",
    "        \n"
   ]
  },
  {
   "cell_type": "code",
   "execution_count": 234,
   "metadata": {
    "execution": {
     "iopub.execute_input": "2022-01-01T02:07:03.966587Z",
     "iopub.status.busy": "2022-01-01T02:07:03.966104Z",
     "iopub.status.idle": "2022-01-01T02:07:03.985459Z",
     "shell.execute_reply": "2022-01-01T02:07:03.984732Z",
     "shell.execute_reply.started": "2022-01-01T02:07:03.966551Z"
    }
   },
   "outputs": [
    {
     "name": "stdout",
     "output_type": "stream",
     "text": [
      "(29953, 142)\n"
     ]
    }
   ],
   "source": [
    "imp_cust.drop(to_remove,axis=1,inplace=True)\n",
    "print(imp_cust.shape)"
   ]
  },
  {
   "cell_type": "markdown",
   "metadata": {},
   "source": [
    "**Deriving important variables**\n",
    "\n",
    "1. If we observe we have months 6 and 7 data, we shall take the average of them and compare with the month_8 data to draw some inferences"
   ]
  },
  {
   "cell_type": "code",
   "execution_count": 235,
   "metadata": {
    "execution": {
     "iopub.execute_input": "2022-01-01T02:07:03.987333Z",
     "iopub.status.busy": "2022-01-01T02:07:03.986789Z",
     "iopub.status.idle": "2022-01-01T02:07:03.992649Z",
     "shell.execute_reply": "2022-01-01T02:07:03.992025Z",
     "shell.execute_reply.started": "2022-01-01T02:07:03.987294Z"
    }
   },
   "outputs": [],
   "source": [
    "##Let us extract all the columns with 6 and 7 month and let us take the average of them.\n",
    "\n",
    "sixth_month_data=[]\n",
    "seventh_month_data=[]\n",
    "for i in imp_cust.columns.tolist():\n",
    "    if '_6' in i:\n",
    "        sixth_month_data.append(i)\n",
    "    elif '_7' in i:\n",
    "        seventh_month_data.append(i)\n",
    "\n",
    "        "
   ]
  },
  {
   "cell_type": "code",
   "execution_count": 236,
   "metadata": {
    "execution": {
     "iopub.execute_input": "2022-01-01T02:07:03.994236Z",
     "iopub.status.busy": "2022-01-01T02:07:03.993965Z",
     "iopub.status.idle": "2022-01-01T02:07:04.018315Z",
     "shell.execute_reply": "2022-01-01T02:07:04.017708Z",
     "shell.execute_reply.started": "2022-01-01T02:07:03.994201Z"
    }
   },
   "outputs": [
    {
     "name": "stdout",
     "output_type": "stream",
     "text": [
      "arpu_6 _____ arpu_7\n",
      "onnet_mou_6 _____ onnet_mou_7\n",
      "offnet_mou_6 _____ offnet_mou_7\n",
      "roam_ic_mou_6 _____ roam_ic_mou_7\n",
      "roam_og_mou_6 _____ roam_og_mou_7\n",
      "loc_og_t2t_mou_6 _____ loc_og_t2t_mou_7\n",
      "loc_og_t2m_mou_6 _____ loc_og_t2m_mou_7\n",
      "loc_og_t2f_mou_6 _____ loc_og_t2f_mou_7\n",
      "loc_og_t2c_mou_6 _____ loc_og_t2c_mou_7\n",
      "loc_og_mou_6 _____ loc_og_mou_7\n",
      "std_og_t2t_mou_6 _____ std_og_t2t_mou_7\n",
      "std_og_t2m_mou_6 _____ std_og_t2m_mou_7\n",
      "std_og_t2f_mou_6 _____ std_og_t2f_mou_7\n",
      "std_og_mou_6 _____ std_og_mou_7\n",
      "isd_og_mou_6 _____ isd_og_mou_7\n",
      "spl_og_mou_6 _____ spl_og_mou_7\n",
      "og_others_6 _____ og_others_7\n",
      "total_og_mou_6 _____ total_og_mou_7\n",
      "loc_ic_t2t_mou_6 _____ loc_ic_t2t_mou_7\n",
      "loc_ic_t2m_mou_6 _____ loc_ic_t2m_mou_7\n",
      "loc_ic_t2f_mou_6 _____ loc_ic_t2f_mou_7\n",
      "loc_ic_mou_6 _____ loc_ic_mou_7\n",
      "std_ic_t2t_mou_6 _____ std_ic_t2t_mou_7\n",
      "std_ic_t2m_mou_6 _____ std_ic_t2m_mou_7\n",
      "std_ic_t2f_mou_6 _____ std_ic_t2f_mou_7\n",
      "std_ic_mou_6 _____ std_ic_mou_7\n",
      "total_ic_mou_6 _____ total_ic_mou_7\n",
      "spl_ic_mou_6 _____ spl_ic_mou_7\n",
      "isd_ic_mou_6 _____ isd_ic_mou_7\n",
      "ic_others_6 _____ ic_others_7\n",
      "total_rech_num_6 _____ total_rech_num_7\n",
      "total_rech_amt_6 _____ total_rech_amt_7\n",
      "max_rech_amt_6 _____ max_rech_amt_7\n",
      "last_day_rch_amt_6 _____ last_day_rch_amt_7\n",
      "total_rech_data_6 _____ total_rech_data_7\n",
      "max_rech_data_6 _____ max_rech_data_7\n",
      "count_rech_2g_6 _____ count_rech_2g_7\n",
      "count_rech_3g_6 _____ count_rech_3g_7\n",
      "av_rech_amt_data_6 _____ av_rech_amt_data_7\n",
      "vol_2g_mb_6 _____ vol_2g_mb_7\n",
      "vol_3g_mb_6 _____ vol_3g_mb_7\n",
      "monthly_2g_6 _____ monthly_2g_7\n",
      "sachet_2g_6 _____ sachet_2g_7\n",
      "monthly_3g_6 _____ monthly_3g_7\n",
      "sachet_3g_6 _____ sachet_3g_7\n"
     ]
    }
   ],
   "source": [
    "##We are going to take the average of columns for the below entries and we are gonna compare this with the 8th month\n",
    "for i,j in zip(sixth_month_data,seventh_month_data):\n",
    "    print(i,'_____',j)\n",
    "        "
   ]
  },
  {
   "cell_type": "code",
   "execution_count": 237,
   "metadata": {
    "execution": {
     "iopub.execute_input": "2022-01-01T02:07:04.020856Z",
     "iopub.status.busy": "2022-01-01T02:07:04.020681Z",
     "iopub.status.idle": "2022-01-01T02:07:04.064145Z",
     "shell.execute_reply": "2022-01-01T02:07:04.063496Z",
     "shell.execute_reply.started": "2022-01-01T02:07:04.020834Z"
    }
   },
   "outputs": [],
   "source": [
    "##We shall implement the dynamic way of column naming\n",
    "##imp_cust['avg_'+i+'_7']\n",
    "for i,j in zip(sixth_month_data,seventh_month_data):\n",
    "    imp_cust['avg_'+i+'_7']=(imp_cust[i]+imp_cust[j])/2"
   ]
  },
  {
   "cell_type": "code",
   "execution_count": 238,
   "metadata": {
    "execution": {
     "iopub.execute_input": "2022-01-01T02:07:04.065947Z",
     "iopub.status.busy": "2022-01-01T02:07:04.065708Z",
     "iopub.status.idle": "2022-01-01T02:07:04.094054Z",
     "shell.execute_reply": "2022-01-01T02:07:04.093231Z",
     "shell.execute_reply.started": "2022-01-01T02:07:04.065913Z"
    }
   },
   "outputs": [
    {
     "name": "stdout",
     "output_type": "stream",
     "text": [
      "The final dataframe for modelling and interpretation____ (29953, 97)\n"
     ]
    }
   ],
   "source": [
    "##We shall now remove the data corresponding to 6 and 7 as we already taken the average\n",
    "\n",
    "total_remove=sixth_month_data+seventh_month_data\n",
    "imp_cust.drop(total_remove,axis=1,inplace=True)\n",
    "print('The final dataframe for modelling and interpretation____',imp_cust.shape)"
   ]
  },
  {
   "cell_type": "code",
   "execution_count": 239,
   "metadata": {
    "execution": {
     "iopub.execute_input": "2022-01-01T02:07:04.096225Z",
     "iopub.status.busy": "2022-01-01T02:07:04.095376Z",
     "iopub.status.idle": "2022-01-01T02:07:04.183828Z",
     "shell.execute_reply": "2022-01-01T02:07:04.183054Z",
     "shell.execute_reply.started": "2022-01-01T02:07:04.096185Z"
    }
   },
   "outputs": [
    {
     "data": {
      "text/html": [
       "<div>\n",
       "<style scoped>\n",
       "    .dataframe tbody tr th:only-of-type {\n",
       "        vertical-align: middle;\n",
       "    }\n",
       "\n",
       "    .dataframe tbody tr th {\n",
       "        vertical-align: top;\n",
       "    }\n",
       "\n",
       "    .dataframe thead th {\n",
       "        text-align: right;\n",
       "    }\n",
       "</style>\n",
       "<table border=\"1\" class=\"dataframe\">\n",
       "  <thead>\n",
       "    <tr style=\"text-align: right;\">\n",
       "      <th></th>\n",
       "      <th>mobile_number</th>\n",
       "      <th>arpu_8</th>\n",
       "      <th>onnet_mou_8</th>\n",
       "      <th>offnet_mou_8</th>\n",
       "      <th>roam_ic_mou_8</th>\n",
       "      <th>roam_og_mou_8</th>\n",
       "      <th>loc_og_t2t_mou_8</th>\n",
       "      <th>loc_og_t2m_mou_8</th>\n",
       "      <th>loc_og_t2f_mou_8</th>\n",
       "      <th>loc_og_t2c_mou_8</th>\n",
       "      <th>loc_og_mou_8</th>\n",
       "      <th>std_og_t2t_mou_8</th>\n",
       "      <th>std_og_t2m_mou_8</th>\n",
       "      <th>std_og_t2f_mou_8</th>\n",
       "      <th>std_og_mou_8</th>\n",
       "      <th>isd_og_mou_8</th>\n",
       "      <th>spl_og_mou_8</th>\n",
       "      <th>og_others_8</th>\n",
       "      <th>total_og_mou_8</th>\n",
       "      <th>loc_ic_t2t_mou_8</th>\n",
       "      <th>loc_ic_t2m_mou_8</th>\n",
       "      <th>loc_ic_t2f_mou_8</th>\n",
       "      <th>loc_ic_mou_8</th>\n",
       "      <th>std_ic_t2t_mou_8</th>\n",
       "      <th>std_ic_t2m_mou_8</th>\n",
       "      <th>std_ic_t2f_mou_8</th>\n",
       "      <th>std_ic_mou_8</th>\n",
       "      <th>total_ic_mou_8</th>\n",
       "      <th>spl_ic_mou_8</th>\n",
       "      <th>isd_ic_mou_8</th>\n",
       "      <th>ic_others_8</th>\n",
       "      <th>total_rech_num_8</th>\n",
       "      <th>total_rech_amt_8</th>\n",
       "      <th>max_rech_amt_8</th>\n",
       "      <th>last_day_rch_amt_8</th>\n",
       "      <th>total_rech_data_8</th>\n",
       "      <th>max_rech_data_8</th>\n",
       "      <th>count_rech_2g_8</th>\n",
       "      <th>count_rech_3g_8</th>\n",
       "      <th>av_rech_amt_data_8</th>\n",
       "      <th>vol_2g_mb_8</th>\n",
       "      <th>vol_3g_mb_8</th>\n",
       "      <th>monthly_2g_8</th>\n",
       "      <th>sachet_2g_8</th>\n",
       "      <th>monthly_3g_8</th>\n",
       "      <th>sachet_3g_8</th>\n",
       "      <th>aon</th>\n",
       "      <th>aug_vbc_3g</th>\n",
       "      <th>jul_vbc_3g</th>\n",
       "      <th>jun_vbc_3g</th>\n",
       "      <th>sep_vbc_3g</th>\n",
       "      <th>churn</th>\n",
       "      <th>avg_arpu_6_7</th>\n",
       "      <th>avg_onnet_mou_6_7</th>\n",
       "      <th>avg_offnet_mou_6_7</th>\n",
       "      <th>avg_roam_ic_mou_6_7</th>\n",
       "      <th>avg_roam_og_mou_6_7</th>\n",
       "      <th>avg_loc_og_t2t_mou_6_7</th>\n",
       "      <th>avg_loc_og_t2m_mou_6_7</th>\n",
       "      <th>avg_loc_og_t2f_mou_6_7</th>\n",
       "      <th>avg_loc_og_t2c_mou_6_7</th>\n",
       "      <th>avg_loc_og_mou_6_7</th>\n",
       "      <th>avg_std_og_t2t_mou_6_7</th>\n",
       "      <th>avg_std_og_t2m_mou_6_7</th>\n",
       "      <th>avg_std_og_t2f_mou_6_7</th>\n",
       "      <th>avg_std_og_mou_6_7</th>\n",
       "      <th>avg_isd_og_mou_6_7</th>\n",
       "      <th>avg_spl_og_mou_6_7</th>\n",
       "      <th>avg_og_others_6_7</th>\n",
       "      <th>avg_total_og_mou_6_7</th>\n",
       "      <th>avg_loc_ic_t2t_mou_6_7</th>\n",
       "      <th>avg_loc_ic_t2m_mou_6_7</th>\n",
       "      <th>avg_loc_ic_t2f_mou_6_7</th>\n",
       "      <th>avg_loc_ic_mou_6_7</th>\n",
       "      <th>avg_std_ic_t2t_mou_6_7</th>\n",
       "      <th>avg_std_ic_t2m_mou_6_7</th>\n",
       "      <th>avg_std_ic_t2f_mou_6_7</th>\n",
       "      <th>avg_std_ic_mou_6_7</th>\n",
       "      <th>avg_total_ic_mou_6_7</th>\n",
       "      <th>avg_spl_ic_mou_6_7</th>\n",
       "      <th>avg_isd_ic_mou_6_7</th>\n",
       "      <th>avg_ic_others_6_7</th>\n",
       "      <th>avg_total_rech_num_6_7</th>\n",
       "      <th>avg_total_rech_amt_6_7</th>\n",
       "      <th>avg_max_rech_amt_6_7</th>\n",
       "      <th>avg_last_day_rch_amt_6_7</th>\n",
       "      <th>avg_total_rech_data_6_7</th>\n",
       "      <th>avg_max_rech_data_6_7</th>\n",
       "      <th>avg_count_rech_2g_6_7</th>\n",
       "      <th>avg_count_rech_3g_6_7</th>\n",
       "      <th>avg_av_rech_amt_data_6_7</th>\n",
       "      <th>avg_vol_2g_mb_6_7</th>\n",
       "      <th>avg_vol_3g_mb_6_7</th>\n",
       "      <th>avg_monthly_2g_6_7</th>\n",
       "      <th>avg_sachet_2g_6_7</th>\n",
       "      <th>avg_monthly_3g_6_7</th>\n",
       "      <th>avg_sachet_3g_6_7</th>\n",
       "    </tr>\n",
       "  </thead>\n",
       "  <tbody>\n",
       "    <tr>\n",
       "      <th>0</th>\n",
       "      <td>7000842753</td>\n",
       "      <td>213.803</td>\n",
       "      <td>0.00</td>\n",
       "      <td>0.00</td>\n",
       "      <td>0.00</td>\n",
       "      <td>0.00</td>\n",
       "      <td>0.00</td>\n",
       "      <td>0.00</td>\n",
       "      <td>0.00</td>\n",
       "      <td>0.00</td>\n",
       "      <td>0.00</td>\n",
       "      <td>0.00</td>\n",
       "      <td>0.00</td>\n",
       "      <td>0.00</td>\n",
       "      <td>0.00</td>\n",
       "      <td>0.00</td>\n",
       "      <td>0.00</td>\n",
       "      <td>0.0</td>\n",
       "      <td>0.00</td>\n",
       "      <td>0.16</td>\n",
       "      <td>4.13</td>\n",
       "      <td>1.15</td>\n",
       "      <td>5.44</td>\n",
       "      <td>0.00</td>\n",
       "      <td>0.00</td>\n",
       "      <td>0.00</td>\n",
       "      <td>0.00</td>\n",
       "      <td>5.44</td>\n",
       "      <td>0.0</td>\n",
       "      <td>0.00</td>\n",
       "      <td>0.00</td>\n",
       "      <td>2</td>\n",
       "      <td>252</td>\n",
       "      <td>252</td>\n",
       "      <td>252</td>\n",
       "      <td>1.0</td>\n",
       "      <td>252.0</td>\n",
       "      <td>0.0</td>\n",
       "      <td>1.0</td>\n",
       "      <td>252.0</td>\n",
       "      <td>5.75</td>\n",
       "      <td>109.61</td>\n",
       "      <td>0</td>\n",
       "      <td>0</td>\n",
       "      <td>1</td>\n",
       "      <td>0</td>\n",
       "      <td>968</td>\n",
       "      <td>30.40</td>\n",
       "      <td>0.00</td>\n",
       "      <td>101.20</td>\n",
       "      <td>3.58</td>\n",
       "      <td>1</td>\n",
       "      <td>206.1005</td>\n",
       "      <td>33.32</td>\n",
       "      <td>94.0225</td>\n",
       "      <td>0.00</td>\n",
       "      <td>0.000</td>\n",
       "      <td>11.760</td>\n",
       "      <td>40.730</td>\n",
       "      <td>0.000</td>\n",
       "      <td>0.0</td>\n",
       "      <td>64.3975</td>\n",
       "      <td>0.000</td>\n",
       "      <td>3.7925</td>\n",
       "      <td>0.00</td>\n",
       "      <td>11.365</td>\n",
       "      <td>0.000</td>\n",
       "      <td>0.00</td>\n",
       "      <td>0.0</td>\n",
       "      <td>0.000</td>\n",
       "      <td>15.715</td>\n",
       "      <td>56.785</td>\n",
       "      <td>0.905</td>\n",
       "      <td>92.355</td>\n",
       "      <td>0.000</td>\n",
       "      <td>2.035</td>\n",
       "      <td>0.000</td>\n",
       "      <td>5.925</td>\n",
       "      <td>0.000</td>\n",
       "      <td>0.000</td>\n",
       "      <td>0.000</td>\n",
       "      <td>0.000</td>\n",
       "      <td>3.5</td>\n",
       "      <td>307.0</td>\n",
       "      <td>252.0</td>\n",
       "      <td>252.0</td>\n",
       "      <td>1.0</td>\n",
       "      <td>252.0</td>\n",
       "      <td>0.0</td>\n",
       "      <td>1.0</td>\n",
       "      <td>252.0</td>\n",
       "      <td>15.725</td>\n",
       "      <td>117.165</td>\n",
       "      <td>0.0</td>\n",
       "      <td>0.0</td>\n",
       "      <td>1.0</td>\n",
       "      <td>0.0</td>\n",
       "    </tr>\n",
       "    <tr>\n",
       "      <th>7</th>\n",
       "      <td>7000701601</td>\n",
       "      <td>3171.480</td>\n",
       "      <td>52.29</td>\n",
       "      <td>325.91</td>\n",
       "      <td>31.64</td>\n",
       "      <td>38.06</td>\n",
       "      <td>40.28</td>\n",
       "      <td>162.28</td>\n",
       "      <td>53.23</td>\n",
       "      <td>0.00</td>\n",
       "      <td>255.79</td>\n",
       "      <td>12.01</td>\n",
       "      <td>49.14</td>\n",
       "      <td>16.68</td>\n",
       "      <td>77.84</td>\n",
       "      <td>10.01</td>\n",
       "      <td>6.50</td>\n",
       "      <td>0.0</td>\n",
       "      <td>350.16</td>\n",
       "      <td>27.31</td>\n",
       "      <td>121.19</td>\n",
       "      <td>39.53</td>\n",
       "      <td>188.04</td>\n",
       "      <td>30.39</td>\n",
       "      <td>141.33</td>\n",
       "      <td>22.21</td>\n",
       "      <td>193.94</td>\n",
       "      <td>428.74</td>\n",
       "      <td>0.0</td>\n",
       "      <td>31.59</td>\n",
       "      <td>15.14</td>\n",
       "      <td>7</td>\n",
       "      <td>3638</td>\n",
       "      <td>1580</td>\n",
       "      <td>779</td>\n",
       "      <td>0.0</td>\n",
       "      <td>0.0</td>\n",
       "      <td>0.0</td>\n",
       "      <td>0.0</td>\n",
       "      <td>0.0</td>\n",
       "      <td>0.00</td>\n",
       "      <td>0.00</td>\n",
       "      <td>0</td>\n",
       "      <td>0</td>\n",
       "      <td>0</td>\n",
       "      <td>0</td>\n",
       "      <td>802</td>\n",
       "      <td>57.74</td>\n",
       "      <td>19.38</td>\n",
       "      <td>18.74</td>\n",
       "      <td>0.00</td>\n",
       "      <td>1</td>\n",
       "      <td>1209.5150</td>\n",
       "      <td>56.26</td>\n",
       "      <td>510.2950</td>\n",
       "      <td>24.86</td>\n",
       "      <td>18.165</td>\n",
       "      <td>41.385</td>\n",
       "      <td>378.005</td>\n",
       "      <td>58.635</td>\n",
       "      <td>0.0</td>\n",
       "      <td>478.0350</td>\n",
       "      <td>13.795</td>\n",
       "      <td>40.8250</td>\n",
       "      <td>13.37</td>\n",
       "      <td>68.000</td>\n",
       "      <td>0.090</td>\n",
       "      <td>2.25</td>\n",
       "      <td>0.0</td>\n",
       "      <td>548.385</td>\n",
       "      <td>45.200</td>\n",
       "      <td>219.525</td>\n",
       "      <td>126.810</td>\n",
       "      <td>391.555</td>\n",
       "      <td>24.360</td>\n",
       "      <td>109.215</td>\n",
       "      <td>43.215</td>\n",
       "      <td>176.810</td>\n",
       "      <td>592.250</td>\n",
       "      <td>0.105</td>\n",
       "      <td>8.295</td>\n",
       "      <td>15.465</td>\n",
       "      <td>5.0</td>\n",
       "      <td>1185.0</td>\n",
       "      <td>1185.0</td>\n",
       "      <td>0.0</td>\n",
       "      <td>0.0</td>\n",
       "      <td>0.0</td>\n",
       "      <td>0.0</td>\n",
       "      <td>0.0</td>\n",
       "      <td>0.0</td>\n",
       "      <td>0.000</td>\n",
       "      <td>0.000</td>\n",
       "      <td>0.0</td>\n",
       "      <td>0.0</td>\n",
       "      <td>0.0</td>\n",
       "      <td>0.0</td>\n",
       "    </tr>\n",
       "    <tr>\n",
       "      <th>8</th>\n",
       "      <td>7001524846</td>\n",
       "      <td>137.362</td>\n",
       "      <td>35.08</td>\n",
       "      <td>136.48</td>\n",
       "      <td>0.00</td>\n",
       "      <td>0.00</td>\n",
       "      <td>12.49</td>\n",
       "      <td>50.54</td>\n",
       "      <td>0.00</td>\n",
       "      <td>7.15</td>\n",
       "      <td>63.04</td>\n",
       "      <td>22.58</td>\n",
       "      <td>75.69</td>\n",
       "      <td>0.00</td>\n",
       "      <td>98.28</td>\n",
       "      <td>0.00</td>\n",
       "      <td>10.23</td>\n",
       "      <td>0.0</td>\n",
       "      <td>171.56</td>\n",
       "      <td>0.31</td>\n",
       "      <td>15.48</td>\n",
       "      <td>0.00</td>\n",
       "      <td>15.79</td>\n",
       "      <td>0.10</td>\n",
       "      <td>0.65</td>\n",
       "      <td>0.00</td>\n",
       "      <td>0.75</td>\n",
       "      <td>16.54</td>\n",
       "      <td>0.0</td>\n",
       "      <td>0.00</td>\n",
       "      <td>0.00</td>\n",
       "      <td>14</td>\n",
       "      <td>120</td>\n",
       "      <td>30</td>\n",
       "      <td>10</td>\n",
       "      <td>3.0</td>\n",
       "      <td>23.0</td>\n",
       "      <td>3.0</td>\n",
       "      <td>0.0</td>\n",
       "      <td>69.0</td>\n",
       "      <td>0.03</td>\n",
       "      <td>11.94</td>\n",
       "      <td>0</td>\n",
       "      <td>3</td>\n",
       "      <td>0</td>\n",
       "      <td>0</td>\n",
       "      <td>315</td>\n",
       "      <td>21.03</td>\n",
       "      <td>910.65</td>\n",
       "      <td>122.16</td>\n",
       "      <td>0.00</td>\n",
       "      <td>0</td>\n",
       "      <td>435.4720</td>\n",
       "      <td>382.36</td>\n",
       "      <td>87.6450</td>\n",
       "      <td>0.00</td>\n",
       "      <td>0.000</td>\n",
       "      <td>257.360</td>\n",
       "      <td>75.770</td>\n",
       "      <td>0.000</td>\n",
       "      <td>0.0</td>\n",
       "      <td>333.1350</td>\n",
       "      <td>124.995</td>\n",
       "      <td>11.8650</td>\n",
       "      <td>0.00</td>\n",
       "      <td>136.870</td>\n",
       "      <td>0.000</td>\n",
       "      <td>0.00</td>\n",
       "      <td>0.0</td>\n",
       "      <td>470.010</td>\n",
       "      <td>16.840</td>\n",
       "      <td>35.780</td>\n",
       "      <td>0.000</td>\n",
       "      <td>52.630</td>\n",
       "      <td>0.290</td>\n",
       "      <td>13.255</td>\n",
       "      <td>0.000</td>\n",
       "      <td>13.545</td>\n",
       "      <td>66.175</td>\n",
       "      <td>0.000</td>\n",
       "      <td>0.000</td>\n",
       "      <td>0.000</td>\n",
       "      <td>20.0</td>\n",
       "      <td>519.0</td>\n",
       "      <td>122.0</td>\n",
       "      <td>25.0</td>\n",
       "      <td>1.0</td>\n",
       "      <td>77.0</td>\n",
       "      <td>1.0</td>\n",
       "      <td>0.0</td>\n",
       "      <td>88.5</td>\n",
       "      <td>178.000</td>\n",
       "      <td>375.475</td>\n",
       "      <td>0.5</td>\n",
       "      <td>0.5</td>\n",
       "      <td>0.0</td>\n",
       "      <td>0.0</td>\n",
       "    </tr>\n",
       "    <tr>\n",
       "      <th>21</th>\n",
       "      <td>7002124215</td>\n",
       "      <td>637.760</td>\n",
       "      <td>85.14</td>\n",
       "      <td>983.39</td>\n",
       "      <td>0.00</td>\n",
       "      <td>0.00</td>\n",
       "      <td>23.34</td>\n",
       "      <td>104.81</td>\n",
       "      <td>1.58</td>\n",
       "      <td>0.00</td>\n",
       "      <td>129.74</td>\n",
       "      <td>61.79</td>\n",
       "      <td>876.99</td>\n",
       "      <td>0.00</td>\n",
       "      <td>938.79</td>\n",
       "      <td>0.00</td>\n",
       "      <td>0.00</td>\n",
       "      <td>0.0</td>\n",
       "      <td>1068.54</td>\n",
       "      <td>19.54</td>\n",
       "      <td>129.16</td>\n",
       "      <td>10.39</td>\n",
       "      <td>159.11</td>\n",
       "      <td>0.18</td>\n",
       "      <td>101.74</td>\n",
       "      <td>0.00</td>\n",
       "      <td>101.93</td>\n",
       "      <td>261.04</td>\n",
       "      <td>0.0</td>\n",
       "      <td>0.00</td>\n",
       "      <td>0.00</td>\n",
       "      <td>27</td>\n",
       "      <td>718</td>\n",
       "      <td>50</td>\n",
       "      <td>50</td>\n",
       "      <td>0.0</td>\n",
       "      <td>0.0</td>\n",
       "      <td>0.0</td>\n",
       "      <td>0.0</td>\n",
       "      <td>0.0</td>\n",
       "      <td>0.00</td>\n",
       "      <td>0.00</td>\n",
       "      <td>0</td>\n",
       "      <td>0</td>\n",
       "      <td>0</td>\n",
       "      <td>0</td>\n",
       "      <td>720</td>\n",
       "      <td>0.00</td>\n",
       "      <td>0.00</td>\n",
       "      <td>0.00</td>\n",
       "      <td>0.00</td>\n",
       "      <td>0</td>\n",
       "      <td>556.1030</td>\n",
       "      <td>117.26</td>\n",
       "      <td>827.3050</td>\n",
       "      <td>0.00</td>\n",
       "      <td>0.000</td>\n",
       "      <td>5.320</td>\n",
       "      <td>89.870</td>\n",
       "      <td>0.375</td>\n",
       "      <td>0.0</td>\n",
       "      <td>95.5650</td>\n",
       "      <td>111.935</td>\n",
       "      <td>737.0500</td>\n",
       "      <td>0.00</td>\n",
       "      <td>848.990</td>\n",
       "      <td>0.000</td>\n",
       "      <td>0.00</td>\n",
       "      <td>0.0</td>\n",
       "      <td>944.565</td>\n",
       "      <td>6.335</td>\n",
       "      <td>96.430</td>\n",
       "      <td>3.725</td>\n",
       "      <td>106.505</td>\n",
       "      <td>10.020</td>\n",
       "      <td>52.960</td>\n",
       "      <td>0.000</td>\n",
       "      <td>62.985</td>\n",
       "      <td>169.490</td>\n",
       "      <td>0.000</td>\n",
       "      <td>0.000</td>\n",
       "      <td>0.000</td>\n",
       "      <td>24.0</td>\n",
       "      <td>640.0</td>\n",
       "      <td>50.0</td>\n",
       "      <td>25.0</td>\n",
       "      <td>0.0</td>\n",
       "      <td>0.0</td>\n",
       "      <td>0.0</td>\n",
       "      <td>0.0</td>\n",
       "      <td>0.0</td>\n",
       "      <td>0.000</td>\n",
       "      <td>0.000</td>\n",
       "      <td>0.0</td>\n",
       "      <td>0.0</td>\n",
       "      <td>0.0</td>\n",
       "      <td>0.0</td>\n",
       "    </tr>\n",
       "    <tr>\n",
       "      <th>23</th>\n",
       "      <td>7000887461</td>\n",
       "      <td>366.966</td>\n",
       "      <td>33.58</td>\n",
       "      <td>205.89</td>\n",
       "      <td>0.00</td>\n",
       "      <td>0.00</td>\n",
       "      <td>33.58</td>\n",
       "      <td>148.56</td>\n",
       "      <td>0.00</td>\n",
       "      <td>17.71</td>\n",
       "      <td>182.14</td>\n",
       "      <td>0.00</td>\n",
       "      <td>39.61</td>\n",
       "      <td>0.00</td>\n",
       "      <td>39.61</td>\n",
       "      <td>0.00</td>\n",
       "      <td>17.71</td>\n",
       "      <td>0.0</td>\n",
       "      <td>239.48</td>\n",
       "      <td>76.64</td>\n",
       "      <td>146.84</td>\n",
       "      <td>0.71</td>\n",
       "      <td>224.21</td>\n",
       "      <td>13.38</td>\n",
       "      <td>43.91</td>\n",
       "      <td>0.00</td>\n",
       "      <td>57.29</td>\n",
       "      <td>298.33</td>\n",
       "      <td>0.0</td>\n",
       "      <td>3.74</td>\n",
       "      <td>13.06</td>\n",
       "      <td>4</td>\n",
       "      <td>439</td>\n",
       "      <td>179</td>\n",
       "      <td>0</td>\n",
       "      <td>2.0</td>\n",
       "      <td>179.0</td>\n",
       "      <td>0.0</td>\n",
       "      <td>2.0</td>\n",
       "      <td>270.0</td>\n",
       "      <td>0.01</td>\n",
       "      <td>1009.92</td>\n",
       "      <td>0</td>\n",
       "      <td>0</td>\n",
       "      <td>1</td>\n",
       "      <td>1</td>\n",
       "      <td>604</td>\n",
       "      <td>40.45</td>\n",
       "      <td>51.86</td>\n",
       "      <td>0.00</td>\n",
       "      <td>0.00</td>\n",
       "      <td>0</td>\n",
       "      <td>134.1235</td>\n",
       "      <td>49.81</td>\n",
       "      <td>87.3850</td>\n",
       "      <td>0.00</td>\n",
       "      <td>0.000</td>\n",
       "      <td>49.810</td>\n",
       "      <td>82.975</td>\n",
       "      <td>0.000</td>\n",
       "      <td>0.0</td>\n",
       "      <td>132.7950</td>\n",
       "      <td>0.000</td>\n",
       "      <td>4.3550</td>\n",
       "      <td>0.00</td>\n",
       "      <td>4.355</td>\n",
       "      <td>0.005</td>\n",
       "      <td>0.05</td>\n",
       "      <td>0.0</td>\n",
       "      <td>137.210</td>\n",
       "      <td>40.875</td>\n",
       "      <td>104.635</td>\n",
       "      <td>0.000</td>\n",
       "      <td>145.520</td>\n",
       "      <td>0.255</td>\n",
       "      <td>8.660</td>\n",
       "      <td>0.000</td>\n",
       "      <td>8.915</td>\n",
       "      <td>171.235</td>\n",
       "      <td>0.000</td>\n",
       "      <td>14.115</td>\n",
       "      <td>2.675</td>\n",
       "      <td>4.0</td>\n",
       "      <td>227.0</td>\n",
       "      <td>89.5</td>\n",
       "      <td>89.5</td>\n",
       "      <td>1.0</td>\n",
       "      <td>89.5</td>\n",
       "      <td>0.0</td>\n",
       "      <td>1.0</td>\n",
       "      <td>178.0</td>\n",
       "      <td>0.240</td>\n",
       "      <td>299.545</td>\n",
       "      <td>0.0</td>\n",
       "      <td>0.0</td>\n",
       "      <td>1.0</td>\n",
       "      <td>0.0</td>\n",
       "    </tr>\n",
       "  </tbody>\n",
       "</table>\n",
       "</div>"
      ],
      "text/plain": [
       "    mobile_number    arpu_8  onnet_mou_8  offnet_mou_8  roam_ic_mou_8  roam_og_mou_8  loc_og_t2t_mou_8  loc_og_t2m_mou_8  loc_og_t2f_mou_8  loc_og_t2c_mou_8  loc_og_mou_8  std_og_t2t_mou_8  std_og_t2m_mou_8  std_og_t2f_mou_8  std_og_mou_8  isd_og_mou_8  spl_og_mou_8  og_others_8  total_og_mou_8  loc_ic_t2t_mou_8  loc_ic_t2m_mou_8  loc_ic_t2f_mou_8  loc_ic_mou_8  std_ic_t2t_mou_8  std_ic_t2m_mou_8  std_ic_t2f_mou_8  std_ic_mou_8  total_ic_mou_8  spl_ic_mou_8  isd_ic_mou_8  ic_others_8  total_rech_num_8  total_rech_amt_8  max_rech_amt_8  last_day_rch_amt_8  total_rech_data_8  max_rech_data_8  count_rech_2g_8  count_rech_3g_8  av_rech_amt_data_8  vol_2g_mb_8  vol_3g_mb_8  monthly_2g_8  sachet_2g_8  monthly_3g_8  sachet_3g_8  aon  aug_vbc_3g  jul_vbc_3g  jun_vbc_3g  sep_vbc_3g  churn  avg_arpu_6_7  avg_onnet_mou_6_7  avg_offnet_mou_6_7  avg_roam_ic_mou_6_7  avg_roam_og_mou_6_7  avg_loc_og_t2t_mou_6_7  avg_loc_og_t2m_mou_6_7  avg_loc_og_t2f_mou_6_7  avg_loc_og_t2c_mou_6_7  \\\n",
       "0   7000842753     213.803   0.00         0.00          0.00           0.00           0.00              0.00              0.00              0.00              0.00          0.00              0.00              0.00              0.00          0.00          0.00          0.0          0.00            0.16              4.13              1.15              5.44          0.00              0.00              0.00              0.00          5.44            0.0           0.00          0.00         2                 252               252             252                 1.0                252.0            0.0              1.0              252.0               5.75         109.61       0             0            1             0            968  30.40       0.00        101.20      3.58        1      206.1005      33.32              94.0225             0.00                 0.000                11.760                  40.730                  0.000                   0.0                      \n",
       "7   7000701601     3171.480  52.29        325.91        31.64          38.06          40.28             162.28            53.23             0.00              255.79        12.01             49.14             16.68             77.84         10.01         6.50          0.0          350.16          27.31             121.19            39.53             188.04        30.39             141.33            22.21             193.94        428.74          0.0           31.59         15.14        7                 3638              1580            779                 0.0                0.0              0.0              0.0              0.0                 0.00         0.00         0             0            0             0            802  57.74       19.38       18.74       0.00        1      1209.5150     56.26              510.2950            24.86                18.165               41.385                  378.005                 58.635                  0.0                      \n",
       "8   7001524846     137.362   35.08        136.48        0.00           0.00           12.49             50.54             0.00              7.15              63.04         22.58             75.69             0.00              98.28         0.00          10.23         0.0          171.56          0.31              15.48             0.00              15.79         0.10              0.65              0.00              0.75          16.54           0.0           0.00          0.00         14                120               30              10                  3.0                23.0             3.0              0.0              69.0                0.03         11.94        0             3            0             0            315  21.03       910.65      122.16      0.00        0      435.4720      382.36             87.6450             0.00                 0.000                257.360                 75.770                  0.000                   0.0                      \n",
       "21  7002124215     637.760   85.14        983.39        0.00           0.00           23.34             104.81            1.58              0.00              129.74        61.79             876.99            0.00              938.79        0.00          0.00          0.0          1068.54         19.54             129.16            10.39             159.11        0.18              101.74            0.00              101.93        261.04          0.0           0.00          0.00         27                718               50              50                  0.0                0.0              0.0              0.0              0.0                 0.00         0.00         0             0            0             0            720  0.00        0.00        0.00        0.00        0      556.1030      117.26             827.3050            0.00                 0.000                5.320                   89.870                  0.375                   0.0                      \n",
       "23  7000887461     366.966   33.58        205.89        0.00           0.00           33.58             148.56            0.00              17.71             182.14        0.00              39.61             0.00              39.61         0.00          17.71         0.0          239.48          76.64             146.84            0.71              224.21        13.38             43.91             0.00              57.29         298.33          0.0           3.74          13.06        4                 439               179             0                   2.0                179.0            0.0              2.0              270.0               0.01         1009.92      0             0            1             1            604  40.45       51.86       0.00        0.00        0      134.1235      49.81              87.3850             0.00                 0.000                49.810                  82.975                  0.000                   0.0                      \n",
       "\n",
       "    avg_loc_og_mou_6_7  avg_std_og_t2t_mou_6_7  avg_std_og_t2m_mou_6_7  avg_std_og_t2f_mou_6_7  avg_std_og_mou_6_7  avg_isd_og_mou_6_7  avg_spl_og_mou_6_7  avg_og_others_6_7  avg_total_og_mou_6_7  avg_loc_ic_t2t_mou_6_7  avg_loc_ic_t2m_mou_6_7  avg_loc_ic_t2f_mou_6_7  avg_loc_ic_mou_6_7  avg_std_ic_t2t_mou_6_7  avg_std_ic_t2m_mou_6_7  avg_std_ic_t2f_mou_6_7  avg_std_ic_mou_6_7  avg_total_ic_mou_6_7  avg_spl_ic_mou_6_7  avg_isd_ic_mou_6_7  avg_ic_others_6_7  avg_total_rech_num_6_7  avg_total_rech_amt_6_7  avg_max_rech_amt_6_7  avg_last_day_rch_amt_6_7  avg_total_rech_data_6_7  avg_max_rech_data_6_7  avg_count_rech_2g_6_7  avg_count_rech_3g_6_7  avg_av_rech_amt_data_6_7  avg_vol_2g_mb_6_7  avg_vol_3g_mb_6_7  avg_monthly_2g_6_7  avg_sachet_2g_6_7  avg_monthly_3g_6_7  avg_sachet_3g_6_7  \n",
       "0   64.3975             0.000                   3.7925                  0.00                    11.365              0.000               0.00                0.0                0.000                 15.715                  56.785                  0.905                   92.355              0.000                   2.035                   0.000                   5.925               0.000                 0.000               0.000               0.000              3.5                     307.0                   252.0                 252.0                     1.0                      252.0                  0.0                    1.0                    252.0                     15.725             117.165            0.0                 0.0                1.0                 0.0                \n",
       "7   478.0350            13.795                  40.8250                 13.37                   68.000              0.090               2.25                0.0                548.385               45.200                  219.525                 126.810                 391.555             24.360                  109.215                 43.215                  176.810             592.250               0.105               8.295               15.465             5.0                     1185.0                  1185.0                0.0                       0.0                      0.0                    0.0                    0.0                    0.0                       0.000              0.000              0.0                 0.0                0.0                 0.0                \n",
       "8   333.1350            124.995                 11.8650                 0.00                    136.870             0.000               0.00                0.0                470.010               16.840                  35.780                  0.000                   52.630              0.290                   13.255                  0.000                   13.545              66.175                0.000               0.000               0.000              20.0                    519.0                   122.0                 25.0                      1.0                      77.0                   1.0                    0.0                    88.5                      178.000            375.475            0.5                 0.5                0.0                 0.0                \n",
       "21  95.5650             111.935                 737.0500                0.00                    848.990             0.000               0.00                0.0                944.565               6.335                   96.430                  3.725                   106.505             10.020                  52.960                  0.000                   62.985              169.490               0.000               0.000               0.000              24.0                    640.0                   50.0                  25.0                      0.0                      0.0                    0.0                    0.0                    0.0                       0.000              0.000              0.0                 0.0                0.0                 0.0                \n",
       "23  132.7950            0.000                   4.3550                  0.00                    4.355               0.005               0.05                0.0                137.210               40.875                  104.635                 0.000                   145.520             0.255                   8.660                   0.000                   8.915               171.235               0.000               14.115              2.675              4.0                     227.0                   89.5                  89.5                      1.0                      89.5                   0.0                    1.0                    178.0                     0.240              299.545            0.0                 0.0                1.0                 0.0                "
      ]
     },
     "execution_count": 239,
     "metadata": {},
     "output_type": "execute_result"
    }
   ],
   "source": [
    "imp_cust.head()"
   ]
  },
  {
   "cell_type": "code",
   "execution_count": 240,
   "metadata": {
    "execution": {
     "iopub.execute_input": "2022-01-01T02:07:04.185314Z",
     "iopub.status.busy": "2022-01-01T02:07:04.185050Z",
     "iopub.status.idle": "2022-01-01T02:07:04.194621Z",
     "shell.execute_reply": "2022-01-01T02:07:04.193616Z",
     "shell.execute_reply.started": "2022-01-01T02:07:04.185277Z"
    }
   },
   "outputs": [
    {
     "data": {
      "text/plain": [
       "mobile_number               int64  \n",
       "arpu_8                      float64\n",
       "onnet_mou_8                 float64\n",
       "offnet_mou_8                float64\n",
       "roam_ic_mou_8               float64\n",
       "roam_og_mou_8               float64\n",
       "loc_og_t2t_mou_8            float64\n",
       "loc_og_t2m_mou_8            float64\n",
       "loc_og_t2f_mou_8            float64\n",
       "loc_og_t2c_mou_8            float64\n",
       "loc_og_mou_8                float64\n",
       "std_og_t2t_mou_8            float64\n",
       "std_og_t2m_mou_8            float64\n",
       "std_og_t2f_mou_8            float64\n",
       "std_og_mou_8                float64\n",
       "isd_og_mou_8                float64\n",
       "spl_og_mou_8                float64\n",
       "og_others_8                 float64\n",
       "total_og_mou_8              float64\n",
       "loc_ic_t2t_mou_8            float64\n",
       "loc_ic_t2m_mou_8            float64\n",
       "loc_ic_t2f_mou_8            float64\n",
       "loc_ic_mou_8                float64\n",
       "std_ic_t2t_mou_8            float64\n",
       "std_ic_t2m_mou_8            float64\n",
       "std_ic_t2f_mou_8            float64\n",
       "std_ic_mou_8                float64\n",
       "total_ic_mou_8              float64\n",
       "spl_ic_mou_8                float64\n",
       "isd_ic_mou_8                float64\n",
       "ic_others_8                 float64\n",
       "total_rech_num_8            int64  \n",
       "total_rech_amt_8            int64  \n",
       "max_rech_amt_8              int64  \n",
       "last_day_rch_amt_8          int64  \n",
       "total_rech_data_8           float64\n",
       "max_rech_data_8             float64\n",
       "count_rech_2g_8             float64\n",
       "count_rech_3g_8             float64\n",
       "av_rech_amt_data_8          float64\n",
       "vol_2g_mb_8                 float64\n",
       "vol_3g_mb_8                 float64\n",
       "monthly_2g_8                int64  \n",
       "sachet_2g_8                 int64  \n",
       "monthly_3g_8                int64  \n",
       "sachet_3g_8                 int64  \n",
       "aon                         int64  \n",
       "aug_vbc_3g                  float64\n",
       "jul_vbc_3g                  float64\n",
       "jun_vbc_3g                  float64\n",
       "sep_vbc_3g                  float64\n",
       "churn                       int64  \n",
       "avg_arpu_6_7                float64\n",
       "avg_onnet_mou_6_7           float64\n",
       "avg_offnet_mou_6_7          float64\n",
       "avg_roam_ic_mou_6_7         float64\n",
       "avg_roam_og_mou_6_7         float64\n",
       "avg_loc_og_t2t_mou_6_7      float64\n",
       "avg_loc_og_t2m_mou_6_7      float64\n",
       "avg_loc_og_t2f_mou_6_7      float64\n",
       "avg_loc_og_t2c_mou_6_7      float64\n",
       "avg_loc_og_mou_6_7          float64\n",
       "avg_std_og_t2t_mou_6_7      float64\n",
       "avg_std_og_t2m_mou_6_7      float64\n",
       "avg_std_og_t2f_mou_6_7      float64\n",
       "avg_std_og_mou_6_7          float64\n",
       "avg_isd_og_mou_6_7          float64\n",
       "avg_spl_og_mou_6_7          float64\n",
       "avg_og_others_6_7           float64\n",
       "avg_total_og_mou_6_7        float64\n",
       "avg_loc_ic_t2t_mou_6_7      float64\n",
       "avg_loc_ic_t2m_mou_6_7      float64\n",
       "avg_loc_ic_t2f_mou_6_7      float64\n",
       "avg_loc_ic_mou_6_7          float64\n",
       "avg_std_ic_t2t_mou_6_7      float64\n",
       "avg_std_ic_t2m_mou_6_7      float64\n",
       "avg_std_ic_t2f_mou_6_7      float64\n",
       "avg_std_ic_mou_6_7          float64\n",
       "avg_total_ic_mou_6_7        float64\n",
       "avg_spl_ic_mou_6_7          float64\n",
       "avg_isd_ic_mou_6_7          float64\n",
       "avg_ic_others_6_7           float64\n",
       "avg_total_rech_num_6_7      float64\n",
       "avg_total_rech_amt_6_7      float64\n",
       "avg_max_rech_amt_6_7        float64\n",
       "avg_last_day_rch_amt_6_7    float64\n",
       "avg_total_rech_data_6_7     float64\n",
       "avg_max_rech_data_6_7       float64\n",
       "avg_count_rech_2g_6_7       float64\n",
       "avg_count_rech_3g_6_7       float64\n",
       "avg_av_rech_amt_data_6_7    float64\n",
       "avg_vol_2g_mb_6_7           float64\n",
       "avg_vol_3g_mb_6_7           float64\n",
       "avg_monthly_2g_6_7          float64\n",
       "avg_sachet_2g_6_7           float64\n",
       "avg_monthly_3g_6_7          float64\n",
       "avg_sachet_3g_6_7           float64\n",
       "dtype: object"
      ]
     },
     "execution_count": 240,
     "metadata": {},
     "output_type": "execute_result"
    }
   ],
   "source": [
    "## Let us finally analyze the data types:\n",
    "\n",
    "imp_cust.dtypes"
   ]
  },
  {
   "cell_type": "code",
   "execution_count": 241,
   "metadata": {
    "execution": {
     "iopub.execute_input": "2022-01-01T02:07:04.196576Z",
     "iopub.status.busy": "2022-01-01T02:07:04.196263Z",
     "iopub.status.idle": "2022-01-01T02:07:04.204477Z",
     "shell.execute_reply": "2022-01-01T02:07:04.203554Z",
     "shell.execute_reply.started": "2022-01-01T02:07:04.196500Z"
    }
   },
   "outputs": [],
   "source": [
    "##We shall convert the churn data to the category\n",
    "imp_cust.churn=imp_cust.churn.astype('category')"
   ]
  },
  {
   "cell_type": "code",
   "execution_count": 242,
   "metadata": {
    "execution": {
     "iopub.execute_input": "2022-01-01T02:07:04.206430Z",
     "iopub.status.busy": "2022-01-01T02:07:04.206180Z",
     "iopub.status.idle": "2022-01-01T02:07:04.213575Z",
     "shell.execute_reply": "2022-01-01T02:07:04.212690Z",
     "shell.execute_reply.started": "2022-01-01T02:07:04.206397Z"
    }
   },
   "outputs": [
    {
     "data": {
      "text/plain": [
       "CategoricalDtype(categories=[0, 1], ordered=False)"
      ]
     },
     "execution_count": 242,
     "metadata": {},
     "output_type": "execute_result"
    }
   ],
   "source": [
    "imp_cust.churn.dtype"
   ]
  },
  {
   "cell_type": "markdown",
   "metadata": {},
   "source": [
    "***Outlier Treatment***\n",
    "\n",
    "We inferred from the median impuatation that the presence of outliers in the dataset is humongous, so proceed with \n",
    "capping them.\n",
    "\n",
    "For outlier capping we can follow two step process\n",
    "\n",
    "1. If the data is less skewed, we shall cap the data based on (Mean +/- 3*Std)\n",
    "2. If the data is skewed ( meaning skewnes measure >|1|), we shall use the IQR treatment (since the aforementioned mean and Std would have serious influence on the data)"
   ]
  },
  {
   "cell_type": "code",
   "execution_count": 243,
   "metadata": {
    "execution": {
     "iopub.execute_input": "2022-01-01T02:07:04.215419Z",
     "iopub.status.busy": "2022-01-01T02:07:04.214886Z",
     "iopub.status.idle": "2022-01-01T02:07:04.219352Z",
     "shell.execute_reply": "2022-01-01T02:07:04.218578Z",
     "shell.execute_reply.started": "2022-01-01T02:07:04.215382Z"
    }
   },
   "outputs": [],
   "source": [
    "from scipy.stats import skew"
   ]
  },
  {
   "cell_type": "code",
   "execution_count": 244,
   "metadata": {
    "execution": {
     "iopub.execute_input": "2022-01-01T02:07:04.220908Z",
     "iopub.status.busy": "2022-01-01T02:07:04.220668Z",
     "iopub.status.idle": "2022-01-01T02:07:04.271460Z",
     "shell.execute_reply": "2022-01-01T02:07:04.270825Z",
     "shell.execute_reply.started": "2022-01-01T02:07:04.220876Z"
    }
   },
   "outputs": [
    {
     "name": "stdout",
     "output_type": "stream",
     "text": [
      "The number of highly skewed columns___ 94\n",
      "The number of normal distributed columns___ 2 ['mobile_number', 'aon']\n"
     ]
    }
   ],
   "source": [
    "skewed_dist=[]\n",
    "normal_dist=[]\n",
    "for i in imp_cust.columns.tolist():\n",
    "    if (i!='churn'):\n",
    "        if np.abs(skew(imp_cust[i]))>1:\n",
    "            skewed_dist.append(i)\n",
    "        else:\n",
    "            normal_dist.append(i)\n",
    "print('The number of highly skewed columns___',len(skewed_dist))\n",
    "print('The number of normal distributed columns___',len(normal_dist) , normal_dist)\n",
    "            \n",
    "    \n",
    "        \n",
    "        \n",
    "    "
   ]
  },
  {
   "cell_type": "code",
   "execution_count": 245,
   "metadata": {
    "execution": {
     "iopub.execute_input": "2022-01-01T02:07:04.273226Z",
     "iopub.status.busy": "2022-01-01T02:07:04.272633Z",
     "iopub.status.idle": "2022-01-01T02:07:04.671502Z",
     "shell.execute_reply": "2022-01-01T02:07:04.670847Z",
     "shell.execute_reply.started": "2022-01-01T02:07:04.273190Z"
    }
   },
   "outputs": [
    {
     "data": {
      "image/png": "[encoded data removed]",
      "text/plain": [
       "<Figure size 432x288 with 1 Axes>"
      ]
     },
     "metadata": {},
     "output_type": "display_data"
    }
   ],
   "source": [
    "## We have almost all data to be skewed but we have one column 'aon' which tends to be not skewed\n",
    "\n",
    "sns.distplot(imp_cust.aon,kde=True)\n",
    "plt.show()"
   ]
  },
  {
   "cell_type": "markdown",
   "metadata": {},
   "source": [
    "The column aon represents that 'Age on network - number of days the customer is using the operator T network'\n",
    "We shall divide the column by 365 so that we get the cutomers and their retention period"
   ]
  },
  {
   "cell_type": "code",
   "execution_count": 246,
   "metadata": {
    "execution": {
     "iopub.execute_input": "2022-01-01T02:07:04.672873Z",
     "iopub.status.busy": "2022-01-01T02:07:04.672636Z",
     "iopub.status.idle": "2022-01-01T02:07:05.575463Z",
     "shell.execute_reply": "2022-01-01T02:07:05.574798Z",
     "shell.execute_reply.started": "2022-01-01T02:07:04.672838Z"
    }
   },
   "outputs": [
    {
     "data": {
      "image/png": "[encoded data removed]",
      "text/plain": [
       "<Figure size 1440x720 with 9 Axes>"
      ]
     },
     "metadata": {},
     "output_type": "display_data"
    }
   ],
   "source": [
    "##Sample output\n",
    "plt.figure(figsize=[20,10])\n",
    "plt.subplot(3,3,1)\n",
    "sns.boxplot(imp_cust.arpu_8)\n",
    "plt.subplot(3,3,2)\n",
    "sns.boxplot(imp_cust.onnet_mou_8)\n",
    "plt.subplot(3,3,3)\n",
    "sns.boxplot(imp_cust.isd_og_mou_8)\n",
    "plt.subplot(3,3,4)\n",
    "sns.boxplot(imp_cust.max_rech_amt_8)\n",
    "plt.subplot(3,3,5)\n",
    "sns.boxplot(imp_cust.total_rech_data_8)\n",
    "plt.subplot(3,3,6)\n",
    "sns.boxplot(imp_cust.avg_isd_ic_mou_6_7)\n",
    "plt.subplot(3,3,7)\n",
    "sns.boxplot(imp_cust.avg_total_rech_amt_6_7)\n",
    "plt.subplot(3,3,8)\n",
    "sns.boxplot(imp_cust.avg_vol_2g_mb_6_7)\n",
    "plt.subplot(3,3,9)\n",
    "sns.boxplot(imp_cust.avg_sachet_2g_6_7)\n",
    "plt.title('Before oulier removal sample check',y=3.6,x=-1.04,size=18,fontweight=\"bold\")\n",
    "fig.tight_layout()\n",
    "plt.show()"
   ]
  },
  {
   "cell_type": "code",
   "execution_count": 247,
   "metadata": {
    "execution": {
     "iopub.execute_input": "2022-01-01T02:07:05.577164Z",
     "iopub.status.busy": "2022-01-01T02:07:05.576727Z",
     "iopub.status.idle": "2022-01-01T02:07:05.810138Z",
     "shell.execute_reply": "2022-01-01T02:07:05.809434Z",
     "shell.execute_reply.started": "2022-01-01T02:07:05.577113Z"
    }
   },
   "outputs": [],
   "source": [
    "for cols in imp_cust.columns.tolist():\n",
    "    if cols!='churn' and cols!='aon':\n",
    "        upper_limit = imp_cust[cols].quantile(0.99)\n",
    "        lower_limit = imp_cust[cols].quantile(0.01)\n",
    "        imp_cust[cols] = np.where(imp_cust[cols] > upper_limit,\n",
    "        upper_limit,\n",
    "        np.where(imp_cust[cols] < lower_limit,\n",
    "        lower_limit,\n",
    "        imp_cust[cols]))"
   ]
  },
  {
   "cell_type": "code",
   "execution_count": 248,
   "metadata": {
    "execution": {
     "iopub.execute_input": "2022-01-01T02:07:05.811640Z",
     "iopub.status.busy": "2022-01-01T02:07:05.811400Z",
     "iopub.status.idle": "2022-01-01T02:07:06.607639Z",
     "shell.execute_reply": "2022-01-01T02:07:06.606855Z",
     "shell.execute_reply.started": "2022-01-01T02:07:05.811607Z"
    }
   },
   "outputs": [
    {
     "data": {
      "image/png": "[encoded data removed]",
      "text/plain": [
       "<Figure size 1440x720 with 9 Axes>"
      ]
     },
     "metadata": {},
     "output_type": "display_data"
    }
   ],
   "source": [
    "##Sample output\n",
    "plt.figure(figsize=[20,10])\n",
    "plt.subplot(3,3,1)\n",
    "sns.boxplot(imp_cust.arpu_8)\n",
    "plt.subplot(3,3,2)\n",
    "sns.boxplot(imp_cust.onnet_mou_8)\n",
    "plt.subplot(3,3,3)\n",
    "sns.boxplot(imp_cust.isd_og_mou_8)\n",
    "plt.subplot(3,3,4)\n",
    "sns.boxplot(imp_cust.max_rech_amt_8)\n",
    "plt.subplot(3,3,5)\n",
    "sns.boxplot(imp_cust.total_rech_data_8)\n",
    "plt.subplot(3,3,6)\n",
    "sns.boxplot(imp_cust.avg_isd_ic_mou_6_7)\n",
    "plt.subplot(3,3,7)\n",
    "sns.boxplot(imp_cust.avg_total_rech_amt_6_7)\n",
    "plt.subplot(3,3,8)\n",
    "sns.boxplot(imp_cust.avg_vol_2g_mb_6_7)\n",
    "plt.subplot(3,3,9)\n",
    "sns.boxplot(imp_cust.avg_sachet_2g_6_7)\n",
    "plt.title('After oulier removal sample check',y=3.6,x=-1.04,size=18,fontweight=\"bold\")\n",
    "fig.tight_layout()\n",
    "plt.show()"
   ]
  },
  {
   "cell_type": "markdown",
   "metadata": {},
   "source": [
    "To be precise we shall generate a whole set of model which is exclusively reserved for outliers.However,\n",
    " this method is not followed here but in the future we shall proceed with\n",
    "\n",
    "1. Extract all the outliers and store them in a separate file to incorporate the ML modelling techniques into them separately.\n",
    "2. We shall use quantile regression without actually remvoing or capping the outliers\n"
   ]
  },
  {
   "cell_type": "markdown",
   "metadata": {},
   "source": [
    "***4.Exploratory Data Analysis to understand trend between the target Churn and various independant features.***"
   ]
  },
  {
   "cell_type": "markdown",
   "metadata": {},
   "source": [
    "**Analysing the distribution of aon variable (Univariate)**\n",
    "\n",
    "If we observe the aon column, it denotes the retention of the users in days, we shall convert then to year"
   ]
  },
  {
   "cell_type": "code",
   "execution_count": 249,
   "metadata": {
    "execution": {
     "iopub.execute_input": "2022-01-01T02:07:06.609438Z",
     "iopub.status.busy": "2022-01-01T02:07:06.609157Z",
     "iopub.status.idle": "2022-01-01T02:07:06.614669Z",
     "shell.execute_reply": "2022-01-01T02:07:06.613837Z",
     "shell.execute_reply.started": "2022-01-01T02:07:06.609402Z"
    }
   },
   "outputs": [],
   "source": [
    "imp_cust.aon=imp_cust.aon//365"
   ]
  },
  {
   "cell_type": "code",
   "execution_count": 250,
   "metadata": {
    "execution": {
     "iopub.execute_input": "2022-01-01T02:07:06.616241Z",
     "iopub.status.busy": "2022-01-01T02:07:06.615965Z",
     "iopub.status.idle": "2022-01-01T02:07:06.933501Z",
     "shell.execute_reply": "2022-01-01T02:07:06.932822Z",
     "shell.execute_reply.started": "2022-01-01T02:07:06.616208Z"
    }
   },
   "outputs": [
    {
     "data": {
      "text/plain": [
       "<Figure size 720x288 with 0 Axes>"
      ]
     },
     "metadata": {},
     "output_type": "display_data"
    },
    {
     "data": {
      "image/png": "[encoded data removed]",
      "text/plain": [
       "<Figure size 432x288 with 1 Axes>"
      ]
     },
     "metadata": {},
     "output_type": "display_data"
    }
   ],
   "source": [
    "##Distribution of the customer retention (inyears)\n",
    "plt.figure(figsize=[10,4])\n",
    "fig, ax = plt.subplots()\n",
    "color=['red','blue','green','orange','cyan','magenta','black','yellow','blue','green','indigo','purple']\n",
    "x=[]\n",
    "index_val=imp_cust.aon.value_counts().index.tolist()\n",
    "y=[]\n",
    "for i in range(0,imp_cust.aon.nunique()):\n",
    "    pi=round(imp_cust[imp_cust.churn==0].aon.value_counts(normalize=True)[i],2)\n",
    "    y.append(pi)\n",
    "    x.append(index_val[i])\n",
    "plt.barh(x,y,color= color)\n",
    "plt.title('% Customer Service Retention Period')\n",
    "for i, v in zip(x, y): \n",
    "    ax.text(v+0.01,i, str(v), color='black', fontweight='bold',ha='center')\n",
    "fig.tight_layout()\n",
    "plt.show()"
   ]
  },
  {
   "cell_type": "code",
   "execution_count": 251,
   "metadata": {
    "execution": {
     "iopub.execute_input": "2022-01-01T02:07:06.935114Z",
     "iopub.status.busy": "2022-01-01T02:07:06.934853Z",
     "iopub.status.idle": "2022-01-01T02:07:07.204570Z",
     "shell.execute_reply": "2022-01-01T02:07:07.203848Z",
     "shell.execute_reply.started": "2022-01-01T02:07:06.935078Z"
    }
   },
   "outputs": [
    {
     "data": {
      "text/plain": [
       "<Figure size 720x288 with 0 Axes>"
      ]
     },
     "metadata": {},
     "output_type": "display_data"
    },
    {
     "data": {
      "image/png": "[encoded data removed]",
      "text/plain": [
       "<Figure size 432x288 with 1 Axes>"
      ]
     },
     "metadata": {},
     "output_type": "display_data"
    }
   ],
   "source": [
    "##Customer in srvice after they churn(inyears)\n",
    "plt.figure(figsize=[10,4])\n",
    "fig, ax = plt.subplots()\n",
    "color=['red','blue','green','orange','cyan','magenta','black','yellow','blue','green','indigo','purple']\n",
    "x=[]\n",
    "index_val=imp_cust.aon.value_counts().index.tolist()\n",
    "y=[]\n",
    "for i in range(0,imp_cust.aon.nunique()-1):\n",
    "    pi=round(imp_cust[imp_cust.churn==1].aon.value_counts(normalize=True)[i],2)\n",
    "    y.append(pi)\n",
    "    x.append(index_val[i])\n",
    "plt.barh(x,y,color= color)\n",
    "plt.title('% Customer in service after they churn')\n",
    "for i, v in zip(x, y): \n",
    "    ax.text(v+0.015,i, str(v), color='black', fontweight='bold',ha='center')\n",
    "fig.tight_layout()\n",
    "plt.show()"
   ]
  },
  {
   "cell_type": "markdown",
   "metadata": {},
   "source": [
    "So here we infer that the churn rate is highest for the newly joined customers, also we are able to observe that the \n",
    "even loyal customers do churn as the rate of % is nearly 50% for them as opposed 75% for the new customers"
   ]
  },
  {
   "cell_type": "markdown",
   "metadata": {},
   "source": [
    "**To find even more granularity in the above judgement, we shall bin the customers into four buckets only for the EDA purpose:**\n",
    "\n",
    "**New customers (0-2yrs)**\n",
    "\n",
    "**Gold customers (3-6 yrs)**\n",
    "\n",
    "**Diamond customers (7-9 yrs)**\n",
    "\n",
    "**Platinum customers (>9yrs)**"
   ]
  },
  {
   "cell_type": "code",
   "execution_count": 252,
   "metadata": {
    "execution": {
     "iopub.execute_input": "2022-01-01T02:07:07.206158Z",
     "iopub.status.busy": "2022-01-01T02:07:07.205891Z",
     "iopub.status.idle": "2022-01-01T02:07:07.214356Z",
     "shell.execute_reply": "2022-01-01T02:07:07.213586Z",
     "shell.execute_reply.started": "2022-01-01T02:07:07.206116Z"
    }
   },
   "outputs": [],
   "source": [
    "##Bucketing the longevity of the service of the customers based on the retention and churn \n",
    "\n",
    "#We started with -1 while binning because we have customers with 0 year ( in months)\n",
    "\n",
    "labels = ['New Cust', 'Gold Cust', 'Diamond Cust','Platinum Cust']\n",
    "imp_cust['Cust_Period'] = pd.cut(imp_cust['aon'], [-1, 2, 6, 9,1000], labels=labels)"
   ]
  },
  {
   "cell_type": "code",
   "execution_count": 253,
   "metadata": {
    "execution": {
     "iopub.execute_input": "2022-01-01T02:07:07.216342Z",
     "iopub.status.busy": "2022-01-01T02:07:07.215830Z",
     "iopub.status.idle": "2022-01-01T02:07:07.668944Z",
     "shell.execute_reply": "2022-01-01T02:07:07.668295Z",
     "shell.execute_reply.started": "2022-01-01T02:07:07.216304Z"
    }
   },
   "outputs": [
    {
     "data": {
      "image/png": "[encoded data removed]",
      "text/plain": [
       "<Figure size 1080x288 with 3 Axes>"
      ]
     },
     "metadata": {},
     "output_type": "display_data"
    }
   ],
   "source": [
    "##Distribution of the target variable\n",
    "plt.figure(figsize=[15,4])\n",
    "plt.subplot(1,3,1)\n",
    "imp_cust.Cust_Period.value_counts(normalize=True).plot.bar()\n",
    "plt.title('Total Service longevity of Customer')\n",
    "plt.subplot(1,3,2)\n",
    "imp_cust[imp_cust['churn']==0].Cust_Period.value_counts(normalize=True).plot.bar()\n",
    "plt.title('Customer Retention Service Period')\n",
    "plt.subplot(1,3,3)\n",
    "imp_cust[imp_cust['churn']==1].Cust_Period.value_counts(normalize=True).plot.bar()\n",
    "plt.title('Customer Churn Service Period')\n",
    "fig.tight_layout()\n",
    "plt.show()\n"
   ]
  },
  {
   "cell_type": "markdown",
   "metadata": {},
   "source": [
    "It is evident that the most churns have been reported from the new customers when compared to gold and platinum customers and also we shall notice that the most customers are new to the industry\n"
   ]
  },
  {
   "cell_type": "markdown",
   "metadata": {},
   "source": [
    "We have the average revenue columns for 6_7 month (average of 6 and 7) and 8 month data. We create a separate column which measures\n",
    "the recharge increase between the 6_7 and 8 month, we shall have a rough estimate that if the difference between the 8th month \n",
    "revenue average and the corresponding 6_7 months is greater than 0, then the customer shows interest towards the service,else\n",
    "the customer's interest diminishes "
   ]
  },
  {
   "cell_type": "code",
   "execution_count": 254,
   "metadata": {
    "execution": {
     "iopub.execute_input": "2022-01-01T02:07:07.670522Z",
     "iopub.status.busy": "2022-01-01T02:07:07.670288Z",
     "iopub.status.idle": "2022-01-01T02:07:07.677578Z",
     "shell.execute_reply": "2022-01-01T02:07:07.676868Z",
     "shell.execute_reply.started": "2022-01-01T02:07:07.670489Z"
    }
   },
   "outputs": [],
   "source": [
    "imp_cust['Revenue_calc']=imp_cust['arpu_8']-imp_cust['avg_arpu_6_7']"
   ]
  },
  {
   "cell_type": "code",
   "execution_count": 255,
   "metadata": {
    "execution": {
     "iopub.execute_input": "2022-01-01T02:07:07.681630Z",
     "iopub.status.busy": "2022-01-01T02:07:07.678634Z",
     "iopub.status.idle": "2022-01-01T02:07:08.364699Z",
     "shell.execute_reply": "2022-01-01T02:07:08.363966Z",
     "shell.execute_reply.started": "2022-01-01T02:07:07.681593Z"
    }
   },
   "outputs": [],
   "source": [
    "imp_cust['Revenue_Status']=imp_cust.apply(lambda x: 0 if x['arpu_8']-x['avg_arpu_6_7']<0 else 1,axis=1)"
   ]
  },
  {
   "cell_type": "markdown",
   "metadata": {},
   "source": [
    "We shall now do the revenue analysis with respect to the customer type"
   ]
  },
  {
   "cell_type": "markdown",
   "metadata": {},
   "source": [
    "***Distribution of Revenue_Status***"
   ]
  },
  {
   "cell_type": "code",
   "execution_count": 256,
   "metadata": {
    "execution": {
     "iopub.execute_input": "2022-01-01T02:07:08.374026Z",
     "iopub.status.busy": "2022-01-01T02:07:08.373816Z",
     "iopub.status.idle": "2022-01-01T02:07:08.520058Z",
     "shell.execute_reply": "2022-01-01T02:07:08.519333Z",
     "shell.execute_reply.started": "2022-01-01T02:07:08.373990Z"
    }
   },
   "outputs": [
    {
     "data": {
      "image/png": "[encoded data removed]",
      "text/plain": [
       "<Figure size 432x288 with 1 Axes>"
      ]
     },
     "metadata": {},
     "output_type": "display_data"
    }
   ],
   "source": [
    "imp_cust.Revenue_Status.value_counts(normalize=True).plot.bar()\n",
    "plt.show()"
   ]
  },
  {
   "cell_type": "markdown",
   "metadata": {},
   "source": [
    "1. This shows that over 40% of customers generated revenue in the the 8 month which is more or the same as generated by them in the previous months of June and July.\n",
    "\n",
    "2. Over 58% of customers roughly show the declined path towards the revenue generation as they sporadically recharge in the    August month compared to June and July."
   ]
  },
  {
   "cell_type": "markdown",
   "metadata": {},
   "source": [
    "We analyse how the customer segment is playing the role in the Revenue Generation"
   ]
  },
  {
   "cell_type": "code",
   "execution_count": 257,
   "metadata": {
    "execution": {
     "iopub.execute_input": "2022-01-01T02:07:08.521903Z",
     "iopub.status.busy": "2022-01-01T02:07:08.521400Z",
     "iopub.status.idle": "2022-01-01T02:07:08.823414Z",
     "shell.execute_reply": "2022-01-01T02:07:08.822715Z",
     "shell.execute_reply.started": "2022-01-01T02:07:08.521863Z"
    }
   },
   "outputs": [
    {
     "data": {
      "image/png": "[encoded data removed]",
      "text/plain": [
       "<Figure size 1080x288 with 2 Axes>"
      ]
     },
     "metadata": {},
     "output_type": "display_data"
    }
   ],
   "source": [
    "plt.figure(figsize=[15,4])\n",
    "plt.subplot(1,2,1)\n",
    "imp_cust.Cust_Period.value_counts().plot.bar()\n",
    "plt.title('Total Service longevity of Customer')\n",
    "plt.subplot(1,2,2)\n",
    "imp_cust.groupby('Cust_Period').sum()['Revenue_Status'].plot.bar()\n",
    "plt.title('Number of customers with significant Revenue Generation')\n",
    "plt.show()"
   ]
  },
  {
   "cell_type": "code",
   "execution_count": 258,
   "metadata": {
    "execution": {
     "iopub.execute_input": "2022-01-01T02:07:08.825269Z",
     "iopub.status.busy": "2022-01-01T02:07:08.824936Z",
     "iopub.status.idle": "2022-01-01T02:07:08.854735Z",
     "shell.execute_reply": "2022-01-01T02:07:08.853806Z",
     "shell.execute_reply.started": "2022-01-01T02:07:08.825225Z"
    }
   },
   "outputs": [
    {
     "data": {
      "text/plain": [
       "Cust_Period\n",
       "New Cust         6986\n",
       "Gold Cust        3400\n",
       "Diamond Cust     1587\n",
       "Platinum Cust    233 \n",
       "Name: Revenue_Status, dtype: int64"
      ]
     },
     "execution_count": 258,
     "metadata": {},
     "output_type": "execute_result"
    }
   ],
   "source": [
    "#We shall infer from the above graph the following\n",
    "\n",
    "imp_cust.groupby('Cust_Period').sum()['Revenue_Status']"
   ]
  },
  {
   "cell_type": "code",
   "execution_count": 259,
   "metadata": {
    "execution": {
     "iopub.execute_input": "2022-01-01T02:07:08.856321Z",
     "iopub.status.busy": "2022-01-01T02:07:08.855981Z",
     "iopub.status.idle": "2022-01-01T02:07:08.885638Z",
     "shell.execute_reply": "2022-01-01T02:07:08.884989Z",
     "shell.execute_reply.started": "2022-01-01T02:07:08.856284Z"
    }
   },
   "outputs": [
    {
     "name": "stdout",
     "output_type": "stream",
     "text": [
      "The revenue generated by the New Cust is : 39.1 %\n",
      "The revenue generated by the Gold Cust is : 42.68 %\n",
      "The revenue generated by the Diamond Cust is : 44.17 %\n",
      "The revenue generated by the Platinum Cust is : 44.38 %\n"
     ]
    }
   ],
   "source": [
    "rev_stat=np.array(imp_cust.groupby('Cust_Period').sum()['Revenue_Status'].values.tolist())\n",
    "cust_stat=np.array(imp_cust.Cust_Period.value_counts().values.tolist())\n",
    "rev_per=rev_stat/cust_stat\n",
    "cust_period=imp_cust.Cust_Period.value_counts().index.tolist()\n",
    "for i ,j in zip(rev_per,cust_period):\n",
    "    print('The revenue generated by the',j,'is :',round(i*100,2),'%')\n",
    "    \n",
    "\n"
   ]
  },
  {
   "cell_type": "markdown",
   "metadata": {},
   "source": [
    "The above stat shows that there is roughly the same trend in the revenue generation of the people.\n",
    "But, we know that the population of customers belonging to the new class dominates others, yet their contribution towards\n",
    "the revenue is slightly behind the less poulated platinum and diamond class.\n"
   ]
  },
  {
   "cell_type": "markdown",
   "metadata": {},
   "source": [
    "***Analysing more on the revenue distribution***"
   ]
  },
  {
   "cell_type": "code",
   "execution_count": 260,
   "metadata": {
    "execution": {
     "iopub.execute_input": "2022-01-01T02:07:08.887072Z",
     "iopub.status.busy": "2022-01-01T02:07:08.886753Z",
     "iopub.status.idle": "2022-01-01T02:07:08.897491Z",
     "shell.execute_reply": "2022-01-01T02:07:08.896561Z",
     "shell.execute_reply.started": "2022-01-01T02:07:08.887036Z"
    }
   },
   "outputs": [
    {
     "data": {
      "text/plain": [
       "count    29953.000000\n",
       "mean    -52.667853   \n",
       "std      292.368662  \n",
       "min     -1869.980900 \n",
       "25%     -178.457500  \n",
       "50%     -39.855000   \n",
       "75%      84.183000   \n",
       "max      1903.018880 \n",
       "Name: Revenue_calc, dtype: float64"
      ]
     },
     "execution_count": 260,
     "metadata": {},
     "output_type": "execute_result"
    }
   ],
   "source": [
    "##Analyzing the statistical distribution of the revenue generated column\n",
    "imp_cust.Revenue_calc.describe()\n"
   ]
  },
  {
   "cell_type": "markdown",
   "metadata": {},
   "source": [
    "We notice that there are only few customers at the 75th percentile or greater generated significant revenue, since the proportion\n",
    "is less we shall give some specialised offers or discounts based on the customer band categorised"
   ]
  },
  {
   "cell_type": "code",
   "execution_count": 261,
   "metadata": {
    "execution": {
     "iopub.execute_input": "2022-01-01T02:07:08.899042Z",
     "iopub.status.busy": "2022-01-01T02:07:08.898719Z",
     "iopub.status.idle": "2022-01-01T02:07:09.214684Z",
     "shell.execute_reply": "2022-01-01T02:07:09.214043Z",
     "shell.execute_reply.started": "2022-01-01T02:07:08.898986Z"
    }
   },
   "outputs": [
    {
     "data": {
      "image/png": "[encoded data removed]",
      "text/plain": [
       "<Figure size 432x288 with 1 Axes>"
      ]
     },
     "metadata": {},
     "output_type": "display_data"
    }
   ],
   "source": [
    "##Extracting the 75th percentile based on revenue generated\n",
    "\n",
    "most_loyal_cust=imp_cust[(imp_cust.Revenue_calc>=imp_cust.Revenue_calc.quantile(0.75))&(imp_cust.churn==0)].Cust_Period.value_counts()\n",
    "most_loyal_cust.plot.bar()\n",
    "plt.title('Most loyal customer count')\n",
    "plt.show()"
   ]
  },
  {
   "cell_type": "markdown",
   "metadata": {},
   "source": [
    "**Suggestion to the business:**\n",
    "    \n",
    "  1. The above set of customers recharged in the month of August which is greater or equal to the average amount they                recharged on July and June months respectively.\n",
    "  \n",
    "        \n",
    "  2. Also these people have not swayed from the business. So we can give them  special discounts.The phone numbers are found in      the data imp_cust\n",
    "  \n",
    "    \n",
    "  3. For newly joined people we shall offer them a few couple of free services and insentives or gifts.\n",
    "  \n",
    "    \n",
    "  4. For the people who are associated with the service over a longer period of time(say>5 years:Gold,Diamond or Platinum)\n",
    "     we shall offer them a free scheme say monthly topup at free cost etc.,"
   ]
  },
  {
   "cell_type": "markdown",
   "metadata": {},
   "source": [
    "***Let us plot some bivariate box plot with churn variable***"
   ]
  },
  {
   "cell_type": "code",
   "execution_count": 262,
   "metadata": {
    "execution": {
     "iopub.execute_input": "2022-01-01T02:07:09.216296Z",
     "iopub.status.busy": "2022-01-01T02:07:09.216049Z",
     "iopub.status.idle": "2022-01-01T02:07:09.220411Z",
     "shell.execute_reply": "2022-01-01T02:07:09.219773Z",
     "shell.execute_reply.started": "2022-01-01T02:07:09.216262Z"
    }
   },
   "outputs": [],
   "source": [
    "def bivariate(var1,var2):\n",
    "    sns.boxplot(var1,var2)\n",
    "    plt.show()"
   ]
  },
  {
   "cell_type": "code",
   "execution_count": 263,
   "metadata": {
    "execution": {
     "iopub.execute_input": "2022-01-01T02:07:09.223376Z",
     "iopub.status.busy": "2022-01-01T02:07:09.221657Z",
     "iopub.status.idle": "2022-01-01T02:07:09.318025Z",
     "shell.execute_reply": "2022-01-01T02:07:09.317400Z",
     "shell.execute_reply.started": "2022-01-01T02:07:09.223338Z"
    }
   },
   "outputs": [
    {
     "data": {
      "text/html": [
       "<div>\n",
       "<style scoped>\n",
       "    .dataframe tbody tr th:only-of-type {\n",
       "        vertical-align: middle;\n",
       "    }\n",
       "\n",
       "    .dataframe tbody tr th {\n",
       "        vertical-align: top;\n",
       "    }\n",
       "\n",
       "    .dataframe thead th {\n",
       "        text-align: right;\n",
       "    }\n",
       "</style>\n",
       "<table border=\"1\" class=\"dataframe\">\n",
       "  <thead>\n",
       "    <tr style=\"text-align: right;\">\n",
       "      <th></th>\n",
       "      <th>mobile_number</th>\n",
       "      <th>arpu_8</th>\n",
       "      <th>onnet_mou_8</th>\n",
       "      <th>offnet_mou_8</th>\n",
       "      <th>roam_ic_mou_8</th>\n",
       "      <th>roam_og_mou_8</th>\n",
       "      <th>loc_og_t2t_mou_8</th>\n",
       "      <th>loc_og_t2m_mou_8</th>\n",
       "      <th>loc_og_t2f_mou_8</th>\n",
       "      <th>loc_og_t2c_mou_8</th>\n",
       "      <th>loc_og_mou_8</th>\n",
       "      <th>std_og_t2t_mou_8</th>\n",
       "      <th>std_og_t2m_mou_8</th>\n",
       "      <th>std_og_t2f_mou_8</th>\n",
       "      <th>std_og_mou_8</th>\n",
       "      <th>isd_og_mou_8</th>\n",
       "      <th>spl_og_mou_8</th>\n",
       "      <th>og_others_8</th>\n",
       "      <th>total_og_mou_8</th>\n",
       "      <th>loc_ic_t2t_mou_8</th>\n",
       "      <th>loc_ic_t2m_mou_8</th>\n",
       "      <th>loc_ic_t2f_mou_8</th>\n",
       "      <th>loc_ic_mou_8</th>\n",
       "      <th>std_ic_t2t_mou_8</th>\n",
       "      <th>std_ic_t2m_mou_8</th>\n",
       "      <th>std_ic_t2f_mou_8</th>\n",
       "      <th>std_ic_mou_8</th>\n",
       "      <th>total_ic_mou_8</th>\n",
       "      <th>spl_ic_mou_8</th>\n",
       "      <th>isd_ic_mou_8</th>\n",
       "      <th>ic_others_8</th>\n",
       "      <th>total_rech_num_8</th>\n",
       "      <th>total_rech_amt_8</th>\n",
       "      <th>max_rech_amt_8</th>\n",
       "      <th>last_day_rch_amt_8</th>\n",
       "      <th>total_rech_data_8</th>\n",
       "      <th>max_rech_data_8</th>\n",
       "      <th>count_rech_2g_8</th>\n",
       "      <th>count_rech_3g_8</th>\n",
       "      <th>av_rech_amt_data_8</th>\n",
       "      <th>vol_2g_mb_8</th>\n",
       "      <th>vol_3g_mb_8</th>\n",
       "      <th>monthly_2g_8</th>\n",
       "      <th>sachet_2g_8</th>\n",
       "      <th>monthly_3g_8</th>\n",
       "      <th>sachet_3g_8</th>\n",
       "      <th>aon</th>\n",
       "      <th>aug_vbc_3g</th>\n",
       "      <th>jul_vbc_3g</th>\n",
       "      <th>jun_vbc_3g</th>\n",
       "      <th>sep_vbc_3g</th>\n",
       "      <th>churn</th>\n",
       "      <th>avg_arpu_6_7</th>\n",
       "      <th>avg_onnet_mou_6_7</th>\n",
       "      <th>avg_offnet_mou_6_7</th>\n",
       "      <th>avg_roam_ic_mou_6_7</th>\n",
       "      <th>avg_roam_og_mou_6_7</th>\n",
       "      <th>avg_loc_og_t2t_mou_6_7</th>\n",
       "      <th>avg_loc_og_t2m_mou_6_7</th>\n",
       "      <th>avg_loc_og_t2f_mou_6_7</th>\n",
       "      <th>avg_loc_og_t2c_mou_6_7</th>\n",
       "      <th>avg_loc_og_mou_6_7</th>\n",
       "      <th>avg_std_og_t2t_mou_6_7</th>\n",
       "      <th>avg_std_og_t2m_mou_6_7</th>\n",
       "      <th>avg_std_og_t2f_mou_6_7</th>\n",
       "      <th>avg_std_og_mou_6_7</th>\n",
       "      <th>avg_isd_og_mou_6_7</th>\n",
       "      <th>avg_spl_og_mou_6_7</th>\n",
       "      <th>avg_og_others_6_7</th>\n",
       "      <th>avg_total_og_mou_6_7</th>\n",
       "      <th>avg_loc_ic_t2t_mou_6_7</th>\n",
       "      <th>avg_loc_ic_t2m_mou_6_7</th>\n",
       "      <th>avg_loc_ic_t2f_mou_6_7</th>\n",
       "      <th>avg_loc_ic_mou_6_7</th>\n",
       "      <th>avg_std_ic_t2t_mou_6_7</th>\n",
       "      <th>avg_std_ic_t2m_mou_6_7</th>\n",
       "      <th>avg_std_ic_t2f_mou_6_7</th>\n",
       "      <th>avg_std_ic_mou_6_7</th>\n",
       "      <th>avg_total_ic_mou_6_7</th>\n",
       "      <th>avg_spl_ic_mou_6_7</th>\n",
       "      <th>avg_isd_ic_mou_6_7</th>\n",
       "      <th>avg_ic_others_6_7</th>\n",
       "      <th>avg_total_rech_num_6_7</th>\n",
       "      <th>avg_total_rech_amt_6_7</th>\n",
       "      <th>avg_max_rech_amt_6_7</th>\n",
       "      <th>avg_last_day_rch_amt_6_7</th>\n",
       "      <th>avg_total_rech_data_6_7</th>\n",
       "      <th>avg_max_rech_data_6_7</th>\n",
       "      <th>avg_count_rech_2g_6_7</th>\n",
       "      <th>avg_count_rech_3g_6_7</th>\n",
       "      <th>avg_av_rech_amt_data_6_7</th>\n",
       "      <th>avg_vol_2g_mb_6_7</th>\n",
       "      <th>avg_vol_3g_mb_6_7</th>\n",
       "      <th>avg_monthly_2g_6_7</th>\n",
       "      <th>avg_sachet_2g_6_7</th>\n",
       "      <th>avg_monthly_3g_6_7</th>\n",
       "      <th>avg_sachet_3g_6_7</th>\n",
       "      <th>Cust_Period</th>\n",
       "      <th>Revenue_calc</th>\n",
       "      <th>Revenue_Status</th>\n",
       "    </tr>\n",
       "  </thead>\n",
       "  <tbody>\n",
       "    <tr>\n",
       "      <th>0</th>\n",
       "      <td>7.000843e+09</td>\n",
       "      <td>213.8030</td>\n",
       "      <td>0.00</td>\n",
       "      <td>0.00</td>\n",
       "      <td>0.00</td>\n",
       "      <td>0.00</td>\n",
       "      <td>0.00</td>\n",
       "      <td>0.00</td>\n",
       "      <td>0.00</td>\n",
       "      <td>0.00</td>\n",
       "      <td>0.00</td>\n",
       "      <td>0.00</td>\n",
       "      <td>0.00</td>\n",
       "      <td>0.00</td>\n",
       "      <td>0.00</td>\n",
       "      <td>0.00</td>\n",
       "      <td>0.00</td>\n",
       "      <td>0.0</td>\n",
       "      <td>0.00</td>\n",
       "      <td>0.16</td>\n",
       "      <td>4.13</td>\n",
       "      <td>1.15</td>\n",
       "      <td>5.44</td>\n",
       "      <td>0.00</td>\n",
       "      <td>0.00</td>\n",
       "      <td>0.00</td>\n",
       "      <td>0.00</td>\n",
       "      <td>5.44</td>\n",
       "      <td>0.0</td>\n",
       "      <td>0.00</td>\n",
       "      <td>0.00</td>\n",
       "      <td>2.0</td>\n",
       "      <td>252.00</td>\n",
       "      <td>252.0</td>\n",
       "      <td>252.0</td>\n",
       "      <td>1.0</td>\n",
       "      <td>252.0</td>\n",
       "      <td>0.0</td>\n",
       "      <td>1.0</td>\n",
       "      <td>252.0</td>\n",
       "      <td>5.75</td>\n",
       "      <td>109.61</td>\n",
       "      <td>0.0</td>\n",
       "      <td>0.0</td>\n",
       "      <td>1.0</td>\n",
       "      <td>0.0</td>\n",
       "      <td>2</td>\n",
       "      <td>30.40</td>\n",
       "      <td>0.00</td>\n",
       "      <td>101.20</td>\n",
       "      <td>3.58</td>\n",
       "      <td>1</td>\n",
       "      <td>206.1005</td>\n",
       "      <td>33.32</td>\n",
       "      <td>94.0225</td>\n",
       "      <td>0.00</td>\n",
       "      <td>0.000</td>\n",
       "      <td>11.760</td>\n",
       "      <td>40.730</td>\n",
       "      <td>0.000</td>\n",
       "      <td>0.0</td>\n",
       "      <td>64.3975</td>\n",
       "      <td>0.000</td>\n",
       "      <td>3.7925</td>\n",
       "      <td>0.00</td>\n",
       "      <td>11.365</td>\n",
       "      <td>0.000</td>\n",
       "      <td>0.00</td>\n",
       "      <td>0.0</td>\n",
       "      <td>0.000</td>\n",
       "      <td>15.715</td>\n",
       "      <td>56.785</td>\n",
       "      <td>0.905</td>\n",
       "      <td>92.355</td>\n",
       "      <td>0.000</td>\n",
       "      <td>2.035</td>\n",
       "      <td>0.000</td>\n",
       "      <td>5.925</td>\n",
       "      <td>0.000</td>\n",
       "      <td>0.000</td>\n",
       "      <td>0.000</td>\n",
       "      <td>0.000</td>\n",
       "      <td>3.5</td>\n",
       "      <td>307.0</td>\n",
       "      <td>252.0</td>\n",
       "      <td>252.0</td>\n",
       "      <td>1.0</td>\n",
       "      <td>252.0</td>\n",
       "      <td>0.0</td>\n",
       "      <td>1.0</td>\n",
       "      <td>252.0</td>\n",
       "      <td>15.725</td>\n",
       "      <td>117.165</td>\n",
       "      <td>0.0</td>\n",
       "      <td>0.0</td>\n",
       "      <td>1.0</td>\n",
       "      <td>0.0</td>\n",
       "      <td>New Cust</td>\n",
       "      <td>7.7025</td>\n",
       "      <td>1</td>\n",
       "    </tr>\n",
       "    <tr>\n",
       "      <th>7</th>\n",
       "      <td>7.000702e+09</td>\n",
       "      <td>1986.7396</td>\n",
       "      <td>52.29</td>\n",
       "      <td>325.91</td>\n",
       "      <td>31.64</td>\n",
       "      <td>38.06</td>\n",
       "      <td>40.28</td>\n",
       "      <td>162.28</td>\n",
       "      <td>53.23</td>\n",
       "      <td>0.00</td>\n",
       "      <td>255.79</td>\n",
       "      <td>12.01</td>\n",
       "      <td>49.14</td>\n",
       "      <td>16.68</td>\n",
       "      <td>77.84</td>\n",
       "      <td>10.01</td>\n",
       "      <td>6.50</td>\n",
       "      <td>0.0</td>\n",
       "      <td>350.16</td>\n",
       "      <td>27.31</td>\n",
       "      <td>121.19</td>\n",
       "      <td>39.53</td>\n",
       "      <td>188.04</td>\n",
       "      <td>30.39</td>\n",
       "      <td>141.33</td>\n",
       "      <td>22.21</td>\n",
       "      <td>193.94</td>\n",
       "      <td>428.74</td>\n",
       "      <td>0.0</td>\n",
       "      <td>31.59</td>\n",
       "      <td>15.14</td>\n",
       "      <td>7.0</td>\n",
       "      <td>2341.48</td>\n",
       "      <td>951.0</td>\n",
       "      <td>565.0</td>\n",
       "      <td>0.0</td>\n",
       "      <td>0.0</td>\n",
       "      <td>0.0</td>\n",
       "      <td>0.0</td>\n",
       "      <td>0.0</td>\n",
       "      <td>0.00</td>\n",
       "      <td>0.00</td>\n",
       "      <td>0.0</td>\n",
       "      <td>0.0</td>\n",
       "      <td>0.0</td>\n",
       "      <td>0.0</td>\n",
       "      <td>2</td>\n",
       "      <td>57.74</td>\n",
       "      <td>19.38</td>\n",
       "      <td>18.74</td>\n",
       "      <td>0.00</td>\n",
       "      <td>1</td>\n",
       "      <td>1209.5150</td>\n",
       "      <td>56.26</td>\n",
       "      <td>510.2950</td>\n",
       "      <td>24.86</td>\n",
       "      <td>18.165</td>\n",
       "      <td>41.385</td>\n",
       "      <td>378.005</td>\n",
       "      <td>58.635</td>\n",
       "      <td>0.0</td>\n",
       "      <td>478.0350</td>\n",
       "      <td>13.795</td>\n",
       "      <td>40.8250</td>\n",
       "      <td>13.37</td>\n",
       "      <td>68.000</td>\n",
       "      <td>0.090</td>\n",
       "      <td>2.25</td>\n",
       "      <td>0.0</td>\n",
       "      <td>548.385</td>\n",
       "      <td>45.200</td>\n",
       "      <td>219.525</td>\n",
       "      <td>126.810</td>\n",
       "      <td>391.555</td>\n",
       "      <td>24.360</td>\n",
       "      <td>109.215</td>\n",
       "      <td>43.215</td>\n",
       "      <td>176.810</td>\n",
       "      <td>592.250</td>\n",
       "      <td>0.105</td>\n",
       "      <td>8.295</td>\n",
       "      <td>15.465</td>\n",
       "      <td>5.0</td>\n",
       "      <td>1185.0</td>\n",
       "      <td>799.5</td>\n",
       "      <td>0.0</td>\n",
       "      <td>0.0</td>\n",
       "      <td>0.0</td>\n",
       "      <td>0.0</td>\n",
       "      <td>0.0</td>\n",
       "      <td>0.0</td>\n",
       "      <td>0.000</td>\n",
       "      <td>0.000</td>\n",
       "      <td>0.0</td>\n",
       "      <td>0.0</td>\n",
       "      <td>0.0</td>\n",
       "      <td>0.0</td>\n",
       "      <td>New Cust</td>\n",
       "      <td>777.2246</td>\n",
       "      <td>1</td>\n",
       "    </tr>\n",
       "    <tr>\n",
       "      <th>8</th>\n",
       "      <td>7.001525e+09</td>\n",
       "      <td>137.3620</td>\n",
       "      <td>35.08</td>\n",
       "      <td>136.48</td>\n",
       "      <td>0.00</td>\n",
       "      <td>0.00</td>\n",
       "      <td>12.49</td>\n",
       "      <td>50.54</td>\n",
       "      <td>0.00</td>\n",
       "      <td>7.15</td>\n",
       "      <td>63.04</td>\n",
       "      <td>22.58</td>\n",
       "      <td>75.69</td>\n",
       "      <td>0.00</td>\n",
       "      <td>98.28</td>\n",
       "      <td>0.00</td>\n",
       "      <td>10.23</td>\n",
       "      <td>0.0</td>\n",
       "      <td>171.56</td>\n",
       "      <td>0.31</td>\n",
       "      <td>15.48</td>\n",
       "      <td>0.00</td>\n",
       "      <td>15.79</td>\n",
       "      <td>0.10</td>\n",
       "      <td>0.65</td>\n",
       "      <td>0.00</td>\n",
       "      <td>0.75</td>\n",
       "      <td>16.54</td>\n",
       "      <td>0.0</td>\n",
       "      <td>0.00</td>\n",
       "      <td>0.00</td>\n",
       "      <td>14.0</td>\n",
       "      <td>120.00</td>\n",
       "      <td>30.0</td>\n",
       "      <td>10.0</td>\n",
       "      <td>3.0</td>\n",
       "      <td>23.0</td>\n",
       "      <td>3.0</td>\n",
       "      <td>0.0</td>\n",
       "      <td>69.0</td>\n",
       "      <td>0.03</td>\n",
       "      <td>11.94</td>\n",
       "      <td>0.0</td>\n",
       "      <td>3.0</td>\n",
       "      <td>0.0</td>\n",
       "      <td>0.0</td>\n",
       "      <td>0</td>\n",
       "      <td>21.03</td>\n",
       "      <td>910.65</td>\n",
       "      <td>122.16</td>\n",
       "      <td>0.00</td>\n",
       "      <td>0</td>\n",
       "      <td>435.4720</td>\n",
       "      <td>382.36</td>\n",
       "      <td>87.6450</td>\n",
       "      <td>0.00</td>\n",
       "      <td>0.000</td>\n",
       "      <td>257.360</td>\n",
       "      <td>75.770</td>\n",
       "      <td>0.000</td>\n",
       "      <td>0.0</td>\n",
       "      <td>333.1350</td>\n",
       "      <td>124.995</td>\n",
       "      <td>11.8650</td>\n",
       "      <td>0.00</td>\n",
       "      <td>136.870</td>\n",
       "      <td>0.000</td>\n",
       "      <td>0.00</td>\n",
       "      <td>0.0</td>\n",
       "      <td>470.010</td>\n",
       "      <td>16.840</td>\n",
       "      <td>35.780</td>\n",
       "      <td>0.000</td>\n",
       "      <td>52.630</td>\n",
       "      <td>0.290</td>\n",
       "      <td>13.255</td>\n",
       "      <td>0.000</td>\n",
       "      <td>13.545</td>\n",
       "      <td>66.175</td>\n",
       "      <td>0.000</td>\n",
       "      <td>0.000</td>\n",
       "      <td>0.000</td>\n",
       "      <td>20.0</td>\n",
       "      <td>519.0</td>\n",
       "      <td>122.0</td>\n",
       "      <td>25.0</td>\n",
       "      <td>1.0</td>\n",
       "      <td>77.0</td>\n",
       "      <td>1.0</td>\n",
       "      <td>0.0</td>\n",
       "      <td>88.5</td>\n",
       "      <td>178.000</td>\n",
       "      <td>375.475</td>\n",
       "      <td>0.5</td>\n",
       "      <td>0.5</td>\n",
       "      <td>0.0</td>\n",
       "      <td>0.0</td>\n",
       "      <td>New Cust</td>\n",
       "      <td>-298.1100</td>\n",
       "      <td>0</td>\n",
       "    </tr>\n",
       "    <tr>\n",
       "      <th>21</th>\n",
       "      <td>7.002124e+09</td>\n",
       "      <td>637.7600</td>\n",
       "      <td>85.14</td>\n",
       "      <td>983.39</td>\n",
       "      <td>0.00</td>\n",
       "      <td>0.00</td>\n",
       "      <td>23.34</td>\n",
       "      <td>104.81</td>\n",
       "      <td>1.58</td>\n",
       "      <td>0.00</td>\n",
       "      <td>129.74</td>\n",
       "      <td>61.79</td>\n",
       "      <td>876.99</td>\n",
       "      <td>0.00</td>\n",
       "      <td>938.79</td>\n",
       "      <td>0.00</td>\n",
       "      <td>0.00</td>\n",
       "      <td>0.0</td>\n",
       "      <td>1068.54</td>\n",
       "      <td>19.54</td>\n",
       "      <td>129.16</td>\n",
       "      <td>10.39</td>\n",
       "      <td>159.11</td>\n",
       "      <td>0.18</td>\n",
       "      <td>101.74</td>\n",
       "      <td>0.00</td>\n",
       "      <td>101.93</td>\n",
       "      <td>261.04</td>\n",
       "      <td>0.0</td>\n",
       "      <td>0.00</td>\n",
       "      <td>0.00</td>\n",
       "      <td>27.0</td>\n",
       "      <td>718.00</td>\n",
       "      <td>50.0</td>\n",
       "      <td>50.0</td>\n",
       "      <td>0.0</td>\n",
       "      <td>0.0</td>\n",
       "      <td>0.0</td>\n",
       "      <td>0.0</td>\n",
       "      <td>0.0</td>\n",
       "      <td>0.00</td>\n",
       "      <td>0.00</td>\n",
       "      <td>0.0</td>\n",
       "      <td>0.0</td>\n",
       "      <td>0.0</td>\n",
       "      <td>0.0</td>\n",
       "      <td>1</td>\n",
       "      <td>0.00</td>\n",
       "      <td>0.00</td>\n",
       "      <td>0.00</td>\n",
       "      <td>0.00</td>\n",
       "      <td>0</td>\n",
       "      <td>556.1030</td>\n",
       "      <td>117.26</td>\n",
       "      <td>827.3050</td>\n",
       "      <td>0.00</td>\n",
       "      <td>0.000</td>\n",
       "      <td>5.320</td>\n",
       "      <td>89.870</td>\n",
       "      <td>0.375</td>\n",
       "      <td>0.0</td>\n",
       "      <td>95.5650</td>\n",
       "      <td>111.935</td>\n",
       "      <td>737.0500</td>\n",
       "      <td>0.00</td>\n",
       "      <td>848.990</td>\n",
       "      <td>0.000</td>\n",
       "      <td>0.00</td>\n",
       "      <td>0.0</td>\n",
       "      <td>944.565</td>\n",
       "      <td>6.335</td>\n",
       "      <td>96.430</td>\n",
       "      <td>3.725</td>\n",
       "      <td>106.505</td>\n",
       "      <td>10.020</td>\n",
       "      <td>52.960</td>\n",
       "      <td>0.000</td>\n",
       "      <td>62.985</td>\n",
       "      <td>169.490</td>\n",
       "      <td>0.000</td>\n",
       "      <td>0.000</td>\n",
       "      <td>0.000</td>\n",
       "      <td>24.0</td>\n",
       "      <td>640.0</td>\n",
       "      <td>50.0</td>\n",
       "      <td>25.0</td>\n",
       "      <td>0.0</td>\n",
       "      <td>0.0</td>\n",
       "      <td>0.0</td>\n",
       "      <td>0.0</td>\n",
       "      <td>0.0</td>\n",
       "      <td>0.000</td>\n",
       "      <td>0.000</td>\n",
       "      <td>0.0</td>\n",
       "      <td>0.0</td>\n",
       "      <td>0.0</td>\n",
       "      <td>0.0</td>\n",
       "      <td>New Cust</td>\n",
       "      <td>81.6570</td>\n",
       "      <td>1</td>\n",
       "    </tr>\n",
       "    <tr>\n",
       "      <th>23</th>\n",
       "      <td>7.000887e+09</td>\n",
       "      <td>366.9660</td>\n",
       "      <td>33.58</td>\n",
       "      <td>205.89</td>\n",
       "      <td>0.00</td>\n",
       "      <td>0.00</td>\n",
       "      <td>33.58</td>\n",
       "      <td>148.56</td>\n",
       "      <td>0.00</td>\n",
       "      <td>17.71</td>\n",
       "      <td>182.14</td>\n",
       "      <td>0.00</td>\n",
       "      <td>39.61</td>\n",
       "      <td>0.00</td>\n",
       "      <td>39.61</td>\n",
       "      <td>0.00</td>\n",
       "      <td>17.71</td>\n",
       "      <td>0.0</td>\n",
       "      <td>239.48</td>\n",
       "      <td>76.64</td>\n",
       "      <td>146.84</td>\n",
       "      <td>0.71</td>\n",
       "      <td>224.21</td>\n",
       "      <td>13.38</td>\n",
       "      <td>43.91</td>\n",
       "      <td>0.00</td>\n",
       "      <td>57.29</td>\n",
       "      <td>298.33</td>\n",
       "      <td>0.0</td>\n",
       "      <td>3.74</td>\n",
       "      <td>13.06</td>\n",
       "      <td>4.0</td>\n",
       "      <td>439.00</td>\n",
       "      <td>179.0</td>\n",
       "      <td>0.0</td>\n",
       "      <td>2.0</td>\n",
       "      <td>179.0</td>\n",
       "      <td>0.0</td>\n",
       "      <td>2.0</td>\n",
       "      <td>270.0</td>\n",
       "      <td>0.01</td>\n",
       "      <td>1009.92</td>\n",
       "      <td>0.0</td>\n",
       "      <td>0.0</td>\n",
       "      <td>1.0</td>\n",
       "      <td>1.0</td>\n",
       "      <td>1</td>\n",
       "      <td>40.45</td>\n",
       "      <td>51.86</td>\n",
       "      <td>0.00</td>\n",
       "      <td>0.00</td>\n",
       "      <td>0</td>\n",
       "      <td>134.1235</td>\n",
       "      <td>49.81</td>\n",
       "      <td>87.3850</td>\n",
       "      <td>0.00</td>\n",
       "      <td>0.000</td>\n",
       "      <td>49.810</td>\n",
       "      <td>82.975</td>\n",
       "      <td>0.000</td>\n",
       "      <td>0.0</td>\n",
       "      <td>132.7950</td>\n",
       "      <td>0.000</td>\n",
       "      <td>4.3550</td>\n",
       "      <td>0.00</td>\n",
       "      <td>4.355</td>\n",
       "      <td>0.005</td>\n",
       "      <td>0.05</td>\n",
       "      <td>0.0</td>\n",
       "      <td>137.210</td>\n",
       "      <td>40.875</td>\n",
       "      <td>104.635</td>\n",
       "      <td>0.000</td>\n",
       "      <td>145.520</td>\n",
       "      <td>0.255</td>\n",
       "      <td>8.660</td>\n",
       "      <td>0.000</td>\n",
       "      <td>8.915</td>\n",
       "      <td>171.235</td>\n",
       "      <td>0.000</td>\n",
       "      <td>14.115</td>\n",
       "      <td>2.675</td>\n",
       "      <td>4.0</td>\n",
       "      <td>227.0</td>\n",
       "      <td>89.5</td>\n",
       "      <td>89.5</td>\n",
       "      <td>1.0</td>\n",
       "      <td>89.5</td>\n",
       "      <td>0.0</td>\n",
       "      <td>1.0</td>\n",
       "      <td>178.0</td>\n",
       "      <td>0.240</td>\n",
       "      <td>299.545</td>\n",
       "      <td>0.0</td>\n",
       "      <td>0.0</td>\n",
       "      <td>1.0</td>\n",
       "      <td>0.0</td>\n",
       "      <td>New Cust</td>\n",
       "      <td>232.8425</td>\n",
       "      <td>1</td>\n",
       "    </tr>\n",
       "  </tbody>\n",
       "</table>\n",
       "</div>"
      ],
      "text/plain": [
       "    mobile_number     arpu_8  onnet_mou_8  offnet_mou_8  roam_ic_mou_8  roam_og_mou_8  loc_og_t2t_mou_8  loc_og_t2m_mou_8  loc_og_t2f_mou_8  loc_og_t2c_mou_8  loc_og_mou_8  std_og_t2t_mou_8  std_og_t2m_mou_8  std_og_t2f_mou_8  std_og_mou_8  isd_og_mou_8  spl_og_mou_8  og_others_8  total_og_mou_8  loc_ic_t2t_mou_8  loc_ic_t2m_mou_8  loc_ic_t2f_mou_8  loc_ic_mou_8  std_ic_t2t_mou_8  std_ic_t2m_mou_8  std_ic_t2f_mou_8  std_ic_mou_8  total_ic_mou_8  spl_ic_mou_8  isd_ic_mou_8  ic_others_8  total_rech_num_8  total_rech_amt_8  max_rech_amt_8  last_day_rch_amt_8  total_rech_data_8  max_rech_data_8  count_rech_2g_8  count_rech_3g_8  av_rech_amt_data_8  vol_2g_mb_8  vol_3g_mb_8  monthly_2g_8  sachet_2g_8  monthly_3g_8  sachet_3g_8  aon  aug_vbc_3g  jul_vbc_3g  jun_vbc_3g  sep_vbc_3g churn  avg_arpu_6_7  avg_onnet_mou_6_7  avg_offnet_mou_6_7  avg_roam_ic_mou_6_7  avg_roam_og_mou_6_7  avg_loc_og_t2t_mou_6_7  avg_loc_og_t2m_mou_6_7  avg_loc_og_t2f_mou_6_7  avg_loc_og_t2c_mou_6_7  \\\n",
       "0   7.000843e+09   213.8030   0.00         0.00          0.00           0.00           0.00              0.00              0.00              0.00              0.00          0.00              0.00              0.00              0.00          0.00          0.00          0.0          0.00            0.16              4.13              1.15              5.44          0.00              0.00              0.00              0.00          5.44            0.0           0.00          0.00         2.0               252.00            252.0           252.0               1.0                252.0            0.0              1.0              252.0               5.75         109.61       0.0           0.0          1.0           0.0          2    30.40       0.00        101.20      3.58        1     206.1005      33.32              94.0225             0.00                 0.000                11.760                  40.730                  0.000                   0.0                      \n",
       "7   7.000702e+09   1986.7396  52.29        325.91        31.64          38.06          40.28             162.28            53.23             0.00              255.79        12.01             49.14             16.68             77.84         10.01         6.50          0.0          350.16          27.31             121.19            39.53             188.04        30.39             141.33            22.21             193.94        428.74          0.0           31.59         15.14        7.0               2341.48           951.0           565.0               0.0                0.0              0.0              0.0              0.0                 0.00         0.00         0.0           0.0          0.0           0.0          2    57.74       19.38       18.74       0.00        1     1209.5150     56.26              510.2950            24.86                18.165               41.385                  378.005                 58.635                  0.0                      \n",
       "8   7.001525e+09   137.3620   35.08        136.48        0.00           0.00           12.49             50.54             0.00              7.15              63.04         22.58             75.69             0.00              98.28         0.00          10.23         0.0          171.56          0.31              15.48             0.00              15.79         0.10              0.65              0.00              0.75          16.54           0.0           0.00          0.00         14.0              120.00            30.0            10.0                3.0                23.0             3.0              0.0              69.0                0.03         11.94        0.0           3.0          0.0           0.0          0    21.03       910.65      122.16      0.00        0     435.4720      382.36             87.6450             0.00                 0.000                257.360                 75.770                  0.000                   0.0                      \n",
       "21  7.002124e+09   637.7600   85.14        983.39        0.00           0.00           23.34             104.81            1.58              0.00              129.74        61.79             876.99            0.00              938.79        0.00          0.00          0.0          1068.54         19.54             129.16            10.39             159.11        0.18              101.74            0.00              101.93        261.04          0.0           0.00          0.00         27.0              718.00            50.0            50.0                0.0                0.0              0.0              0.0              0.0                 0.00         0.00         0.0           0.0          0.0           0.0          1    0.00        0.00        0.00        0.00        0     556.1030      117.26             827.3050            0.00                 0.000                5.320                   89.870                  0.375                   0.0                      \n",
       "23  7.000887e+09   366.9660   33.58        205.89        0.00           0.00           33.58             148.56            0.00              17.71             182.14        0.00              39.61             0.00              39.61         0.00          17.71         0.0          239.48          76.64             146.84            0.71              224.21        13.38             43.91             0.00              57.29         298.33          0.0           3.74          13.06        4.0               439.00            179.0           0.0                 2.0                179.0            0.0              2.0              270.0               0.01         1009.92      0.0           0.0          1.0           1.0          1    40.45       51.86       0.00        0.00        0     134.1235      49.81              87.3850             0.00                 0.000                49.810                  82.975                  0.000                   0.0                      \n",
       "\n",
       "    avg_loc_og_mou_6_7  avg_std_og_t2t_mou_6_7  avg_std_og_t2m_mou_6_7  avg_std_og_t2f_mou_6_7  avg_std_og_mou_6_7  avg_isd_og_mou_6_7  avg_spl_og_mou_6_7  avg_og_others_6_7  avg_total_og_mou_6_7  avg_loc_ic_t2t_mou_6_7  avg_loc_ic_t2m_mou_6_7  avg_loc_ic_t2f_mou_6_7  avg_loc_ic_mou_6_7  avg_std_ic_t2t_mou_6_7  avg_std_ic_t2m_mou_6_7  avg_std_ic_t2f_mou_6_7  avg_std_ic_mou_6_7  avg_total_ic_mou_6_7  avg_spl_ic_mou_6_7  avg_isd_ic_mou_6_7  avg_ic_others_6_7  avg_total_rech_num_6_7  avg_total_rech_amt_6_7  avg_max_rech_amt_6_7  avg_last_day_rch_amt_6_7  avg_total_rech_data_6_7  avg_max_rech_data_6_7  avg_count_rech_2g_6_7  avg_count_rech_3g_6_7  avg_av_rech_amt_data_6_7  avg_vol_2g_mb_6_7  avg_vol_3g_mb_6_7  avg_monthly_2g_6_7  avg_sachet_2g_6_7  avg_monthly_3g_6_7  avg_sachet_3g_6_7 Cust_Period  Revenue_calc  Revenue_Status  \n",
       "0   64.3975             0.000                   3.7925                  0.00                    11.365              0.000               0.00                0.0                0.000                 15.715                  56.785                  0.905                   92.355              0.000                   2.035                   0.000                   5.925               0.000                 0.000               0.000               0.000              3.5                     307.0                   252.0                 252.0                     1.0                      252.0                  0.0                    1.0                    252.0                     15.725             117.165            0.0                 0.0                1.0                 0.0                New Cust    7.7025        1               \n",
       "7   478.0350            13.795                  40.8250                 13.37                   68.000              0.090               2.25                0.0                548.385               45.200                  219.525                 126.810                 391.555             24.360                  109.215                 43.215                  176.810             592.250               0.105               8.295               15.465             5.0                     1185.0                  799.5                 0.0                       0.0                      0.0                    0.0                    0.0                    0.0                       0.000              0.000              0.0                 0.0                0.0                 0.0                New Cust    777.2246      1               \n",
       "8   333.1350            124.995                 11.8650                 0.00                    136.870             0.000               0.00                0.0                470.010               16.840                  35.780                  0.000                   52.630              0.290                   13.255                  0.000                   13.545              66.175                0.000               0.000               0.000              20.0                    519.0                   122.0                 25.0                      1.0                      77.0                   1.0                    0.0                    88.5                      178.000            375.475            0.5                 0.5                0.0                 0.0                New Cust   -298.1100      0               \n",
       "21  95.5650             111.935                 737.0500                0.00                    848.990             0.000               0.00                0.0                944.565               6.335                   96.430                  3.725                   106.505             10.020                  52.960                  0.000                   62.985              169.490               0.000               0.000               0.000              24.0                    640.0                   50.0                  25.0                      0.0                      0.0                    0.0                    0.0                    0.0                       0.000              0.000              0.0                 0.0                0.0                 0.0                New Cust    81.6570       1               \n",
       "23  132.7950            0.000                   4.3550                  0.00                    4.355               0.005               0.05                0.0                137.210               40.875                  104.635                 0.000                   145.520             0.255                   8.660                   0.000                   8.915               171.235               0.000               14.115              2.675              4.0                     227.0                   89.5                  89.5                      1.0                      89.5                   0.0                    1.0                    178.0                     0.240              299.545            0.0                 0.0                1.0                 0.0                New Cust    232.8425      1               "
      ]
     },
     "execution_count": 263,
     "metadata": {},
     "output_type": "execute_result"
    }
   ],
   "source": [
    "imp_cust.head()"
   ]
  },
  {
   "cell_type": "code",
   "execution_count": 264,
   "metadata": {
    "execution": {
     "iopub.execute_input": "2022-01-01T02:07:09.319374Z",
     "iopub.status.busy": "2022-01-01T02:07:09.319074Z",
     "iopub.status.idle": "2022-01-01T02:07:09.497495Z",
     "shell.execute_reply": "2022-01-01T02:07:09.496838Z",
     "shell.execute_reply.started": "2022-01-01T02:07:09.319339Z"
    }
   },
   "outputs": [
    {
     "data": {
      "image/png": "[encoded data removed]",
      "text/plain": [
       "<Figure size 432x288 with 1 Axes>"
      ]
     },
     "metadata": {},
     "output_type": "display_data"
    }
   ],
   "source": [
    "bivariate(imp_cust.churn,imp_cust.Revenue_calc)"
   ]
  },
  {
   "cell_type": "markdown",
   "metadata": {},
   "source": [
    "We see that the median difference in revenue generated is zero by the customers during the August month with respect to the \n",
    "average of June and July, this means that majority of the customers either recharge far less or they show more interest towards the\n",
    "service. As we saw before only handful of customers do generate revenues rest of them aren't and this fact is once more evidenced from the box plot. \n",
    "\n",
    "Also in the side of churn, some customers who did recharge more in August compared to the previous months have unfortunately churned might be because of lack of schemes or insentives which we explore further with the help of the box plot"
   ]
  },
  {
   "cell_type": "code",
   "execution_count": 265,
   "metadata": {
    "execution": {
     "iopub.execute_input": "2022-01-01T02:07:09.498942Z",
     "iopub.status.busy": "2022-01-01T02:07:09.498701Z",
     "iopub.status.idle": "2022-01-01T02:07:09.651389Z",
     "shell.execute_reply": "2022-01-01T02:07:09.650636Z",
     "shell.execute_reply.started": "2022-01-01T02:07:09.498909Z"
    }
   },
   "outputs": [
    {
     "data": {
      "image/png": "[encoded data removed]",
      "text/plain": [
       "<Figure size 432x288 with 1 Axes>"
      ]
     },
     "metadata": {},
     "output_type": "display_data"
    }
   ],
   "source": [
    "sns.boxplot(imp_cust.churn,imp_cust.aon)\n",
    "plt.show()"
   ]
  },
  {
   "cell_type": "code",
   "execution_count": 266,
   "metadata": {
    "execution": {
     "iopub.execute_input": "2022-01-01T02:07:09.655862Z",
     "iopub.status.busy": "2022-01-01T02:07:09.655588Z",
     "iopub.status.idle": "2022-01-01T02:07:09.834470Z",
     "shell.execute_reply": "2022-01-01T02:07:09.833818Z",
     "shell.execute_reply.started": "2022-01-01T02:07:09.655827Z"
    }
   },
   "outputs": [
    {
     "data": {
      "image/png": "[encoded data removed]",
      "text/plain": [
       "<Figure size 432x288 with 1 Axes>"
      ]
     },
     "metadata": {},
     "output_type": "display_data"
    }
   ],
   "source": [
    "bivariate(imp_cust.churn,imp_cust.Revenue_calc)"
   ]
  },
  {
   "cell_type": "code",
   "execution_count": 267,
   "metadata": {
    "execution": {
     "iopub.execute_input": "2022-01-01T02:07:09.835730Z",
     "iopub.status.busy": "2022-01-01T02:07:09.835494Z",
     "iopub.status.idle": "2022-01-01T02:07:09.839899Z",
     "shell.execute_reply": "2022-01-01T02:07:09.838964Z",
     "shell.execute_reply.started": "2022-01-01T02:07:09.835695Z"
    }
   },
   "outputs": [],
   "source": [
    "##Now we shall attempt to plot box plot for all 8 month data"
   ]
  },
  {
   "cell_type": "code",
   "execution_count": 268,
   "metadata": {
    "execution": {
     "iopub.execute_input": "2022-01-01T02:07:09.841741Z",
     "iopub.status.busy": "2022-01-01T02:07:09.841486Z",
     "iopub.status.idle": "2022-01-01T02:07:09.998718Z",
     "shell.execute_reply": "2022-01-01T02:07:09.997924Z",
     "shell.execute_reply.started": "2022-01-01T02:07:09.841708Z"
    },
    "scrolled": true
   },
   "outputs": [
    {
     "data": {
      "image/png": "[encoded data removed]",
      "text/plain": [
       "<Figure size 432x288 with 1 Axes>"
      ]
     },
     "metadata": {},
     "output_type": "display_data"
    }
   ],
   "source": [
    "bivariate(imp_cust.churn,imp_cust.total_rech_num_8)"
   ]
  },
  {
   "cell_type": "code",
   "execution_count": 269,
   "metadata": {
    "execution": {
     "iopub.execute_input": "2022-01-01T02:07:10.003183Z",
     "iopub.status.busy": "2022-01-01T02:07:10.002905Z",
     "iopub.status.idle": "2022-01-01T02:07:10.161135Z",
     "shell.execute_reply": "2022-01-01T02:07:10.160420Z",
     "shell.execute_reply.started": "2022-01-01T02:07:10.003147Z"
    }
   },
   "outputs": [
    {
     "data": {
      "image/png": "[encoded data removed]",
      "text/plain": [
       "<Figure size 432x288 with 1 Axes>"
      ]
     },
     "metadata": {},
     "output_type": "display_data"
    }
   ],
   "source": [
    "bivariate(imp_cust.churn,imp_cust.total_rech_amt_8)"
   ]
  },
  {
   "cell_type": "code",
   "execution_count": 270,
   "metadata": {
    "execution": {
     "iopub.execute_input": "2022-01-01T02:07:10.162611Z",
     "iopub.status.busy": "2022-01-01T02:07:10.162366Z",
     "iopub.status.idle": "2022-01-01T02:07:10.315623Z",
     "shell.execute_reply": "2022-01-01T02:07:10.314911Z",
     "shell.execute_reply.started": "2022-01-01T02:07:10.162577Z"
    },
    "scrolled": true
   },
   "outputs": [
    {
     "data": {
      "image/png": "[encoded data removed]",
      "text/plain": [
       "<Figure size 432x288 with 1 Axes>"
      ]
     },
     "metadata": {},
     "output_type": "display_data"
    }
   ],
   "source": [
    "bivariate(imp_cust.churn,imp_cust.max_rech_amt_8)"
   ]
  },
  {
   "cell_type": "markdown",
   "metadata": {},
   "source": [
    "***Based on the customer status***\n",
    "\n",
    "We shall analyze the following parameters only for the 8 month based on the customer status:\n",
    "\n",
    "1. Max recharge amount in month 8\n",
    "2. Total recharge amount in month 8\n",
    "3. Count of 2g usage in month 8\n",
    "4. Count of 3g usage in month 8\n",
    "5. Monthly 2g usage\n",
    "6. Mobile internet usage volume 2g(in MB) in month 8\n",
    "7. Mobile internet usage volume 3g(in MB) in month 8"
   ]
  },
  {
   "cell_type": "code",
   "execution_count": 271,
   "metadata": {
    "execution": {
     "iopub.execute_input": "2022-01-01T02:07:10.317231Z",
     "iopub.status.busy": "2022-01-01T02:07:10.316764Z",
     "iopub.status.idle": "2022-01-01T02:07:10.511565Z",
     "shell.execute_reply": "2022-01-01T02:07:10.510925Z",
     "shell.execute_reply.started": "2022-01-01T02:07:10.317194Z"
    }
   },
   "outputs": [
    {
     "data": {
      "image/png": "[encoded data removed]",
      "text/plain": [
       "<Figure size 432x288 with 1 Axes>"
      ]
     },
     "metadata": {},
     "output_type": "display_data"
    }
   ],
   "source": [
    "#Max recharge amount in month 8\n",
    "bivariate(imp_cust.Cust_Period,imp_cust.max_rech_amt_8)"
   ]
  },
  {
   "cell_type": "code",
   "execution_count": 272,
   "metadata": {
    "execution": {
     "iopub.execute_input": "2022-01-01T02:07:10.513143Z",
     "iopub.status.busy": "2022-01-01T02:07:10.512866Z",
     "iopub.status.idle": "2022-01-01T02:07:10.704459Z",
     "shell.execute_reply": "2022-01-01T02:07:10.703824Z",
     "shell.execute_reply.started": "2022-01-01T02:07:10.513091Z"
    }
   },
   "outputs": [
    {
     "data": {
      "image/png": "[encoded data removed]",
      "text/plain": [
       "<Figure size 432x288 with 1 Axes>"
      ]
     },
     "metadata": {},
     "output_type": "display_data"
    }
   ],
   "source": [
    "#Total recharge amount in month 8\n",
    "bivariate(imp_cust.Cust_Period,imp_cust.total_rech_amt_8)"
   ]
  },
  {
   "cell_type": "code",
   "execution_count": 273,
   "metadata": {
    "execution": {
     "iopub.execute_input": "2022-01-01T02:07:10.705949Z",
     "iopub.status.busy": "2022-01-01T02:07:10.705712Z",
     "iopub.status.idle": "2022-01-01T02:07:10.906350Z",
     "shell.execute_reply": "2022-01-01T02:07:10.905697Z",
     "shell.execute_reply.started": "2022-01-01T02:07:10.705917Z"
    }
   },
   "outputs": [
    {
     "data": {
      "image/png": "[encoded data removed]",
      "text/plain": [
       "<Figure size 432x288 with 1 Axes>"
      ]
     },
     "metadata": {},
     "output_type": "display_data"
    }
   ],
   "source": [
    "#Count of 2g usage in month 8\n",
    "bivariate(imp_cust.Cust_Period,imp_cust.count_rech_2g_8)"
   ]
  },
  {
   "cell_type": "code",
   "execution_count": 274,
   "metadata": {
    "execution": {
     "iopub.execute_input": "2022-01-01T02:07:10.907850Z",
     "iopub.status.busy": "2022-01-01T02:07:10.907599Z",
     "iopub.status.idle": "2022-01-01T02:07:11.106574Z",
     "shell.execute_reply": "2022-01-01T02:07:11.105844Z",
     "shell.execute_reply.started": "2022-01-01T02:07:10.907817Z"
    },
    "scrolled": true
   },
   "outputs": [
    {
     "data": {
      "image/png": "[encoded data removed]",
      "text/plain": [
       "<Figure size 432x288 with 1 Axes>"
      ]
     },
     "metadata": {},
     "output_type": "display_data"
    }
   ],
   "source": [
    "bivariate(imp_cust.Cust_Period,imp_cust.count_rech_3g_8)"
   ]
  },
  {
   "cell_type": "code",
   "execution_count": 275,
   "metadata": {
    "execution": {
     "iopub.execute_input": "2022-01-01T02:07:11.107929Z",
     "iopub.status.busy": "2022-01-01T02:07:11.107696Z",
     "iopub.status.idle": "2022-01-01T02:07:11.321971Z",
     "shell.execute_reply": "2022-01-01T02:07:11.321344Z",
     "shell.execute_reply.started": "2022-01-01T02:07:11.107896Z"
    },
    "scrolled": true
   },
   "outputs": [
    {
     "data": {
      "image/png": "[encoded data removed]",
      "text/plain": [
       "<Figure size 432x288 with 1 Axes>"
      ]
     },
     "metadata": {},
     "output_type": "display_data"
    }
   ],
   "source": [
    "bivariate(imp_cust.Cust_Period,imp_cust.monthly_2g_8)"
   ]
  },
  {
   "cell_type": "code",
   "execution_count": 276,
   "metadata": {
    "execution": {
     "iopub.execute_input": "2022-01-01T02:07:11.323490Z",
     "iopub.status.busy": "2022-01-01T02:07:11.323257Z",
     "iopub.status.idle": "2022-01-01T02:07:11.530431Z",
     "shell.execute_reply": "2022-01-01T02:07:11.529781Z",
     "shell.execute_reply.started": "2022-01-01T02:07:11.323457Z"
    },
    "scrolled": true
   },
   "outputs": [
    {
     "data": {
      "image/png": "[encoded data removed]",
      "text/plain": [
       "<Figure size 432x288 with 1 Axes>"
      ]
     },
     "metadata": {},
     "output_type": "display_data"
    }
   ],
   "source": [
    "bivariate(imp_cust.Cust_Period,imp_cust.vol_2g_mb_8)"
   ]
  },
  {
   "cell_type": "code",
   "execution_count": 277,
   "metadata": {
    "execution": {
     "iopub.execute_input": "2022-01-01T02:07:11.532042Z",
     "iopub.status.busy": "2022-01-01T02:07:11.531616Z",
     "iopub.status.idle": "2022-01-01T02:07:11.745446Z",
     "shell.execute_reply": "2022-01-01T02:07:11.744807Z",
     "shell.execute_reply.started": "2022-01-01T02:07:11.531975Z"
    }
   },
   "outputs": [
    {
     "data": {
      "image/png": "[encoded data removed]",
      "text/plain": [
       "<Figure size 432x288 with 1 Axes>"
      ]
     },
     "metadata": {},
     "output_type": "display_data"
    }
   ],
   "source": [
    "bivariate(imp_cust.Cust_Period,imp_cust.vol_3g_mb_8)"
   ]
  },
  {
   "cell_type": "markdown",
   "metadata": {},
   "source": [
    "Important Inferences:\n",
    "\n",
    "  1. In maximum recharge and total recharge amount for August month we could see more contribution from the diamond and platinum customers\n",
    "       than the others but these customers are sparse in population when compared to the others.\n",
    "       \n",
    "    \n",
    "  2. The 2g usage has fairly the same distribution among the customers and the median of the value is slightly above 0.\n",
    "  \n",
    "    \n",
    "  3. The 3g on the other side the high valued customers ( diamond and platinum ) used these plans but the new users show no\n",
    "       interest on these products, but their population representing the entire data is huge. So we need to plan for incentives\n",
    "       for the most trustable customers (please refer to the most loyal customer chart above)to maximize the profit through their subscription.\n",
    "       \n",
    "        \n",
    "  4. Majority of the customers never utilised 2g and 3g data volume only very few utilised th esignificant volume of data which\n",
    "     is evident from the above box plots and that needs to be taken into account.\n",
    "    "
   ]
  },
  {
   "cell_type": "markdown",
   "metadata": {},
   "source": [
    "# Part--2 Model Building"
   ]
  },
  {
   "cell_type": "code",
   "execution_count": 278,
   "metadata": {
    "execution": {
     "iopub.execute_input": "2022-01-01T02:07:11.746998Z",
     "iopub.status.busy": "2022-01-01T02:07:11.746608Z",
     "iopub.status.idle": "2022-01-01T02:07:11.757033Z",
     "shell.execute_reply": "2022-01-01T02:07:11.756362Z",
     "shell.execute_reply.started": "2022-01-01T02:07:11.746959Z"
    }
   },
   "outputs": [],
   "source": [
    "## We shall remove some more columns which were exclusively created for the EDA purpose\n",
    "\n",
    "cols_to_replace=['mobile_number','Cust_Period','Revenue_calc','Revenue_Status']\n",
    "\n",
    "imp_cust.drop(cols_to_replace,axis=1,inplace=True)"
   ]
  },
  {
   "cell_type": "code",
   "execution_count": 279,
   "metadata": {
    "execution": {
     "iopub.execute_input": "2022-01-01T02:07:11.758715Z",
     "iopub.status.busy": "2022-01-01T02:07:11.758094Z",
     "iopub.status.idle": "2022-01-01T02:07:11.767268Z",
     "shell.execute_reply": "2022-01-01T02:07:11.766421Z",
     "shell.execute_reply.started": "2022-01-01T02:07:11.758679Z"
    }
   },
   "outputs": [
    {
     "name": "stdout",
     "output_type": "stream",
     "text": [
      "Final dataframe's dimension used for model buildaing.... (29953, 96)\n"
     ]
    }
   ],
   "source": [
    "print('Final dataframe\\'s dimension used for model buildaing....',imp_cust.shape)"
   ]
  },
  {
   "cell_type": "markdown",
   "metadata": {},
   "source": [
    "***Train Test Split***"
   ]
  },
  {
   "cell_type": "code",
   "execution_count": 280,
   "metadata": {
    "execution": {
     "iopub.execute_input": "2022-01-01T02:07:11.769037Z",
     "iopub.status.busy": "2022-01-01T02:07:11.768553Z",
     "iopub.status.idle": "2022-01-01T02:07:11.774727Z",
     "shell.execute_reply": "2022-01-01T02:07:11.774053Z",
     "shell.execute_reply.started": "2022-01-01T02:07:11.768985Z"
    }
   },
   "outputs": [],
   "source": [
    "from sklearn.model_selection import train_test_split\n",
    "from sklearn.preprocessing import StandardScaler"
   ]
  },
  {
   "cell_type": "code",
   "execution_count": 281,
   "metadata": {
    "execution": {
     "iopub.execute_input": "2022-01-01T02:07:11.778074Z",
     "iopub.status.busy": "2022-01-01T02:07:11.777471Z",
     "iopub.status.idle": "2022-01-01T02:07:11.822705Z",
     "shell.execute_reply": "2022-01-01T02:07:11.822028Z",
     "shell.execute_reply.started": "2022-01-01T02:07:11.777998Z"
    }
   },
   "outputs": [],
   "source": [
    "X = imp_cust.drop(\"churn\", axis = 1)\n",
    "y = imp_cust.churn\n",
    "X_train, X_test, y_train, y_test = train_test_split(X, y, test_size = 0.3, random_state = 42, stratify = y)"
   ]
  },
  {
   "cell_type": "code",
   "execution_count": 282,
   "metadata": {
    "execution": {
     "iopub.execute_input": "2022-01-01T02:07:11.824482Z",
     "iopub.status.busy": "2022-01-01T02:07:11.824017Z",
     "iopub.status.idle": "2022-01-01T02:07:11.831800Z",
     "shell.execute_reply": "2022-01-01T02:07:11.830848Z",
     "shell.execute_reply.started": "2022-01-01T02:07:11.824445Z"
    }
   },
   "outputs": [
    {
     "name": "stdout",
     "output_type": "stream",
     "text": [
      "X_train dimension... (20967, 95)\n",
      "y_train dimension.... (20967,)\n",
      "X_test dimension..... (8986, 95)\n",
      "y_test dimension.... (8986,)\n"
     ]
    }
   ],
   "source": [
    "#We used stratify as the train and test becomes the exact representative\n",
    "print('X_train dimension...',X_train.shape)\n",
    "print('y_train dimension....',y_train.shape)\n",
    "print('X_test dimension.....',X_test.shape)\n",
    "print('y_test dimension....',y_test.shape)"
   ]
  },
  {
   "cell_type": "markdown",
   "metadata": {},
   "source": [
    "***Using PCA to reduce the columns***"
   ]
  },
  {
   "cell_type": "markdown",
   "metadata": {},
   "source": [
    "We refer to the sklearn's dynamic pipeline creation model https://scikit-learn.org/stable/auto_examples/compose/plot_digits_pipe.html in the robust pipeline implementation"
   ]
  },
  {
   "cell_type": "code",
   "execution_count": 283,
   "metadata": {
    "execution": {
     "iopub.execute_input": "2022-01-01T02:07:11.834059Z",
     "iopub.status.busy": "2022-01-01T02:07:11.833470Z",
     "iopub.status.idle": "2022-01-01T02:07:11.918762Z",
     "shell.execute_reply": "2022-01-01T02:07:11.918126Z",
     "shell.execute_reply.started": "2022-01-01T02:07:11.834021Z"
    }
   },
   "outputs": [],
   "source": [
    "from sklearn.decomposition import PCA\n",
    "from sklearn.preprocessing import StandardScaler\n",
    "from sklearn.linear_model import LogisticRegression\n",
    "from sklearn.pipeline import Pipeline"
   ]
  },
  {
   "cell_type": "code",
   "execution_count": 284,
   "metadata": {
    "execution": {
     "iopub.execute_input": "2022-01-01T02:07:11.920216Z",
     "iopub.status.busy": "2022-01-01T02:07:11.919945Z",
     "iopub.status.idle": "2022-01-01T02:07:11.924149Z",
     "shell.execute_reply": "2022-01-01T02:07:11.923354Z",
     "shell.execute_reply.started": "2022-01-01T02:07:11.920182Z"
    }
   },
   "outputs": [],
   "source": [
    "from sklearn.metrics import confusion_matrix\n",
    "from sklearn.metrics import roc_auc_score"
   ]
  },
  {
   "cell_type": "markdown",
   "metadata": {},
   "source": [
    "Let us create a skeletal pipleine model which we wil be using for future cases"
   ]
  },
  {
   "cell_type": "code",
   "execution_count": 285,
   "metadata": {
    "execution": {
     "iopub.execute_input": "2022-01-01T02:07:11.925992Z",
     "iopub.status.busy": "2022-01-01T02:07:11.925713Z",
     "iopub.status.idle": "2022-01-01T02:07:11.932831Z",
     "shell.execute_reply": "2022-01-01T02:07:11.932181Z",
     "shell.execute_reply.started": "2022-01-01T02:07:11.925921Z"
    }
   },
   "outputs": [],
   "source": [
    "# apply pca to train data\n",
    "pca = Pipeline([('scaler', StandardScaler()), ('pca', PCA())])"
   ]
  },
  {
   "cell_type": "code",
   "execution_count": 286,
   "metadata": {
    "execution": {
     "iopub.execute_input": "2022-01-01T02:07:11.934479Z",
     "iopub.status.busy": "2022-01-01T02:07:11.934165Z",
     "iopub.status.idle": "2022-01-01T02:07:12.390283Z",
     "shell.execute_reply": "2022-01-01T02:07:12.389348Z",
     "shell.execute_reply.started": "2022-01-01T02:07:11.934447Z"
    }
   },
   "outputs": [],
   "source": [
    "pca.fit(X_train)\n",
    "X_train_pca = pca.fit_transform(X_train)"
   ]
  },
  {
   "cell_type": "code",
   "execution_count": 287,
   "metadata": {
    "execution": {
     "iopub.execute_input": "2022-01-01T02:07:12.392235Z",
     "iopub.status.busy": "2022-01-01T02:07:12.391744Z",
     "iopub.status.idle": "2022-01-01T02:07:12.396069Z",
     "shell.execute_reply": "2022-01-01T02:07:12.395420Z",
     "shell.execute_reply.started": "2022-01-01T02:07:12.392196Z"
    }
   },
   "outputs": [],
   "source": [
    "#Extacting the PCA series information from the pipleline\n",
    "pca = pca.named_steps['pca']"
   ]
  },
  {
   "cell_type": "code",
   "execution_count": 288,
   "metadata": {
    "execution": {
     "iopub.execute_input": "2022-01-01T02:07:12.397933Z",
     "iopub.status.busy": "2022-01-01T02:07:12.397465Z",
     "iopub.status.idle": "2022-01-01T02:07:12.578996Z",
     "shell.execute_reply": "2022-01-01T02:07:12.578372Z",
     "shell.execute_reply.started": "2022-01-01T02:07:12.397894Z"
    }
   },
   "outputs": [
    {
     "data": {
      "text/plain": [
       "[<matplotlib.lines.Line2D at 0x23d08cad9b0>]"
      ]
     },
     "execution_count": 288,
     "metadata": {},
     "output_type": "execute_result"
    },
    {
     "data": {
      "image/png": "[encoded data removed]",
      "text/plain": [
       "<Figure size 432x288 with 1 Axes>"
      ]
     },
     "metadata": {},
     "output_type": "display_data"
    }
   ],
   "source": [
    "cumulative_variance = np.round(np.cumsum(pca.explained_variance_ratio_)*100, decimals=4)\n",
    "plt.plot(cumulative_variance)"
   ]
  },
  {
   "cell_type": "code",
   "execution_count": 289,
   "metadata": {
    "execution": {
     "iopub.execute_input": "2022-01-01T02:07:12.580456Z",
     "iopub.status.busy": "2022-01-01T02:07:12.580212Z",
     "iopub.status.idle": "2022-01-01T02:07:12.585799Z",
     "shell.execute_reply": "2022-01-01T02:07:12.585095Z",
     "shell.execute_reply.started": "2022-01-01T02:07:12.580423Z"
    }
   },
   "outputs": [],
   "source": [
    "##We define the pipeline for PCA on Training data and without class imbalance\n",
    "\n",
    "steps = [('scaler', StandardScaler()),\n",
    "         (\"pca\", PCA(n_components=65)),\n",
    "         (\"logistic\", LogisticRegression())\n",
    "        ]\n",
    "pipeline = Pipeline(steps)"
   ]
  },
  {
   "cell_type": "code",
   "execution_count": 290,
   "metadata": {
    "execution": {
     "iopub.execute_input": "2022-01-01T02:07:12.587760Z",
     "iopub.status.busy": "2022-01-01T02:07:12.587346Z",
     "iopub.status.idle": "2022-01-01T02:07:13.672939Z",
     "shell.execute_reply": "2022-01-01T02:07:13.672205Z",
     "shell.execute_reply.started": "2022-01-01T02:07:12.587726Z"
    }
   },
   "outputs": [
    {
     "data": {
      "text/plain": [
       "0.9288882529689512"
      ]
     },
     "execution_count": 290,
     "metadata": {},
     "output_type": "execute_result"
    }
   ],
   "source": [
    "# fit model\n",
    "pipeline.fit(X_train, y_train)\n",
    "\n",
    "# check score on train data\n",
    "pipeline.score(X_train, y_train)"
   ]
  },
  {
   "cell_type": "code",
   "execution_count": 291,
   "metadata": {
    "execution": {
     "iopub.execute_input": "2022-01-01T02:07:13.677600Z",
     "iopub.status.busy": "2022-01-01T02:07:13.677017Z",
     "iopub.status.idle": "2022-01-01T02:07:13.771445Z",
     "shell.execute_reply": "2022-01-01T02:07:13.770678Z",
     "shell.execute_reply.started": "2022-01-01T02:07:13.677556Z"
    }
   },
   "outputs": [
    {
     "name": "stdout",
     "output_type": "stream",
     "text": [
      "[[8140  116]\n",
      " [ 537  193]]\n",
      "AUC:    \t 0.89\n"
     ]
    }
   ],
   "source": [
    "##Evaluating on the test data\n",
    "\n",
    "# predict churn on test data\n",
    "y_pred = pipeline.predict(X_test)\n",
    "\n",
    "# create onfusion matrix\n",
    "confusion = confusion_matrix(y_test, y_pred)\n",
    "print(confusion)\n",
    "\n",
    "\n",
    "# check area under curve\n",
    "y_pred_prob = pipeline.predict_proba(X_test)[:, 1]\n",
    "print(\"AUC:    \\t\", round(roc_auc_score(y_test, y_pred_prob),2))"
   ]
  },
  {
   "cell_type": "code",
   "execution_count": 292,
   "metadata": {
    "execution": {
     "iopub.execute_input": "2022-01-01T02:07:13.773262Z",
     "iopub.status.busy": "2022-01-01T02:07:13.772586Z",
     "iopub.status.idle": "2022-01-01T02:07:13.780337Z",
     "shell.execute_reply": "2022-01-01T02:07:13.779530Z",
     "shell.execute_reply.started": "2022-01-01T02:07:13.773225Z"
    }
   },
   "outputs": [],
   "source": [
    "##Calculating Accuracy and sensitivity\n",
    "\n",
    "TP = confusion[1,1] # true positive \n",
    "TN = confusion[0,0] # true negatives\n",
    "FP = confusion[0,1] # false positives\n",
    "FN = confusion[1,0] # false negatives"
   ]
  },
  {
   "cell_type": "code",
   "execution_count": 293,
   "metadata": {
    "execution": {
     "iopub.execute_input": "2022-01-01T02:07:13.782062Z",
     "iopub.status.busy": "2022-01-01T02:07:13.781573Z",
     "iopub.status.idle": "2022-01-01T02:07:13.795335Z",
     "shell.execute_reply": "2022-01-01T02:07:13.794602Z",
     "shell.execute_reply.started": "2022-01-01T02:07:13.781979Z"
    }
   },
   "outputs": [],
   "source": [
    "sensitivity=round(TP / float(TP+FN),2)\n",
    "accuracy=round((TP+TN)/(TP+TN+FP+FN),2)\n",
    "roc_score=round(roc_auc_score(y_test, y_pred_prob),2)\n",
    "specificity=round(TN / float(TN+FP),2)"
   ]
  },
  {
   "cell_type": "code",
   "execution_count": 294,
   "metadata": {
    "execution": {
     "iopub.execute_input": "2022-01-01T02:07:13.796901Z",
     "iopub.status.busy": "2022-01-01T02:07:13.796288Z",
     "iopub.status.idle": "2022-01-01T02:07:13.805969Z",
     "shell.execute_reply": "2022-01-01T02:07:13.805077Z",
     "shell.execute_reply.started": "2022-01-01T02:07:13.796864Z"
    }
   },
   "outputs": [
    {
     "name": "stdout",
     "output_type": "stream",
     "text": [
      "Sensitivity on test...... 0.26\n",
      "Specificity on test...... 0.26\n",
      "accuracy on test...... 0.93\n",
      "roc_score on test...... 0.89\n"
     ]
    }
   ],
   "source": [
    "print('Sensitivity on test......',sensitivity)\n",
    "print('Specificity on test......',sensitivity)\n",
    "print('accuracy on test......',accuracy)\n",
    "print('roc_score on test......',roc_score)\n"
   ]
  },
  {
   "cell_type": "code",
   "execution_count": 295,
   "metadata": {
    "execution": {
     "iopub.execute_input": "2022-01-01T02:07:13.810143Z",
     "iopub.status.busy": "2022-01-01T02:07:13.807700Z",
     "iopub.status.idle": "2022-01-01T02:07:13.831740Z",
     "shell.execute_reply": "2022-01-01T02:07:13.831047Z",
     "shell.execute_reply.started": "2022-01-01T02:07:13.810102Z"
    }
   },
   "outputs": [
    {
     "data": {
      "text/html": [
       "<div>\n",
       "<style scoped>\n",
       "    .dataframe tbody tr th:only-of-type {\n",
       "        vertical-align: middle;\n",
       "    }\n",
       "\n",
       "    .dataframe tbody tr th {\n",
       "        vertical-align: top;\n",
       "    }\n",
       "\n",
       "    .dataframe thead th {\n",
       "        text-align: right;\n",
       "    }\n",
       "</style>\n",
       "<table border=\"1\" class=\"dataframe\">\n",
       "  <thead>\n",
       "    <tr style=\"text-align: right;\">\n",
       "      <th></th>\n",
       "      <th>Model</th>\n",
       "      <th>Accuaracy</th>\n",
       "      <th>Sensitivity</th>\n",
       "      <th>ROC_Score</th>\n",
       "      <th>Specificity</th>\n",
       "    </tr>\n",
       "  </thead>\n",
       "  <tbody>\n",
       "    <tr>\n",
       "      <th>0</th>\n",
       "      <td>PCA-Logistic(no hyper param and no class balance)</td>\n",
       "      <td>0.93</td>\n",
       "      <td>0.26</td>\n",
       "      <td>0.89</td>\n",
       "      <td>0.99</td>\n",
       "    </tr>\n",
       "  </tbody>\n",
       "</table>\n",
       "</div>"
      ],
      "text/plain": [
       "                                               Model  Accuaracy  Sensitivity  ROC_Score  Specificity\n",
       "0  PCA-Logistic(no hyper param and no class balance)  0.93       0.26         0.89       0.99       "
      ]
     },
     "execution_count": 295,
     "metadata": {},
     "output_type": "execute_result"
    }
   ],
   "source": [
    "##Creating a dataframe to append these results\n",
    "\n",
    "results = pd.DataFrame({'Model':['PCA-Logistic(no hyper param and no class balance)'], 'Accuaracy': [accuracy], 'Sensitivity': [sensitivity],\n",
    "                        'ROC_Score':[roc_score],'Specificity':[specificity]})\n",
    "results = results[['Model', 'Accuaracy', 'Sensitivity','ROC_Score','Specificity']]\n",
    "results\n"
   ]
  },
  {
   "cell_type": "markdown",
   "metadata": {},
   "source": [
    "***Logistic Regression with Hyper Parameter Tuning with class balanced technique***"
   ]
  },
  {
   "cell_type": "code",
   "execution_count": 296,
   "metadata": {
    "execution": {
     "iopub.execute_input": "2022-01-01T02:07:13.833533Z",
     "iopub.status.busy": "2022-01-01T02:07:13.833085Z",
     "iopub.status.idle": "2022-01-01T02:07:13.837197Z",
     "shell.execute_reply": "2022-01-01T02:07:13.836490Z",
     "shell.execute_reply.started": "2022-01-01T02:07:13.833496Z"
    }
   },
   "outputs": [],
   "source": [
    "from sklearn.model_selection import StratifiedKFold\n",
    "from sklearn.model_selection import GridSearchCV"
   ]
  },
  {
   "cell_type": "code",
   "execution_count": 297,
   "metadata": {
    "execution": {
     "iopub.execute_input": "2022-01-01T02:07:13.838831Z",
     "iopub.status.busy": "2022-01-01T02:07:13.838422Z",
     "iopub.status.idle": "2022-01-01T02:07:13.851897Z",
     "shell.execute_reply": "2022-01-01T02:07:13.850911Z",
     "shell.execute_reply.started": "2022-01-01T02:07:13.838792Z"
    }
   },
   "outputs": [
    {
     "data": {
      "text/plain": [
       "0    0.918777\n",
       "1    0.081223\n",
       "Name: churn, dtype: float64"
      ]
     },
     "execution_count": 297,
     "metadata": {},
     "output_type": "execute_result"
    }
   ],
   "source": [
    "##Getting the class imbalnce ratio\n",
    "\n",
    "y_train.value_counts(normalize=True)"
   ]
  },
  {
   "cell_type": "markdown",
   "metadata": {},
   "source": [
    "https://www.projectpro.io/recipes/optimize-hyper-parameters-of-logistic-regression-model-using-grid-search-in-python\n",
    "\n",
    "Building the pipeline which includes both logistic and hyper parameter"
   ]
  },
  {
   "cell_type": "code",
   "execution_count": 298,
   "metadata": {
    "execution": {
     "iopub.execute_input": "2022-01-01T02:07:13.853558Z",
     "iopub.status.busy": "2022-01-01T02:07:13.853113Z",
     "iopub.status.idle": "2022-01-01T02:07:13.861382Z",
     "shell.execute_reply": "2022-01-01T02:07:13.860325Z",
     "shell.execute_reply.started": "2022-01-01T02:07:13.853522Z"
    }
   },
   "outputs": [],
   "source": [
    "##Defining pipeline and including hyper paramter\n",
    "pca=PCA()\n",
    "# logistic regression - the class weight is used to handle class imbalance - it adjusts the cost function\n",
    "logistic = LogisticRegression(class_weight={0:0.08, 1: 0.92})\n",
    "C = [0.001,0.01,0.1,1,10,100]\n",
    "penalty = ['l1', 'l2','Elastic-Net']\n",
    "# create pipeline\n",
    "steps = [(\"scaler\", StandardScaler()), \n",
    "         (\"pca\", pca),\n",
    "         (\"logistic\", logistic)\n",
    "        ]\n",
    "\n",
    "# compile pipeline\n",
    "combined_pipeline = Pipeline(steps)\n",
    "\n",
    "# hyperparameter space\n",
    "params = {'pca__n_components': [65, 75], 'logistic__penalty': penalty,'logistic__C':C}\n"
   ]
  },
  {
   "cell_type": "code",
   "execution_count": 299,
   "metadata": {
    "execution": {
     "iopub.execute_input": "2022-01-01T02:07:13.864741Z",
     "iopub.status.busy": "2022-01-01T02:07:13.864436Z",
     "iopub.status.idle": "2022-01-01T02:07:13.871554Z",
     "shell.execute_reply": "2022-01-01T02:07:13.870743Z",
     "shell.execute_reply.started": "2022-01-01T02:07:13.864716Z"
    }
   },
   "outputs": [],
   "source": [
    "# create 5 folds\n",
    "folds = StratifiedKFold(n_splits = 5, shuffle = True, random_state = 42)"
   ]
  },
  {
   "cell_type": "code",
   "execution_count": 300,
   "metadata": {
    "execution": {
     "iopub.execute_input": "2022-01-01T02:07:13.874782Z",
     "iopub.status.busy": "2022-01-01T02:07:13.873315Z",
     "iopub.status.idle": "2022-01-01T02:07:13.883139Z",
     "shell.execute_reply": "2022-01-01T02:07:13.881727Z",
     "shell.execute_reply.started": "2022-01-01T02:07:13.873983Z"
    }
   },
   "outputs": [],
   "source": [
    "# create gridsearch object\n",
    "model = GridSearchCV(estimator=combined_pipeline,\n",
    "                     cv=folds,\n",
    "                     param_grid=params,\n",
    "                     scoring='roc_auc', \n",
    "                     n_jobs=-1, \n",
    "                     verbose=1)"
   ]
  },
  {
   "cell_type": "code",
   "execution_count": 301,
   "metadata": {
    "execution": {
     "iopub.execute_input": "2022-01-01T02:07:13.884977Z",
     "iopub.status.busy": "2022-01-01T02:07:13.884571Z",
     "iopub.status.idle": "2022-01-01T02:08:17.499588Z",
     "shell.execute_reply": "2022-01-01T02:08:17.498745Z",
     "shell.execute_reply.started": "2022-01-01T02:07:13.884940Z"
    }
   },
   "outputs": [
    {
     "name": "stdout",
     "output_type": "stream",
     "text": [
      "Fitting 5 folds for each of 36 candidates, totalling 180 fits\n"
     ]
    },
    {
     "data": {
      "text/plain": [
       "GridSearchCV(cv=StratifiedKFold(n_splits=5, random_state=42, shuffle=True),\n",
       "             estimator=Pipeline(steps=[('scaler', StandardScaler()),\n",
       "                                       ('pca', PCA()),\n",
       "                                       ('logistic',\n",
       "                                        LogisticRegression(class_weight={0: 0.08,\n",
       "                                                                         1: 0.92}))]),\n",
       "             n_jobs=-1,\n",
       "             param_grid={'logistic__C': [0.001, 0.01, 0.1, 1, 10, 100],\n",
       "                         'logistic__penalty': ['l1', 'l2', 'Elastic-Net'],\n",
       "                         'pca__n_components': [65, 75]},\n",
       "             scoring='roc_auc', verbose=1)"
      ]
     },
     "execution_count": 301,
     "metadata": {},
     "output_type": "execute_result"
    }
   ],
   "source": [
    "# fit model\n",
    "model.fit(X_train, y_train)"
   ]
  },
  {
   "cell_type": "code",
   "execution_count": 302,
   "metadata": {
    "execution": {
     "iopub.execute_input": "2022-01-01T02:08:17.507042Z",
     "iopub.status.busy": "2022-01-01T02:08:17.504379Z",
     "iopub.status.idle": "2022-01-01T02:08:17.516893Z",
     "shell.execute_reply": "2022-01-01T02:08:17.516107Z",
     "shell.execute_reply.started": "2022-01-01T02:08:17.506978Z"
    }
   },
   "outputs": [
    {
     "name": "stdout",
     "output_type": "stream",
     "text": [
      "Best AUC:  0.8972772392406506\n",
      "Best hyperparameters:  {'logistic__C': 100, 'logistic__penalty': 'l2', 'pca__n_components': 75}\n"
     ]
    }
   ],
   "source": [
    "# print best hyperparameters\n",
    "print(\"Best AUC: \", model.best_score_)\n",
    "print(\"Best hyperparameters: \", model.best_params_)"
   ]
  },
  {
   "cell_type": "code",
   "execution_count": 303,
   "metadata": {
    "execution": {
     "iopub.execute_input": "2022-01-01T02:08:17.523998Z",
     "iopub.status.busy": "2022-01-01T02:08:17.521689Z",
     "iopub.status.idle": "2022-01-01T02:08:17.602650Z",
     "shell.execute_reply": "2022-01-01T02:08:17.601885Z",
     "shell.execute_reply.started": "2022-01-01T02:08:17.523954Z"
    }
   },
   "outputs": [
    {
     "name": "stdout",
     "output_type": "stream",
     "text": [
      "[[6696 1560]\n",
      " [ 122  608]]\n",
      "AUC:    \t 0.89\n"
     ]
    }
   ],
   "source": [
    "##Evaluating on the test data\n",
    "\n",
    "# predict churn on test data\n",
    "y_pred = model.best_estimator_.predict(X_test)\n",
    "\n",
    "# create onfusion matrix\n",
    "confusion = confusion_matrix(y_test, y_pred)\n",
    "print(confusion)\n",
    "\n",
    "\n",
    "# check area under curve\n",
    "y_pred_prob = model.predict_proba(X_test)[:, 1]\n",
    "print(\"AUC:    \\t\", round(roc_auc_score(y_test, y_pred_prob),2))"
   ]
  },
  {
   "cell_type": "code",
   "execution_count": 304,
   "metadata": {
    "execution": {
     "iopub.execute_input": "2022-01-01T02:08:17.609164Z",
     "iopub.status.busy": "2022-01-01T02:08:17.607017Z",
     "iopub.status.idle": "2022-01-01T02:08:17.615943Z",
     "shell.execute_reply": "2022-01-01T02:08:17.614906Z",
     "shell.execute_reply.started": "2022-01-01T02:08:17.609101Z"
    }
   },
   "outputs": [],
   "source": [
    "##Calculating Accuracy and sensitivity\n",
    "\n",
    "TP = confusion[1,1] # true positive \n",
    "TN = confusion[0,0] # true negatives\n",
    "FP = confusion[0,1] # false positives\n",
    "FN = confusion[1,0] # false negatives"
   ]
  },
  {
   "cell_type": "code",
   "execution_count": 305,
   "metadata": {
    "execution": {
     "iopub.execute_input": "2022-01-01T02:08:17.617719Z",
     "iopub.status.busy": "2022-01-01T02:08:17.617391Z",
     "iopub.status.idle": "2022-01-01T02:08:17.631329Z",
     "shell.execute_reply": "2022-01-01T02:08:17.630612Z",
     "shell.execute_reply.started": "2022-01-01T02:08:17.617686Z"
    }
   },
   "outputs": [],
   "source": [
    "sensitivity=round(TP / float(TP+FN),2)\n",
    "specificity=round(TN / float(TN+FP),2)\n",
    "accuracy=round((TP+TN)/(TP+TN+FP+FN),2)\n",
    "roc_score=round(roc_auc_score(y_test, y_pred_prob),2)"
   ]
  },
  {
   "cell_type": "code",
   "execution_count": 306,
   "metadata": {
    "execution": {
     "iopub.execute_input": "2022-01-01T02:08:17.637438Z",
     "iopub.status.busy": "2022-01-01T02:08:17.635304Z",
     "iopub.status.idle": "2022-01-01T02:08:17.646950Z",
     "shell.execute_reply": "2022-01-01T02:08:17.646056Z",
     "shell.execute_reply.started": "2022-01-01T02:08:17.637396Z"
    }
   },
   "outputs": [
    {
     "name": "stdout",
     "output_type": "stream",
     "text": [
      "Sensitivity on test...... 0.83\n",
      "accuracy on test...... 0.81\n",
      "roc_score on test...... 0.89\n",
      "Specificity on test...., 0.81\n"
     ]
    }
   ],
   "source": [
    "print('Sensitivity on test......',sensitivity)\n",
    "print('accuracy on test......',accuracy)\n",
    "print('roc_score on test......',roc_score)\n",
    "print('Specificity on test....,',specificity)\n"
   ]
  },
  {
   "cell_type": "code",
   "execution_count": 307,
   "metadata": {
    "execution": {
     "iopub.execute_input": "2022-01-01T02:08:17.648661Z",
     "iopub.status.busy": "2022-01-01T02:08:17.648255Z",
     "iopub.status.idle": "2022-01-01T02:08:17.670577Z",
     "shell.execute_reply": "2022-01-01T02:08:17.669844Z",
     "shell.execute_reply.started": "2022-01-01T02:08:17.648614Z"
    }
   },
   "outputs": [
    {
     "data": {
      "text/html": [
       "<div>\n",
       "<style scoped>\n",
       "    .dataframe tbody tr th:only-of-type {\n",
       "        vertical-align: middle;\n",
       "    }\n",
       "\n",
       "    .dataframe tbody tr th {\n",
       "        vertical-align: top;\n",
       "    }\n",
       "\n",
       "    .dataframe thead th {\n",
       "        text-align: right;\n",
       "    }\n",
       "</style>\n",
       "<table border=\"1\" class=\"dataframe\">\n",
       "  <thead>\n",
       "    <tr style=\"text-align: right;\">\n",
       "      <th></th>\n",
       "      <th>Model</th>\n",
       "      <th>Accuaracy</th>\n",
       "      <th>Sensitivity</th>\n",
       "      <th>ROC_Score</th>\n",
       "      <th>Specificity</th>\n",
       "    </tr>\n",
       "  </thead>\n",
       "  <tbody>\n",
       "    <tr>\n",
       "      <th>0</th>\n",
       "      <td>PCA-Logistic(no hyper param and no class balance)</td>\n",
       "      <td>0.93</td>\n",
       "      <td>0.26</td>\n",
       "      <td>0.89</td>\n",
       "      <td>0.99</td>\n",
       "    </tr>\n",
       "    <tr>\n",
       "      <th>0</th>\n",
       "      <td>PCA-Logistic(with hyper param and adjusted class balance)</td>\n",
       "      <td>0.81</td>\n",
       "      <td>0.83</td>\n",
       "      <td>0.89</td>\n",
       "      <td>0.81</td>\n",
       "    </tr>\n",
       "  </tbody>\n",
       "</table>\n",
       "</div>"
      ],
      "text/plain": [
       "                                                       Model  Accuaracy  Sensitivity  ROC_Score  Specificity\n",
       "0  PCA-Logistic(no hyper param and no class balance)          0.93       0.26         0.89       0.99       \n",
       "0  PCA-Logistic(with hyper param and adjusted class balance)  0.81       0.83         0.89       0.81       "
      ]
     },
     "execution_count": 307,
     "metadata": {},
     "output_type": "execute_result"
    }
   ],
   "source": [
    "\n",
    "results_1 = pd.DataFrame({'Model':['PCA-Logistic(with hyper param and adjusted class balance)'], 'Accuaracy': [accuracy], 'Sensitivity': [sensitivity],\n",
    "                        'ROC_Score':[roc_score],'Specificity':[specificity]})\n",
    "results_1 = results_1[['Model', 'Accuaracy', 'Sensitivity','ROC_Score','Specificity']]\n",
    "results=pd.concat([results,results_1])\n",
    "results"
   ]
  },
  {
   "cell_type": "markdown",
   "metadata": {},
   "source": [
    "***Building the model using the Random Forest***\n",
    "\n",
    "This time we use Randomised CV as grid search CV takes much time for evaluation "
   ]
  },
  {
   "cell_type": "code",
   "execution_count": 308,
   "metadata": {
    "execution": {
     "iopub.execute_input": "2022-01-01T02:08:17.676885Z",
     "iopub.status.busy": "2022-01-01T02:08:17.674719Z",
     "iopub.status.idle": "2022-01-01T02:08:17.682791Z",
     "shell.execute_reply": "2022-01-01T02:08:17.681916Z",
     "shell.execute_reply.started": "2022-01-01T02:08:17.676843Z"
    }
   },
   "outputs": [],
   "source": [
    "from sklearn.model_selection import RandomizedSearchCV"
   ]
  },
  {
   "cell_type": "code",
   "execution_count": 309,
   "metadata": {
    "execution": {
     "iopub.execute_input": "2022-01-01T02:08:17.686498Z",
     "iopub.status.busy": "2022-01-01T02:08:17.685864Z",
     "iopub.status.idle": "2022-01-01T02:08:17.928964Z",
     "shell.execute_reply": "2022-01-01T02:08:17.928281Z",
     "shell.execute_reply.started": "2022-01-01T02:08:17.686457Z"
    }
   },
   "outputs": [],
   "source": [
    "from sklearn.ensemble import RandomForestClassifier"
   ]
  },
  {
   "cell_type": "code",
   "execution_count": 310,
   "metadata": {
    "execution": {
     "iopub.execute_input": "2022-01-01T02:08:17.930390Z",
     "iopub.status.busy": "2022-01-01T02:08:17.930136Z",
     "iopub.status.idle": "2022-01-01T02:08:17.939668Z",
     "shell.execute_reply": "2022-01-01T02:08:17.938858Z",
     "shell.execute_reply.started": "2022-01-01T02:08:17.930356Z"
    }
   },
   "outputs": [],
   "source": [
    "##Defining pipeline and including hyper paramter\n",
    "pca=PCA(n_components=75)\n",
    "# logistic regression - the class weight is used to handle class imbalance - it adjusts the cost function\n",
    "rf = RandomForestClassifier(random_state=42, n_jobs=-1,class_weight={0:0.08, 1: 0.92},oob_score=True)\n",
    "# create pipeline\n",
    "steps = [(\"scaler\", StandardScaler()), \n",
    "         (\"pca\", pca),\n",
    "         (\"RandomForest\", rf)\n",
    "        ]\n",
    "\n",
    "# compile pipeline\n",
    "combined_pipeline = Pipeline(steps)\n",
    "\n",
    "# hyperparameter space\n",
    "hyper_params = {'max_depth': range(3, 20),\n",
    "                'max_features': range(3, 17),\n",
    "                'min_samples_leaf': range(20, 400, 50),\n",
    "                'n_estimators': range(10, 101, 10)}\n",
    "\n",
    "folds = StratifiedKFold(n_splits = 4, shuffle = True, random_state = 42)"
   ]
  },
  {
   "cell_type": "code",
   "execution_count": 311,
   "metadata": {
    "execution": {
     "iopub.execute_input": "2022-01-01T02:08:17.941308Z",
     "iopub.status.busy": "2022-01-01T02:08:17.940878Z",
     "iopub.status.idle": "2022-01-01T02:08:17.953324Z",
     "shell.execute_reply": "2022-01-01T02:08:17.952545Z",
     "shell.execute_reply.started": "2022-01-01T02:08:17.941268Z"
    }
   },
   "outputs": [
    {
     "data": {
      "text/plain": [
       "Pipeline(steps=[('scaler', StandardScaler()), ('pca', PCA(n_components=75)),\n",
       "                ('RandomForest',\n",
       "                 RandomForestClassifier(class_weight={0: 0.08, 1: 0.92},\n",
       "                                        n_jobs=-1, oob_score=True,\n",
       "                                        random_state=42))])"
      ]
     },
     "execution_count": 311,
     "metadata": {},
     "output_type": "execute_result"
    }
   ],
   "source": [
    "combined_pipeline"
   ]
  },
  {
   "cell_type": "code",
   "execution_count": 312,
   "metadata": {
    "execution": {
     "iopub.execute_input": "2022-01-01T02:08:17.955183Z",
     "iopub.status.busy": "2022-01-01T02:08:17.954846Z",
     "iopub.status.idle": "2022-01-01T02:08:17.962039Z",
     "shell.execute_reply": "2022-01-01T02:08:17.961344Z",
     "shell.execute_reply.started": "2022-01-01T02:08:17.955139Z"
    }
   },
   "outputs": [],
   "source": [
    "model_rcv = RandomizedSearchCV(estimator=rf, \n",
    "                              param_distributions=hyper_params,\n",
    "                              verbose=1,\n",
    "                              cv=folds,\n",
    "                              return_train_score=True,\n",
    "                              n_jobs=-1,\n",
    "                              n_iter=50)"
   ]
  },
  {
   "cell_type": "code",
   "execution_count": 313,
   "metadata": {
    "execution": {
     "iopub.execute_input": "2022-01-01T02:08:17.963616Z",
     "iopub.status.busy": "2022-01-01T02:08:17.962971Z",
     "iopub.status.idle": "2022-01-01T02:14:08.591975Z",
     "shell.execute_reply": "2022-01-01T02:14:08.591276Z",
     "shell.execute_reply.started": "2022-01-01T02:08:17.963590Z"
    }
   },
   "outputs": [
    {
     "name": "stdout",
     "output_type": "stream",
     "text": [
      "Fitting 4 folds for each of 50 candidates, totalling 200 fits\n"
     ]
    },
    {
     "data": {
      "text/plain": [
       "RandomizedSearchCV(cv=StratifiedKFold(n_splits=4, random_state=42, shuffle=True),\n",
       "                   estimator=RandomForestClassifier(class_weight={0: 0.08,\n",
       "                                                                  1: 0.92},\n",
       "                                                    n_jobs=-1, oob_score=True,\n",
       "                                                    random_state=42),\n",
       "                   n_iter=50, n_jobs=-1,\n",
       "                   param_distributions={'max_depth': range(3, 20),\n",
       "                                        'max_features': range(3, 17),\n",
       "                                        'min_samples_leaf': range(20, 400, 50),\n",
       "                                        'n_estimators': range(10, 101, 10)},\n",
       "                   return_train_score=True, verbose=1)"
      ]
     },
     "execution_count": 313,
     "metadata": {},
     "output_type": "execute_result"
    }
   ],
   "source": [
    "model_rcv.fit(X_train, y_train)"
   ]
  },
  {
   "cell_type": "code",
   "execution_count": 314,
   "metadata": {
    "execution": {
     "iopub.execute_input": "2022-01-01T02:14:08.593509Z",
     "iopub.status.busy": "2022-01-01T02:14:08.593099Z",
     "iopub.status.idle": "2022-01-01T02:14:08.600251Z",
     "shell.execute_reply": "2022-01-01T02:14:08.599424Z",
     "shell.execute_reply.started": "2022-01-01T02:14:08.593469Z"
    }
   },
   "outputs": [
    {
     "name": "stdout",
     "output_type": "stream",
     "text": [
      "Best AUC:  0.9205417804952747\n",
      "Best hyperparameters:  {'n_estimators': 60, 'min_samples_leaf': 20, 'max_features': 9, 'max_depth': 15}\n"
     ]
    }
   ],
   "source": [
    "# print best hyperparameters\n",
    "print(\"Best AUC: \", model_rcv.best_score_)\n",
    "print(\"Best hyperparameters: \", model_rcv.best_params_)"
   ]
  },
  {
   "cell_type": "code",
   "execution_count": 315,
   "metadata": {
    "execution": {
     "iopub.execute_input": "2022-01-01T02:14:08.602311Z",
     "iopub.status.busy": "2022-01-01T02:14:08.601853Z",
     "iopub.status.idle": "2022-01-01T02:14:08.748601Z",
     "shell.execute_reply": "2022-01-01T02:14:08.745909Z",
     "shell.execute_reply.started": "2022-01-01T02:14:08.602276Z"
    }
   },
   "outputs": [
    {
     "name": "stdout",
     "output_type": "stream",
     "text": [
      "[[7779  477]\n",
      " [ 201  529]]\n",
      "AUC:    \t 0.93\n"
     ]
    }
   ],
   "source": [
    "##Evaluating on the test data\n",
    "\n",
    "# predict churn on test data\n",
    "y_pred = model_rcv.best_estimator_.predict(X_test)\n",
    "\n",
    "# create onfusion matrix\n",
    "confusion = confusion_matrix(y_test, y_pred)\n",
    "print(confusion)\n",
    "\n",
    "\n",
    "# check area under curve\n",
    "y_pred_prob = model_rcv.predict_proba(X_test)[:, 1]\n",
    "print(\"AUC:    \\t\", round(roc_auc_score(y_test, y_pred_prob),2))"
   ]
  },
  {
   "cell_type": "code",
   "execution_count": 316,
   "metadata": {
    "execution": {
     "iopub.execute_input": "2022-01-01T02:14:08.750159Z",
     "iopub.status.busy": "2022-01-01T02:14:08.749815Z",
     "iopub.status.idle": "2022-01-01T02:14:08.755539Z",
     "shell.execute_reply": "2022-01-01T02:14:08.754876Z",
     "shell.execute_reply.started": "2022-01-01T02:14:08.750122Z"
    }
   },
   "outputs": [],
   "source": [
    "##Calculating Accuracy and sensitivity\n",
    "\n",
    "TP = confusion[1,1] # true positive \n",
    "TN = confusion[0,0] # true negatives\n",
    "FP = confusion[0,1] # false positives\n",
    "FN = confusion[1,0] # false negatives"
   ]
  },
  {
   "cell_type": "code",
   "execution_count": 317,
   "metadata": {
    "execution": {
     "iopub.execute_input": "2022-01-01T02:14:08.756931Z",
     "iopub.status.busy": "2022-01-01T02:14:08.756533Z",
     "iopub.status.idle": "2022-01-01T02:14:08.769646Z",
     "shell.execute_reply": "2022-01-01T02:14:08.768766Z",
     "shell.execute_reply.started": "2022-01-01T02:14:08.756894Z"
    }
   },
   "outputs": [],
   "source": [
    "sensitivity=round(TP / float(TP+FN),2)\n",
    "specificity=round(TN / float(TN+FP),2)\n",
    "accuracy=round((TP+TN)/(TP+TN+FP+FN),2)\n",
    "roc_score=round(roc_auc_score(y_test, y_pred_prob),2)"
   ]
  },
  {
   "cell_type": "code",
   "execution_count": 318,
   "metadata": {
    "execution": {
     "iopub.execute_input": "2022-01-01T02:14:08.774190Z",
     "iopub.status.busy": "2022-01-01T02:14:08.773773Z",
     "iopub.status.idle": "2022-01-01T02:14:08.783988Z",
     "shell.execute_reply": "2022-01-01T02:14:08.783058Z",
     "shell.execute_reply.started": "2022-01-01T02:14:08.774151Z"
    }
   },
   "outputs": [
    {
     "name": "stdout",
     "output_type": "stream",
     "text": [
      "Sensitivity on test...... 0.72\n",
      "accuracy on test...... 0.92\n",
      "roc_score on test...... 0.93\n",
      "Specificity on test...... 0.94\n"
     ]
    }
   ],
   "source": [
    "print('Sensitivity on test......',sensitivity)\n",
    "print('accuracy on test......',accuracy)\n",
    "print('roc_score on test......',roc_score)\n",
    "print('Specificity on test......',specificity)\n"
   ]
  },
  {
   "cell_type": "code",
   "execution_count": 319,
   "metadata": {
    "execution": {
     "iopub.execute_input": "2022-01-01T02:14:08.788434Z",
     "iopub.status.busy": "2022-01-01T02:14:08.787792Z",
     "iopub.status.idle": "2022-01-01T02:14:08.793221Z",
     "shell.execute_reply": "2022-01-01T02:14:08.792409Z",
     "shell.execute_reply.started": "2022-01-01T02:14:08.788393Z"
    }
   },
   "outputs": [],
   "source": [
    "pd.set_option(\"display.max_colwidth\", -1)"
   ]
  },
  {
   "cell_type": "code",
   "execution_count": 320,
   "metadata": {
    "execution": {
     "iopub.execute_input": "2022-01-01T02:14:08.795973Z",
     "iopub.status.busy": "2022-01-01T02:14:08.795030Z",
     "iopub.status.idle": "2022-01-01T02:14:08.826028Z",
     "shell.execute_reply": "2022-01-01T02:14:08.825328Z",
     "shell.execute_reply.started": "2022-01-01T02:14:08.795929Z"
    }
   },
   "outputs": [
    {
     "data": {
      "text/html": [
       "<div>\n",
       "<style scoped>\n",
       "    .dataframe tbody tr th:only-of-type {\n",
       "        vertical-align: middle;\n",
       "    }\n",
       "\n",
       "    .dataframe tbody tr th {\n",
       "        vertical-align: top;\n",
       "    }\n",
       "\n",
       "    .dataframe thead th {\n",
       "        text-align: right;\n",
       "    }\n",
       "</style>\n",
       "<table border=\"1\" class=\"dataframe\">\n",
       "  <thead>\n",
       "    <tr style=\"text-align: right;\">\n",
       "      <th></th>\n",
       "      <th>Model</th>\n",
       "      <th>Accuaracy</th>\n",
       "      <th>Sensitivity</th>\n",
       "      <th>ROC_Score</th>\n",
       "      <th>Specificity</th>\n",
       "    </tr>\n",
       "  </thead>\n",
       "  <tbody>\n",
       "    <tr>\n",
       "      <th>0</th>\n",
       "      <td>PCA-Logistic(no hyper param and no class balance)</td>\n",
       "      <td>0.93</td>\n",
       "      <td>0.26</td>\n",
       "      <td>0.89</td>\n",
       "      <td>0.99</td>\n",
       "    </tr>\n",
       "    <tr>\n",
       "      <th>0</th>\n",
       "      <td>PCA-Logistic(with hyper param and adjusted class balance)</td>\n",
       "      <td>0.81</td>\n",
       "      <td>0.83</td>\n",
       "      <td>0.89</td>\n",
       "      <td>0.81</td>\n",
       "    </tr>\n",
       "    <tr>\n",
       "      <th>0</th>\n",
       "      <td>RandomForest(with hyperparameter and adjusted class balance)</td>\n",
       "      <td>0.92</td>\n",
       "      <td>0.72</td>\n",
       "      <td>0.93</td>\n",
       "      <td>0.94</td>\n",
       "    </tr>\n",
       "  </tbody>\n",
       "</table>\n",
       "</div>"
      ],
      "text/plain": [
       "                                                          Model  Accuaracy  Sensitivity  ROC_Score  Specificity\n",
       "0  PCA-Logistic(no hyper param and no class balance)             0.93       0.26         0.89       0.99       \n",
       "0  PCA-Logistic(with hyper param and adjusted class balance)     0.81       0.83         0.89       0.81       \n",
       "0  RandomForest(with hyperparameter and adjusted class balance)  0.92       0.72         0.93       0.94       "
      ]
     },
     "execution_count": 320,
     "metadata": {},
     "output_type": "execute_result"
    }
   ],
   "source": [
    "\n",
    "results_1 = pd.DataFrame({'Model':['RandomForest(with hyperparameter and adjusted class balance)'], 'Accuaracy': [accuracy], 'Sensitivity': [sensitivity],\n",
    "                        'ROC_Score':[roc_score],'Specificity':[specificity]})\n",
    "results_1 = results_1[['Model', 'Accuaracy', 'Sensitivity','ROC_Score','Specificity']]\n",
    "results=pd.concat([results,results_1])\n",
    "results"
   ]
  },
  {
   "cell_type": "markdown",
   "metadata": {},
   "source": [
    "***Let us use the Bagging methods***\n",
    "\n",
    "1. AdaBoost\n",
    "2. XgBoost"
   ]
  },
  {
   "cell_type": "markdown",
   "metadata": {},
   "source": [
    "**AdaBoost Model**"
   ]
  },
  {
   "cell_type": "code",
   "execution_count": 321,
   "metadata": {},
   "outputs": [],
   "source": [
    "cols=X_train.columns.tolist()"
   ]
  },
  {
   "cell_type": "code",
   "execution_count": 322,
   "metadata": {
    "execution": {
     "iopub.execute_input": "2022-01-01T02:14:08.832034Z",
     "iopub.status.busy": "2022-01-01T02:14:08.829898Z",
     "iopub.status.idle": "2022-01-01T02:14:08.893652Z",
     "shell.execute_reply": "2022-01-01T02:14:08.892898Z",
     "shell.execute_reply.started": "2022-01-01T02:14:08.831975Z"
    }
   },
   "outputs": [],
   "source": [
    "#Scaling the train and test dataset\n",
    "scaler = StandardScaler()\n",
    "X_train[cols]=scaler.fit_transform(X_train[cols])\n",
    "X_test[cols]=scaler.transform(X_test[cols])"
   ]
  },
  {
   "cell_type": "code",
   "execution_count": 323,
   "metadata": {
    "execution": {
     "iopub.execute_input": "2022-01-01T02:14:08.895986Z",
     "iopub.status.busy": "2022-01-01T02:14:08.895727Z",
     "iopub.status.idle": "2022-01-01T02:14:08.902320Z",
     "shell.execute_reply": "2022-01-01T02:14:08.901464Z",
     "shell.execute_reply.started": "2022-01-01T02:14:08.895950Z"
    }
   },
   "outputs": [],
   "source": [
    "from sklearn.ensemble import AdaBoostClassifier\n",
    "from sklearn.ensemble import GradientBoostingClassifier\n",
    "from sklearn.tree import DecisionTreeClassifier\n",
    "from sklearn import metrics"
   ]
  },
  {
   "cell_type": "code",
   "execution_count": 324,
   "metadata": {
    "execution": {
     "iopub.execute_input": "2022-01-01T02:14:08.904725Z",
     "iopub.status.busy": "2022-01-01T02:14:08.903797Z",
     "iopub.status.idle": "2022-01-01T02:14:08.909277Z",
     "shell.execute_reply": "2022-01-01T02:14:08.908444Z",
     "shell.execute_reply.started": "2022-01-01T02:14:08.904684Z"
    }
   },
   "outputs": [],
   "source": [
    "##First let us create a PCA model on training data with 0.95 variability \n",
    "\n",
    "pca = PCA(n_components=75)"
   ]
  },
  {
   "cell_type": "code",
   "execution_count": 325,
   "metadata": {
    "execution": {
     "iopub.execute_input": "2022-01-01T02:14:08.911345Z",
     "iopub.status.busy": "2022-01-01T02:14:08.910607Z",
     "iopub.status.idle": "2022-01-01T02:14:09.351357Z",
     "shell.execute_reply": "2022-01-01T02:14:09.350416Z",
     "shell.execute_reply.started": "2022-01-01T02:14:08.911285Z"
    }
   },
   "outputs": [],
   "source": [
    "##Transforming the Train data through the PCA\n",
    "\n",
    "X_train_pca = pca.fit_transform(X_train)"
   ]
  },
  {
   "cell_type": "code",
   "execution_count": 326,
   "metadata": {
    "execution": {
     "iopub.execute_input": "2022-01-01T02:14:09.353342Z",
     "iopub.status.busy": "2022-01-01T02:14:09.352854Z",
     "iopub.status.idle": "2022-01-01T02:14:09.362224Z",
     "shell.execute_reply": "2022-01-01T02:14:09.361236Z",
     "shell.execute_reply.started": "2022-01-01T02:14:09.353304Z"
    }
   },
   "outputs": [
    {
     "data": {
      "text/plain": [
       "array([[ 1.55870962e+00,  2.39923025e+00, -2.23020155e+00, ...,\n",
       "         1.10463973e-01, -1.24439491e-01, -9.48033013e-02],\n",
       "       [-2.36501524e+00, -1.79766093e+00, -7.77799198e-01, ...,\n",
       "         1.98551729e-03,  7.95162712e-02, -3.45418070e-02],\n",
       "       [-5.84673324e+00, -1.04118235e+00, -1.18676550e+00, ...,\n",
       "        -1.09228067e-02, -1.59275536e-02,  2.41760865e-03],\n",
       "       ...,\n",
       "       [-1.73765487e+00, -2.74124831e+00, -1.97269439e+00, ...,\n",
       "        -1.59211825e-01,  1.79444062e-01, -1.45030544e-02],\n",
       "       [-1.75129997e+00, -3.11089211e+00, -1.02260872e+00, ...,\n",
       "        -1.19229496e-01,  3.22366268e-04, -1.16052865e-01],\n",
       "       [ 4.00063109e+00,  5.36734114e-01, -4.76421532e+00, ...,\n",
       "        -1.74612547e-01, -2.85609487e-01,  1.23732645e-01]])"
      ]
     },
     "execution_count": 326,
     "metadata": {},
     "output_type": "execute_result"
    }
   ],
   "source": [
    "X_train_pca"
   ]
  },
  {
   "cell_type": "markdown",
   "metadata": {},
   "source": [
    "Creating a shallow model of Decision Tree"
   ]
  },
  {
   "cell_type": "code",
   "execution_count": 327,
   "metadata": {
    "execution": {
     "iopub.execute_input": "2022-01-01T02:14:09.366182Z",
     "iopub.status.busy": "2022-01-01T02:14:09.364492Z",
     "iopub.status.idle": "2022-01-01T02:14:09.372765Z",
     "shell.execute_reply": "2022-01-01T02:14:09.372037Z",
     "shell.execute_reply.started": "2022-01-01T02:14:09.366133Z"
    }
   },
   "outputs": [],
   "source": [
    "shallow_tree = DecisionTreeClassifier(max_depth=4, random_state =42,class_weight={0:0.08, 1: 0.92})"
   ]
  },
  {
   "cell_type": "code",
   "execution_count": 328,
   "metadata": {
    "execution": {
     "iopub.execute_input": "2022-01-01T02:14:09.375030Z",
     "iopub.status.busy": "2022-01-01T02:14:09.374416Z",
     "iopub.status.idle": "2022-01-01T02:14:10.178477Z",
     "shell.execute_reply": "2022-01-01T02:14:10.177760Z",
     "shell.execute_reply.started": "2022-01-01T02:14:09.374965Z"
    }
   },
   "outputs": [
    {
     "data": {
      "text/plain": [
       "0.7412641887380369"
      ]
     },
     "execution_count": 328,
     "metadata": {},
     "output_type": "execute_result"
    }
   ],
   "source": [
    "# fit the shallow decision tree \n",
    "shallow_tree.fit(X_train_pca, y_train)\n",
    "##Transforming the test data set through the PCA\n",
    "X_test_pca = pca.transform(X_test)\n",
    "# test error\n",
    "y_pred = shallow_tree.predict(X_test_pca)\n",
    "score = metrics.accuracy_score(y_test, y_pred)\n",
    "score"
   ]
  },
  {
   "cell_type": "code",
   "execution_count": 329,
   "metadata": {
    "execution": {
     "iopub.execute_input": "2022-01-01T02:14:10.180417Z",
     "iopub.status.busy": "2022-01-01T02:14:10.179956Z",
     "iopub.status.idle": "2022-01-01T02:14:10.184795Z",
     "shell.execute_reply": "2022-01-01T02:14:10.184045Z",
     "shell.execute_reply.started": "2022-01-01T02:14:10.180379Z"
    }
   },
   "outputs": [],
   "source": [
    "#estimators = list(range(1, 60, 3))\n",
    "#sensitivity={}\n",
    "#accuracy = {}\n",
    "#for n_est in estimators:\n",
    "    #ABC = AdaBoostClassifier(base_estimator=shallow_tree, n_estimators = n_est, random_state=42)\n",
    "    #ABC.fit(X_train_pca, y_train)\n",
    "    #y_pred = ABC.predict(X_test_pca)\n",
    "    #confusion_matrix(y_test, y_pred)\n",
    "    #TP = confusion[1,1] # true positive \n",
    "    #TN = confusion[0,0] # true negatives\n",
    "    #FP = confusion[0,1] # false positives\n",
    "    #FN = confusion[1,0] # false negatives\n",
    "    #accuracy_score = (metrics.accuracy_score(y_test, y_pred).tolist())\n",
    "    #accuracy[n_est]=accuracy_score\n",
    "    #sensitivity_score=round(TP / float(TP+FN),2)\n",
    "    #sensitivity[n_est]=sensitivity_score\n",
    "    #lar_acc=sorted(accuracy.items(),key=lambda x:x[1],reverse=True)\n",
    "    #lar_sens=sorted(sensitivity.items(),key=lambda x:x[1],reverse=True)\n",
    "    #print('The best estimator for accuracy......',lar_acc[0][1],'and the estimator is',lar_acc[0][0])\n",
    "    #print('The best estimator for sensitivity......',lar_sens[0][1],'and the estimator is',lar_sens[0][0])"
   ]
  },
  {
   "cell_type": "markdown",
   "metadata": {},
   "source": [
    "***After the run we found that the best accuracy and sensitive score hovered around n_estimator=58***\n",
    "\n",
    "We are going to comment the above code as it took so long time to execute ( nearly 15 mts )"
   ]
  },
  {
   "cell_type": "code",
   "execution_count": 330,
   "metadata": {
    "execution": {
     "iopub.execute_input": "2022-01-01T02:14:10.186721Z",
     "iopub.status.busy": "2022-01-01T02:14:10.186229Z",
     "iopub.status.idle": "2022-01-01T02:14:56.723689Z",
     "shell.execute_reply": "2022-01-01T02:14:56.723037Z",
     "shell.execute_reply.started": "2022-01-01T02:14:10.186684Z"
    }
   },
   "outputs": [
    {
     "name": "stdout",
     "output_type": "stream",
     "text": [
      "accuracy_score on test set..... 0.8969508123748052\n",
      "sensitivity_score on test set...... 0.72\n",
      "Specificity score on test set..... 0.94\n"
     ]
    }
   ],
   "source": [
    "##Building tha ADABOOST on Test\n",
    "ABC = AdaBoostClassifier(base_estimator=shallow_tree, n_estimators = 65, random_state=42)\n",
    "ABC.fit(X_train_pca, y_train)\n",
    "y_pred = ABC.predict(X_test_pca)\n",
    "confusion_matrix(y_test, y_pred)\n",
    "TP = confusion[1,1] # true positive \n",
    "TN = confusion[0,0] # true negatives\n",
    "FP = confusion[0,1] # false positives\n",
    "FN = confusion[1,0] # false negatives\n",
    "accuracy_score = (metrics.accuracy_score(y_test, y_pred).tolist())\n",
    "sensitivity_score=round(TP / float(TP+FN),2)\n",
    "specificity=round(TN / float(TN+FP),2)\n",
    "print('accuracy_score on test set.....',accuracy_score)\n",
    "print('sensitivity_score on test set......',sensitivity_score)\n",
    "print('Specificity score on test set.....',specificity)\n"
   ]
  },
  {
   "cell_type": "code",
   "execution_count": 331,
   "metadata": {
    "execution": {
     "iopub.execute_input": "2022-01-01T02:14:56.729368Z",
     "iopub.status.busy": "2022-01-01T02:14:56.727506Z",
     "iopub.status.idle": "2022-01-01T02:14:56.738894Z",
     "shell.execute_reply": "2022-01-01T02:14:56.738051Z",
     "shell.execute_reply.started": "2022-01-01T02:14:56.729329Z"
    }
   },
   "outputs": [],
   "source": [
    "y_pred_prob = ABC.predict_proba(X_test_pca)[:, 1]\n",
    "roc_score=round(roc_auc_score(y_test, y_pred_prob),2)"
   ]
  },
  {
   "cell_type": "code",
   "execution_count": 332,
   "metadata": {
    "execution": {
     "iopub.execute_input": "2022-01-01T02:14:56.745119Z",
     "iopub.status.busy": "2022-01-01T02:14:56.743195Z",
     "iopub.status.idle": "2022-01-01T02:14:56.766548Z",
     "shell.execute_reply": "2022-01-01T02:14:56.765904Z",
     "shell.execute_reply.started": "2022-01-01T02:14:56.745085Z"
    }
   },
   "outputs": [
    {
     "data": {
      "text/html": [
       "<div>\n",
       "<style scoped>\n",
       "    .dataframe tbody tr th:only-of-type {\n",
       "        vertical-align: middle;\n",
       "    }\n",
       "\n",
       "    .dataframe tbody tr th {\n",
       "        vertical-align: top;\n",
       "    }\n",
       "\n",
       "    .dataframe thead th {\n",
       "        text-align: right;\n",
       "    }\n",
       "</style>\n",
       "<table border=\"1\" class=\"dataframe\">\n",
       "  <thead>\n",
       "    <tr style=\"text-align: right;\">\n",
       "      <th></th>\n",
       "      <th>Model</th>\n",
       "      <th>Accuaracy</th>\n",
       "      <th>Sensitivity</th>\n",
       "      <th>ROC_Score</th>\n",
       "      <th>Specificity</th>\n",
       "    </tr>\n",
       "  </thead>\n",
       "  <tbody>\n",
       "    <tr>\n",
       "      <th>0</th>\n",
       "      <td>PCA-Logistic(no hyper param and no class balance)</td>\n",
       "      <td>0.930000</td>\n",
       "      <td>0.26</td>\n",
       "      <td>0.89</td>\n",
       "      <td>0.99</td>\n",
       "    </tr>\n",
       "    <tr>\n",
       "      <th>0</th>\n",
       "      <td>PCA-Logistic(with hyper param and adjusted class balance)</td>\n",
       "      <td>0.810000</td>\n",
       "      <td>0.83</td>\n",
       "      <td>0.89</td>\n",
       "      <td>0.81</td>\n",
       "    </tr>\n",
       "    <tr>\n",
       "      <th>0</th>\n",
       "      <td>RandomForest(with hyperparameter and adjusted class balance)</td>\n",
       "      <td>0.920000</td>\n",
       "      <td>0.72</td>\n",
       "      <td>0.93</td>\n",
       "      <td>0.94</td>\n",
       "    </tr>\n",
       "    <tr>\n",
       "      <th>0</th>\n",
       "      <td>AdaBoost(with hyperparameter and adjusted class balance)</td>\n",
       "      <td>0.896951</td>\n",
       "      <td>0.72</td>\n",
       "      <td>0.80</td>\n",
       "      <td>0.94</td>\n",
       "    </tr>\n",
       "  </tbody>\n",
       "</table>\n",
       "</div>"
      ],
      "text/plain": [
       "                                                          Model  Accuaracy  Sensitivity  ROC_Score  Specificity\n",
       "0  PCA-Logistic(no hyper param and no class balance)             0.930000   0.26         0.89       0.99       \n",
       "0  PCA-Logistic(with hyper param and adjusted class balance)     0.810000   0.83         0.89       0.81       \n",
       "0  RandomForest(with hyperparameter and adjusted class balance)  0.920000   0.72         0.93       0.94       \n",
       "0  AdaBoost(with hyperparameter and adjusted class balance)      0.896951   0.72         0.80       0.94       "
      ]
     },
     "execution_count": 332,
     "metadata": {},
     "output_type": "execute_result"
    }
   ],
   "source": [
    "\n",
    "results_1 = pd.DataFrame({'Model':['AdaBoost(with hyperparameter and adjusted class balance)'], 'Accuaracy': [accuracy_score], 'Sensitivity': [sensitivity_score],\n",
    "                        'ROC_Score':[roc_score],'Specificity':[specificity]})\n",
    "results_1 = results_1[['Model', 'Accuaracy', 'Sensitivity','ROC_Score','Specificity']]\n",
    "results=pd.concat([results,results_1])\n",
    "results"
   ]
  },
  {
   "cell_type": "markdown",
   "metadata": {},
   "source": [
    "**XG BOOST Model**"
   ]
  },
  {
   "cell_type": "code",
   "execution_count": 333,
   "metadata": {
    "execution": {
     "iopub.execute_input": "2022-01-01T02:14:56.772389Z",
     "iopub.status.busy": "2022-01-01T02:14:56.770326Z",
     "iopub.status.idle": "2022-01-01T02:14:56.777802Z",
     "shell.execute_reply": "2022-01-01T02:14:56.777047Z",
     "shell.execute_reply.started": "2022-01-01T02:14:56.772352Z"
    }
   },
   "outputs": [],
   "source": [
    "import xgboost as xgb\n",
    "from sklearn import metrics\n",
    "from sklearn import model_selection\n",
    "from sklearn.utils.class_weight import compute_sample_weight"
   ]
  },
  {
   "cell_type": "code",
   "execution_count": 334,
   "metadata": {
    "execution": {
     "iopub.execute_input": "2022-01-01T02:14:56.782767Z",
     "iopub.status.busy": "2022-01-01T02:14:56.782555Z",
     "iopub.status.idle": "2022-01-01T02:14:56.787941Z",
     "shell.execute_reply": "2022-01-01T02:14:56.787210Z",
     "shell.execute_reply.started": "2022-01-01T02:14:56.782740Z"
    }
   },
   "outputs": [],
   "source": [
    "##xgb_model = xgb.XGBClassifier(tree_method = 'gpu_hist')\n",
    "xgb_model = xgb.XGBClassifier(sample_weight=compute_sample_weight(\"balanced\",y))"
   ]
  },
  {
   "cell_type": "code",
   "execution_count": 335,
   "metadata": {
    "execution": {
     "iopub.execute_input": "2022-01-01T02:14:56.789810Z",
     "iopub.status.busy": "2022-01-01T02:14:56.789326Z",
     "iopub.status.idle": "2022-01-01T02:14:56.804103Z",
     "shell.execute_reply": "2022-01-01T02:14:56.803243Z",
     "shell.execute_reply.started": "2022-01-01T02:14:56.789774Z"
    }
   },
   "outputs": [],
   "source": [
    "#parameters = {'learning_rate': [0.1, 0.2, 0.3, 0.4, 0.5],\n",
    "              #'max_depth': [2, 4, 6, 8, 10],\n",
    "              #'min_child_weight': [3, 7, 11, 19, 25],\n",
    "              #'n_estimators': [50, 100, 150, 200, 300, 500]}\n",
    "\n",
    "#scorer = metrics.make_scorer(metrics.roc_auc_score,\n",
    "                             #greater_is_better=True,\n",
    "                            # needs_proba=True,\n",
    "                             #needs_threshold=False)\n"
   ]
  },
  {
   "cell_type": "code",
   "execution_count": 336,
   "metadata": {
    "execution": {
     "iopub.execute_input": "2022-01-01T02:14:56.806035Z",
     "iopub.status.busy": "2022-01-01T02:14:56.805515Z",
     "iopub.status.idle": "2022-01-01T02:58:28.903042Z",
     "shell.execute_reply": "2022-01-01T02:58:28.902334Z",
     "shell.execute_reply.started": "2022-01-01T02:14:56.805974Z"
    }
   },
   "outputs": [],
   "source": [
    "#clf_xgb = model_selection.GridSearchCV(estimator=xgb_model,\n",
    "                                      # param_grid=parameters,\n",
    "                                       #n_jobs=-1,\n",
    "                                       #cv=4,\n",
    "                                      # scoring=scorer,\n",
    "                                      # refit=True)\n",
    "\n",
    "#clf_xgb.fit(X_train_pca, y_train)\n"
   ]
  },
  {
   "cell_type": "code",
   "execution_count": 337,
   "metadata": {
    "execution": {
     "iopub.execute_input": "2022-01-01T02:58:49.423423Z",
     "iopub.status.busy": "2022-01-01T02:58:49.423142Z",
     "iopub.status.idle": "2022-01-01T02:58:49.434188Z",
     "shell.execute_reply": "2022-01-01T02:58:49.433295Z",
     "shell.execute_reply.started": "2022-01-01T02:58:49.423393Z"
    }
   },
   "outputs": [],
   "source": [
    "#print(clf_xgb.best_params_)\n",
    "#print(clf_xgb.best_score_)\n",
    "#print(clf_xgb.best_estimator_)"
   ]
  },
  {
   "cell_type": "markdown",
   "metadata": {},
   "source": [
    "We ran the XGboost model on the GPU and the entire job took nearly an hour to complete the exhaustive GridSearch CV search.\n",
    "So we commented all the above codes and we observed the below parameters are the best for our model.\n",
    "\n",
    "**XG BOOST BEST PARAM**\n",
    "\n",
    "{'learning_rate': 0.1, 'max_depth': 6, 'min_child_weight': 25, 'n_estimators': 100}\n",
    "\n",
    "0.9029236731951216\n",
    "\n",
    "XGBClassifier(base_score=0.5, booster='gbtree', colsample_bylevel=1,\n",
    "              colsample_bynode=1, colsample_bytree=1, enable_categorical=False,\n",
    "              gamma=0, gpu_id=0, importance_type=None,\n",
    "              interaction_constraints='', learning_rate=0.1, max_delta_step=0,\n",
    "              max_depth=6, min_child_weight=25, missing=nan,\n",
    "              monotone_constraints='()', n_estimators=100, n_jobs=2,\n",
    "              num_parallel_tree=1, predictor='auto', random_state=0,\n",
    "              reg_alpha=0, reg_lambda=1, scale_pos_weight=1, subsample=1,\n",
    "              tree_method='gpu_hist', validate_parameters=1, verbosity=None)"
   ]
  },
  {
   "cell_type": "code",
   "execution_count": 338,
   "metadata": {
    "execution": {
     "iopub.execute_input": "2022-01-01T03:00:13.519685Z",
     "iopub.status.busy": "2022-01-01T03:00:13.518955Z",
     "iopub.status.idle": "2022-01-01T03:00:13.525127Z",
     "shell.execute_reply": "2022-01-01T03:00:13.524073Z",
     "shell.execute_reply.started": "2022-01-01T03:00:13.519647Z"
    }
   },
   "outputs": [],
   "source": [
    "final_model = xgb.XGBClassifier(learning_rate=0.1,\n",
    "                                max_depth=6,\n",
    "                                min_child_weight=25,\n",
    "                                n_estimators=100)\n"
   ]
  },
  {
   "cell_type": "code",
   "execution_count": 339,
   "metadata": {
    "execution": {
     "iopub.execute_input": "2022-01-01T03:00:55.386918Z",
     "iopub.status.busy": "2022-01-01T03:00:55.386662Z",
     "iopub.status.idle": "2022-01-01T03:01:18.259450Z",
     "shell.execute_reply": "2022-01-01T03:01:18.258638Z",
     "shell.execute_reply.started": "2022-01-01T03:00:55.386890Z"
    }
   },
   "outputs": [
    {
     "name": "stdout",
     "output_type": "stream",
     "text": [
      "[15:15:27] WARNING: C:/Users/Administrator/workspace/xgboost-win64_release_1.5.1/src/learner.cc:1115: Starting in XGBoost 1.3.0, the default evaluation metric used with the objective 'binary:logistic' was changed from 'error' to 'logloss'. Explicitly set eval_metric if you'd like to restore the old behavior.\n"
     ]
    },
    {
     "data": {
      "text/plain": [
       "XGBClassifier(base_score=0.5, booster='gbtree', colsample_bylevel=1,\n",
       "              colsample_bynode=1, colsample_bytree=1, enable_categorical=False,\n",
       "              gamma=0, gpu_id=-1, importance_type=None,\n",
       "              interaction_constraints='', learning_rate=0.1, max_delta_step=0,\n",
       "              max_depth=6, min_child_weight=25, missing=nan,\n",
       "              monotone_constraints='()', n_estimators=100, n_jobs=8,\n",
       "              num_parallel_tree=1, predictor='auto', random_state=0,\n",
       "              reg_alpha=0, reg_lambda=1, scale_pos_weight=1, subsample=1,\n",
       "              tree_method='exact', validate_parameters=1, verbosity=None)"
      ]
     },
     "execution_count": 339,
     "metadata": {},
     "output_type": "execute_result"
    }
   ],
   "source": [
    "final_model.fit(X_train_pca, y_train)"
   ]
  },
  {
   "cell_type": "code",
   "execution_count": 340,
   "metadata": {
    "execution": {
     "iopub.execute_input": "2022-01-01T03:04:34.134788Z",
     "iopub.status.busy": "2022-01-01T03:04:34.134501Z",
     "iopub.status.idle": "2022-01-01T03:04:34.172302Z",
     "shell.execute_reply": "2022-01-01T03:04:34.171754Z",
     "shell.execute_reply.started": "2022-01-01T03:04:34.134757Z"
    }
   },
   "outputs": [],
   "source": [
    "y_pred = final_model.predict(X_test_pca)"
   ]
  },
  {
   "cell_type": "code",
   "execution_count": 341,
   "metadata": {
    "execution": {
     "iopub.execute_input": "2022-01-01T03:04:58.819017Z",
     "iopub.status.busy": "2022-01-01T03:04:58.818726Z",
     "iopub.status.idle": "2022-01-01T03:04:58.841449Z",
     "shell.execute_reply": "2022-01-01T03:04:58.840694Z",
     "shell.execute_reply.started": "2022-01-01T03:04:58.818972Z"
    }
   },
   "outputs": [
    {
     "name": "stdout",
     "output_type": "stream",
     "text": [
      "accuracy_score on test set..... 0.9326730469619408\n",
      "sensitivity_score on test set...... 0.72\n",
      "Specificity score on test set..... 0.94\n"
     ]
    }
   ],
   "source": [
    "confusion_matrix(y_test, y_pred)\n",
    "TP = confusion[1,1] # true positive \n",
    "TN = confusion[0,0] # true negatives\n",
    "FP = confusion[0,1] # false positives\n",
    "FN = confusion[1,0] # false negatives\n",
    "accuracy_score = (metrics.accuracy_score(y_test, y_pred).tolist())\n",
    "sensitivity_score=round(TP / float(TP+FN),2)\n",
    "specificity=round(TN / float(TN+FP),2)\n",
    "print('accuracy_score on test set.....',accuracy_score)\n",
    "print('sensitivity_score on test set......',sensitivity_score)\n",
    "print('Specificity score on test set.....',specificity)"
   ]
  },
  {
   "cell_type": "code",
   "execution_count": 342,
   "metadata": {},
   "outputs": [],
   "source": [
    "y_pred_prob = final_model.predict_proba(X_test_pca)[:, 1]\n",
    "roc_score=round(roc_auc_score(y_test, y_pred_prob),2)"
   ]
  },
  {
   "cell_type": "code",
   "execution_count": 343,
   "metadata": {},
   "outputs": [
    {
     "data": {
      "text/html": [
       "<div>\n",
       "<style scoped>\n",
       "    .dataframe tbody tr th:only-of-type {\n",
       "        vertical-align: middle;\n",
       "    }\n",
       "\n",
       "    .dataframe tbody tr th {\n",
       "        vertical-align: top;\n",
       "    }\n",
       "\n",
       "    .dataframe thead th {\n",
       "        text-align: right;\n",
       "    }\n",
       "</style>\n",
       "<table border=\"1\" class=\"dataframe\">\n",
       "  <thead>\n",
       "    <tr style=\"text-align: right;\">\n",
       "      <th></th>\n",
       "      <th>Model</th>\n",
       "      <th>Accuaracy</th>\n",
       "      <th>Sensitivity</th>\n",
       "      <th>ROC_Score</th>\n",
       "      <th>Specificity</th>\n",
       "    </tr>\n",
       "  </thead>\n",
       "  <tbody>\n",
       "    <tr>\n",
       "      <th>0</th>\n",
       "      <td>PCA-Logistic(no hyper param and no class balance)</td>\n",
       "      <td>0.930000</td>\n",
       "      <td>0.26</td>\n",
       "      <td>0.89</td>\n",
       "      <td>0.99</td>\n",
       "    </tr>\n",
       "    <tr>\n",
       "      <th>0</th>\n",
       "      <td>PCA-Logistic(with hyper param and adjusted class balance)</td>\n",
       "      <td>0.810000</td>\n",
       "      <td>0.83</td>\n",
       "      <td>0.89</td>\n",
       "      <td>0.81</td>\n",
       "    </tr>\n",
       "    <tr>\n",
       "      <th>0</th>\n",
       "      <td>RandomForest(with hyperparameter and adjusted class balance)</td>\n",
       "      <td>0.920000</td>\n",
       "      <td>0.72</td>\n",
       "      <td>0.93</td>\n",
       "      <td>0.94</td>\n",
       "    </tr>\n",
       "    <tr>\n",
       "      <th>0</th>\n",
       "      <td>AdaBoost(with hyperparameter and adjusted class balance)</td>\n",
       "      <td>0.896951</td>\n",
       "      <td>0.72</td>\n",
       "      <td>0.80</td>\n",
       "      <td>0.94</td>\n",
       "    </tr>\n",
       "    <tr>\n",
       "      <th>0</th>\n",
       "      <td>XGBOOST(with hyperparameter and class balance)</td>\n",
       "      <td>0.932673</td>\n",
       "      <td>0.72</td>\n",
       "      <td>0.90</td>\n",
       "      <td>0.94</td>\n",
       "    </tr>\n",
       "  </tbody>\n",
       "</table>\n",
       "</div>"
      ],
      "text/plain": [
       "                                                          Model  Accuaracy  Sensitivity  ROC_Score  Specificity\n",
       "0  PCA-Logistic(no hyper param and no class balance)             0.930000   0.26         0.89       0.99       \n",
       "0  PCA-Logistic(with hyper param and adjusted class balance)     0.810000   0.83         0.89       0.81       \n",
       "0  RandomForest(with hyperparameter and adjusted class balance)  0.920000   0.72         0.93       0.94       \n",
       "0  AdaBoost(with hyperparameter and adjusted class balance)      0.896951   0.72         0.80       0.94       \n",
       "0  XGBOOST(with hyperparameter and class balance)                0.932673   0.72         0.90       0.94       "
      ]
     },
     "execution_count": 343,
     "metadata": {},
     "output_type": "execute_result"
    }
   ],
   "source": [
    "\n",
    "results_1 = pd.DataFrame({'Model':['XGBOOST(with hyperparameter and class balance)'], 'Accuaracy': [accuracy_score], 'Sensitivity': [sensitivity_score],\n",
    "                        'ROC_Score':[roc_score],'Specificity':[specificity]})\n",
    "results_1 = results_1[['Model', 'Accuaracy', 'Sensitivity','ROC_Score','Specificity']]\n",
    "results=pd.concat([results,results_1])\n",
    "results"
   ]
  },
  {
   "cell_type": "markdown",
   "metadata": {},
   "source": [
    "Inferences:\n",
    "    \n",
    "   1. We found that the baseline model logistic model with no hyperparameter and class weights tend to have higher accuracy and ROC.However, the crucial metric Sensitivity is far less and thus making this model highly unreliable.\n",
    "    \n",
    "        \n",
    "   2. We improvise the same logistic regression model by tuning hyper-parameters and appropriately chose the class weights and the result is more promising than the baseline model. However, there is a slight drop in the accuracy, the sensitivity is the highest.\n",
    "   \n",
    "    \n",
    "   3. The Bagging(Random Forest), though has the better Accuracy and Specificity, the ROC and Sensitivity tend to be less than the logistic model used in (2.).\n",
    "   \n",
    "        \n",
    "   4. Boosting Algorithm--Ada Boost, in general shows below par performance compared to the Random Forest model.\n",
    "   \n",
    "    \n",
    "   5. XgBoost Algorithm has the highest ever accuracy but it falls behind the Sensitivity scores. According to other models, XGBoost has comparatively better ROC and Accuracy but as for the crucial metric is concerned it still falls behind the logistic regression\n",
    "   \n",
    "   \n",
    " \n",
    "       "
   ]
  },
  {
   "cell_type": "markdown",
   "metadata": {},
   "source": [
    "**Part--3 Model Interpretability**"
   ]
  },
  {
   "cell_type": "markdown",
   "metadata": {},
   "source": [
    "Now we need to buid a better explainable model which imparts important features to the business for the decision making"
   ]
  },
  {
   "cell_type": "code",
   "execution_count": 344,
   "metadata": {},
   "outputs": [],
   "source": [
    "X_train, X_test, y_train, y_test = train_test_split(X, y, test_size = 0.3, random_state = 42, stratify = y)"
   ]
  },
  {
   "cell_type": "code",
   "execution_count": 345,
   "metadata": {},
   "outputs": [],
   "source": [
    "cols=X_train.columns.tolist()"
   ]
  },
  {
   "cell_type": "code",
   "execution_count": 346,
   "metadata": {},
   "outputs": [],
   "source": [
    "scaler = StandardScaler()\n",
    "X_train[cols]=scaler.fit_transform(X_train[cols])\n",
    "X_test[cols]=scaler.transform(X_test[cols])"
   ]
  },
  {
   "cell_type": "code",
   "execution_count": 347,
   "metadata": {},
   "outputs": [
    {
     "name": "stdout",
     "output_type": "stream",
     "text": [
      "(20967, 95)\n",
      "(20967,)\n",
      "(8986, 95)\n",
      "(8986,)\n"
     ]
    }
   ],
   "source": [
    "##We have X_train,X_test,y_train and y_test data readymade\n",
    "\n",
    "print(X_train.shape)\n",
    "print(y_train.shape)\n",
    "print(X_test.shape)\n",
    "print(y_test.shape)"
   ]
  },
  {
   "cell_type": "markdown",
   "metadata": {},
   "source": [
    "**We build decision tree model with hyper paramater tuning and analysing the effect of class weights**"
   ]
  },
  {
   "cell_type": "markdown",
   "metadata": {},
   "source": [
    "Starting with the shallow model"
   ]
  },
  {
   "cell_type": "code",
   "execution_count": 348,
   "metadata": {},
   "outputs": [],
   "source": [
    "dt_base = DecisionTreeClassifier(random_state=42, max_depth=4)"
   ]
  },
  {
   "cell_type": "code",
   "execution_count": 349,
   "metadata": {},
   "outputs": [
    {
     "data": {
      "text/plain": [
       "DecisionTreeClassifier(max_depth=4, random_state=42)"
      ]
     },
     "execution_count": 349,
     "metadata": {},
     "output_type": "execute_result"
    }
   ],
   "source": [
    "dt_base.fit(X_train, y_train)"
   ]
  },
  {
   "cell_type": "code",
   "execution_count": 350,
   "metadata": {},
   "outputs": [],
   "source": [
    "y_train_pred = dt_base.predict(X_train)\n",
    "y_test_pred = dt_base.predict(X_test)"
   ]
  },
  {
   "cell_type": "code",
   "execution_count": 351,
   "metadata": {},
   "outputs": [],
   "source": [
    "confusion_matrix(y_test, y_pred)\n",
    "TP = confusion[1,1] # true positive \n",
    "TN = confusion[0,0] # true negatives\n",
    "FP = confusion[0,1] # false positives\n",
    "FN = confusion[1,0] # false negatives"
   ]
  },
  {
   "cell_type": "code",
   "execution_count": 352,
   "metadata": {},
   "outputs": [
    {
     "name": "stdout",
     "output_type": "stream",
     "text": [
      "accuracy_score on test set..... 0.9326730469619408\n",
      "sensitivity_score on test set...... 0.72\n",
      "Specificity score on test set..... 0.94\n"
     ]
    }
   ],
   "source": [
    "accuracy_score = (metrics.accuracy_score(y_test, y_pred).tolist())\n",
    "sensitivity_score=round(TP / float(TP+FN),2)\n",
    "specificity=round(TN / float(TN+FP),2)\n",
    "print('accuracy_score on test set.....',accuracy_score)\n",
    "print('sensitivity_score on test set......',sensitivity_score)\n",
    "print('Specificity score on test set.....',specificity)"
   ]
  },
  {
   "cell_type": "markdown",
   "metadata": {},
   "source": [
    "**Hyperparameter Tuning in Decision Tree**"
   ]
  },
  {
   "cell_type": "code",
   "execution_count": 353,
   "metadata": {},
   "outputs": [],
   "source": [
    "\n",
    "\n",
    "from sklearn.model_selection import GridSearchCV\n"
   ]
  },
  {
   "cell_type": "code",
   "execution_count": 354,
   "metadata": {},
   "outputs": [],
   "source": [
    "dt = DecisionTreeClassifier(random_state=42)"
   ]
  },
  {
   "cell_type": "code",
   "execution_count": 355,
   "metadata": {},
   "outputs": [],
   "source": [
    "##weights = np.linspace(0.0,0.99,100)\n",
    "params = {\n",
    "    \"max_depth\": [2,3,5,10,20],\n",
    "    \"min_samples_leaf\": [5,10,20,50,100,500],\n",
    "    \"min_samples_split\":[2,3,5,10,20],\n",
    "    'criterion': [\"gini\", \"entropy\"],\n",
    "    ##'class_weight': [{0:x, 1:1.0-x} for x in weights],\n",
    "}"
   ]
  },
  {
   "cell_type": "code",
   "execution_count": 356,
   "metadata": {},
   "outputs": [],
   "source": [
    "grid_search = GridSearchCV(estimator=dt,\n",
    "                           param_grid=params,\n",
    "                           cv=5,\n",
    "                           n_jobs=-1, verbose=1, scoring=\"f1\")"
   ]
  },
  {
   "cell_type": "code",
   "execution_count": 357,
   "metadata": {},
   "outputs": [
    {
     "name": "stdout",
     "output_type": "stream",
     "text": [
      "Fitting 5 folds for each of 300 candidates, totalling 1500 fits\n"
     ]
    },
    {
     "data": {
      "text/plain": [
       "GridSearchCV(cv=5, estimator=DecisionTreeClassifier(random_state=42), n_jobs=-1,\n",
       "             param_grid={'criterion': ['gini', 'entropy'],\n",
       "                         'max_depth': [2, 3, 5, 10, 20],\n",
       "                         'min_samples_leaf': [5, 10, 20, 50, 100, 500],\n",
       "                         'min_samples_split': [2, 3, 5, 10, 20]},\n",
       "             scoring='f1', verbose=1)"
      ]
     },
     "execution_count": 357,
     "metadata": {},
     "output_type": "execute_result"
    }
   ],
   "source": [
    "grid_search.fit(X_train, y_train)"
   ]
  },
  {
   "cell_type": "code",
   "execution_count": 358,
   "metadata": {},
   "outputs": [
    {
     "data": {
      "text/plain": [
       "DecisionTreeClassifier(max_depth=3, min_samples_leaf=5, random_state=42)"
      ]
     },
     "execution_count": 358,
     "metadata": {},
     "output_type": "execute_result"
    }
   ],
   "source": [
    "dt_best = grid_search.best_estimator_\n",
    "dt_best"
   ]
  },
  {
   "cell_type": "markdown",
   "metadata": {},
   "source": [
    "**We could find that the Decision Tree's senitivity score is around 0.7, let us try to find the appropriate class weight to initialize**"
   ]
  },
  {
   "cell_type": "code",
   "execution_count": 359,
   "metadata": {},
   "outputs": [],
   "source": [
    "dt_best_hypparam = DecisionTreeClassifier(max_depth=3, min_samples_leaf=5, random_state=42)"
   ]
  },
  {
   "cell_type": "code",
   "execution_count": 360,
   "metadata": {},
   "outputs": [],
   "source": [
    "weights = np.linspace(0.0,0.99,200)"
   ]
  },
  {
   "cell_type": "code",
   "execution_count": 361,
   "metadata": {},
   "outputs": [],
   "source": [
    "params = {\n",
    "    'criterion': [\"gini\", \"entropy\"],\n",
    "    'class_weight': [{0:x, 1:1.0-x} for x in weights],\n",
    "}"
   ]
  },
  {
   "cell_type": "code",
   "execution_count": 362,
   "metadata": {},
   "outputs": [],
   "source": [
    "grid_search_1 = GridSearchCV(estimator=dt_best_hypparam,\n",
    "                           param_grid=params,\n",
    "                           cv=5,\n",
    "                           n_jobs=-1, verbose=1, scoring=\"f1\")"
   ]
  },
  {
   "cell_type": "code",
   "execution_count": 363,
   "metadata": {},
   "outputs": [
    {
     "name": "stdout",
     "output_type": "stream",
     "text": [
      "Fitting 5 folds for each of 400 candidates, totalling 2000 fits\n"
     ]
    },
    {
     "data": {
      "text/plain": [
       "GridSearchCV(cv=5,\n",
       "             estimator=DecisionTreeClassifier(max_depth=3, min_samples_leaf=5,\n",
       "                                              random_state=42),\n",
       "             n_jobs=-1,\n",
       "             param_grid={'class_weight': [{0: 0.0, 1: 1.0},\n",
       "                                          {0: 0.004974874371859297,\n",
       "                                           1: 0.9950251256281407},\n",
       "                                          {0: 0.009949748743718593,\n",
       "                                           1: 0.9900502512562814},\n",
       "                                          {0: 0.014924623115577889,\n",
       "                                           1: 0.9850753768844221},\n",
       "                                          {0: 0.019899497487437186,\n",
       "                                           1: 0.9801005025125629},\n",
       "                                          {0: 0.0248743718...\n",
       "                                          {0: 0.11442211055276383,\n",
       "                                           1: 0.8855778894472361},\n",
       "                                          {0: 0.11939698492462311,\n",
       "                                           1: 0.8806030150753769},\n",
       "                                          {0: 0.12437185929648241,\n",
       "                                           1: 0.8756281407035176},\n",
       "                                          {0: 0.1293467336683417,\n",
       "                                           1: 0.8706532663316583},\n",
       "                                          {0: 0.13432160804020102,\n",
       "                                           1: 0.865678391959799},\n",
       "                                          {0: 0.1392964824120603,\n",
       "                                           1: 0.8607035175879397},\n",
       "                                          {0: 0.1442713567839196,\n",
       "                                           1: 0.8557286432160804}, ...],\n",
       "                         'criterion': ['gini', 'entropy']},\n",
       "             scoring='f1', verbose=1)"
      ]
     },
     "execution_count": 363,
     "metadata": {},
     "output_type": "execute_result"
    }
   ],
   "source": [
    "grid_search_1.fit(X_train, y_train)"
   ]
  },
  {
   "cell_type": "code",
   "execution_count": 364,
   "metadata": {},
   "outputs": [
    {
     "data": {
      "text/plain": [
       "DecisionTreeClassifier(class_weight={0: 0.22884422110552766,\n",
       "                                     1: 0.7711557788944723},\n",
       "                       max_depth=3, min_samples_leaf=5, random_state=42)"
      ]
     },
     "execution_count": 364,
     "metadata": {},
     "output_type": "execute_result"
    }
   ],
   "source": [
    "dt_best = grid_search_1.best_estimator_\n",
    "dt_best"
   ]
  },
  {
   "cell_type": "markdown",
   "metadata": {},
   "source": [
    "**Finalized Decision Tree on predicting test data***"
   ]
  },
  {
   "cell_type": "code",
   "execution_count": 365,
   "metadata": {},
   "outputs": [],
   "source": [
    "y_train_pred = grid_search_1.best_estimator_.predict(X_train)\n",
    "y_test_pred = grid_search_1.best_estimator_.predict(X_test)"
   ]
  },
  {
   "cell_type": "markdown",
   "metadata": {},
   "source": [
    "**Evaluating the confusion metrics for the Decision Tree model**"
   ]
  },
  {
   "cell_type": "code",
   "execution_count": 366,
   "metadata": {},
   "outputs": [],
   "source": [
    "confusion_matrix(y_test, y_test_pred)\n",
    "TP = confusion[1,1] # true positive \n",
    "TN = confusion[0,0] # true negatives\n",
    "FP = confusion[0,1] # false positives\n",
    "FN = confusion[1,0] # false negatives"
   ]
  },
  {
   "cell_type": "code",
   "execution_count": 367,
   "metadata": {},
   "outputs": [
    {
     "name": "stdout",
     "output_type": "stream",
     "text": [
      "accuracy_score on test set by DT model..... 0.9432450478522145\n",
      "sensitivity_score on test set by DT model...... 0.72\n",
      "Specificity score on test set by DT model..... 0.94\n"
     ]
    }
   ],
   "source": [
    "accuracy_score = (metrics.accuracy_score(y_test, y_test_pred).tolist())\n",
    "sensitivity_score=round(TP / float(TP+FN),2)\n",
    "specificity=round(TN / float(TN+FP),2)\n",
    "print('accuracy_score on test set by DT model.....',accuracy_score)\n",
    "print('sensitivity_score on test set by DT model......',sensitivity_score)\n",
    "print('Specificity score on test set by DT model.....',specificity)"
   ]
  },
  {
   "cell_type": "code",
   "execution_count": 368,
   "metadata": {},
   "outputs": [
    {
     "name": "stdout",
     "output_type": "stream",
     "text": [
      "Final ROC Score of the DT model,...... 0.74\n"
     ]
    }
   ],
   "source": [
    "print('Final ROC Score of the DT model,......',round(roc_auc_score(y_test, y_test_pred),2))"
   ]
  },
  {
   "cell_type": "markdown",
   "metadata": {},
   "source": [
    "**Evaluating with the Random Forest Model**"
   ]
  },
  {
   "cell_type": "code",
   "execution_count": 369,
   "metadata": {},
   "outputs": [],
   "source": [
    "##Let us investigate how random forest functions\n",
    "\n",
    "rf = RandomForestClassifier(random_state=42, n_jobs=-1,class_weight={0: 0.17909547738693468,\n",
    "                                     1: 0.8209045226130653},oob_score=True)"
   ]
  },
  {
   "cell_type": "code",
   "execution_count": 370,
   "metadata": {},
   "outputs": [],
   "source": [
    "params = {\n",
    "    'max_depth': [2,3,5,10,20],\n",
    "    'min_samples_leaf': [5,10,20,50,100,200],\n",
    "    'n_estimators': [10, 25, 50, 100]\n",
    "}"
   ]
  },
  {
   "cell_type": "code",
   "execution_count": 371,
   "metadata": {},
   "outputs": [],
   "source": [
    "grid_search = GridSearchCV(estimator=rf,\n",
    "                           param_grid=params,\n",
    "                           cv = 4,\n",
    "                           n_jobs=-1, verbose=1, scoring=\"accuracy\")"
   ]
  },
  {
   "cell_type": "code",
   "execution_count": 372,
   "metadata": {},
   "outputs": [
    {
     "name": "stdout",
     "output_type": "stream",
     "text": [
      "Fitting 4 folds for each of 120 candidates, totalling 480 fits\n"
     ]
    },
    {
     "data": {
      "text/plain": [
       "GridSearchCV(cv=4,\n",
       "             estimator=RandomForestClassifier(class_weight={0: 0.17909547738693468,\n",
       "                                                            1: 0.8209045226130653},\n",
       "                                              n_jobs=-1, oob_score=True,\n",
       "                                              random_state=42),\n",
       "             n_jobs=-1,\n",
       "             param_grid={'max_depth': [2, 3, 5, 10, 20],\n",
       "                         'min_samples_leaf': [5, 10, 20, 50, 100, 200],\n",
       "                         'n_estimators': [10, 25, 50, 100]},\n",
       "             scoring='accuracy', verbose=1)"
      ]
     },
     "execution_count": 372,
     "metadata": {},
     "output_type": "execute_result"
    }
   ],
   "source": [
    "grid_search.fit(X_train, y_train)"
   ]
  },
  {
   "cell_type": "code",
   "execution_count": 373,
   "metadata": {},
   "outputs": [
    {
     "data": {
      "text/plain": [
       "RandomForestClassifier(class_weight={0: 0.17909547738693468,\n",
       "                                     1: 0.8209045226130653},\n",
       "                       max_depth=20, min_samples_leaf=5, n_jobs=-1,\n",
       "                       oob_score=True, random_state=42)"
      ]
     },
     "execution_count": 373,
     "metadata": {},
     "output_type": "execute_result"
    }
   ],
   "source": [
    "rf_best = grid_search.best_estimator_\n",
    "rf_best"
   ]
  },
  {
   "cell_type": "markdown",
   "metadata": {},
   "source": [
    "**Fitting the best model on the test and train including the class weight**"
   ]
  },
  {
   "cell_type": "code",
   "execution_count": 374,
   "metadata": {},
   "outputs": [],
   "source": [
    "y_train_pred = rf_best.predict(X_train)\n",
    "y_test_pred = rf_best.predict(X_test)"
   ]
  },
  {
   "cell_type": "markdown",
   "metadata": {},
   "source": [
    "**Predicting the accuracy, ROC and sensitivity of the model through the confusion matrix**"
   ]
  },
  {
   "cell_type": "code",
   "execution_count": 375,
   "metadata": {},
   "outputs": [
    {
     "name": "stdout",
     "output_type": "stream",
     "text": [
      "accuracy_score on test set by RF model..... 0.9449143111506788\n",
      "sensitivity_score on test set by RF model...... 0.72\n",
      "Specificity score on test set by RF model..... 0.94\n"
     ]
    }
   ],
   "source": [
    "confusion_matrix(y_test, y_test_pred)\n",
    "TP = confusion[1,1] # true positive \n",
    "TN = confusion[0,0] # true negatives\n",
    "FP = confusion[0,1] # false positives\n",
    "FN = confusion[1,0] # false negatives\n",
    "accuracy_score = (metrics.accuracy_score(y_test, y_test_pred).tolist())\n",
    "sensitivity_score=round(TP / float(TP+FN),2)\n",
    "specificity=round(TN / float(TN+FP),2)\n",
    "print('accuracy_score on test set by RF model.....',accuracy_score)\n",
    "print('sensitivity_score on test set by RF model......',sensitivity_score)\n",
    "print('Specificity score on test set by RF model.....',specificity)\n"
   ]
  },
  {
   "cell_type": "code",
   "execution_count": 376,
   "metadata": {},
   "outputs": [],
   "source": [
    "imp_df = pd.DataFrame({\n",
    "    \"Varname\": X_train.columns,\n",
    "    \"Imp\": rf_best.feature_importances_\n",
    "})"
   ]
  },
  {
   "cell_type": "markdown",
   "metadata": {},
   "source": [
    "**Getting the top 20 important features in the table**"
   ]
  },
  {
   "cell_type": "code",
   "execution_count": 377,
   "metadata": {},
   "outputs": [
    {
     "data": {
      "text/html": [
       "<div>\n",
       "<style scoped>\n",
       "    .dataframe tbody tr th:only-of-type {\n",
       "        vertical-align: middle;\n",
       "    }\n",
       "\n",
       "    .dataframe tbody tr th {\n",
       "        vertical-align: top;\n",
       "    }\n",
       "\n",
       "    .dataframe thead th {\n",
       "        text-align: right;\n",
       "    }\n",
       "</style>\n",
       "<table border=\"1\" class=\"dataframe\">\n",
       "  <thead>\n",
       "    <tr style=\"text-align: right;\">\n",
       "      <th></th>\n",
       "      <th>Varname</th>\n",
       "      <th>Imp</th>\n",
       "    </tr>\n",
       "  </thead>\n",
       "  <tbody>\n",
       "    <tr>\n",
       "      <th>26</th>\n",
       "      <td>total_ic_mou_8</td>\n",
       "      <td>0.102778</td>\n",
       "    </tr>\n",
       "    <tr>\n",
       "      <th>0</th>\n",
       "      <td>arpu_8</td>\n",
       "      <td>0.060847</td>\n",
       "    </tr>\n",
       "    <tr>\n",
       "      <th>31</th>\n",
       "      <td>total_rech_amt_8</td>\n",
       "      <td>0.059874</td>\n",
       "    </tr>\n",
       "    <tr>\n",
       "      <th>17</th>\n",
       "      <td>total_og_mou_8</td>\n",
       "      <td>0.052904</td>\n",
       "    </tr>\n",
       "    <tr>\n",
       "      <th>33</th>\n",
       "      <td>last_day_rch_amt_8</td>\n",
       "      <td>0.045963</td>\n",
       "    </tr>\n",
       "    <tr>\n",
       "      <th>21</th>\n",
       "      <td>loc_ic_mou_8</td>\n",
       "      <td>0.038869</td>\n",
       "    </tr>\n",
       "    <tr>\n",
       "      <th>32</th>\n",
       "      <td>max_rech_amt_8</td>\n",
       "      <td>0.030402</td>\n",
       "    </tr>\n",
       "    <tr>\n",
       "      <th>3</th>\n",
       "      <td>roam_ic_mou_8</td>\n",
       "      <td>0.027954</td>\n",
       "    </tr>\n",
       "    <tr>\n",
       "      <th>4</th>\n",
       "      <td>roam_og_mou_8</td>\n",
       "      <td>0.026805</td>\n",
       "    </tr>\n",
       "    <tr>\n",
       "      <th>19</th>\n",
       "      <td>loc_ic_t2m_mou_8</td>\n",
       "      <td>0.024338</td>\n",
       "    </tr>\n",
       "    <tr>\n",
       "      <th>6</th>\n",
       "      <td>loc_og_t2m_mou_8</td>\n",
       "      <td>0.023142</td>\n",
       "    </tr>\n",
       "    <tr>\n",
       "      <th>9</th>\n",
       "      <td>loc_og_mou_8</td>\n",
       "      <td>0.020241</td>\n",
       "    </tr>\n",
       "    <tr>\n",
       "      <th>18</th>\n",
       "      <td>loc_ic_t2t_mou_8</td>\n",
       "      <td>0.019185</td>\n",
       "    </tr>\n",
       "    <tr>\n",
       "      <th>38</th>\n",
       "      <td>av_rech_amt_data_8</td>\n",
       "      <td>0.018607</td>\n",
       "    </tr>\n",
       "    <tr>\n",
       "      <th>20</th>\n",
       "      <td>loc_ic_t2f_mou_8</td>\n",
       "      <td>0.018605</td>\n",
       "    </tr>\n",
       "    <tr>\n",
       "      <th>35</th>\n",
       "      <td>max_rech_data_8</td>\n",
       "      <td>0.018541</td>\n",
       "    </tr>\n",
       "    <tr>\n",
       "      <th>2</th>\n",
       "      <td>offnet_mou_8</td>\n",
       "      <td>0.014542</td>\n",
       "    </tr>\n",
       "    <tr>\n",
       "      <th>34</th>\n",
       "      <td>total_rech_data_8</td>\n",
       "      <td>0.013180</td>\n",
       "    </tr>\n",
       "    <tr>\n",
       "      <th>25</th>\n",
       "      <td>std_ic_mou_8</td>\n",
       "      <td>0.012903</td>\n",
       "    </tr>\n",
       "    <tr>\n",
       "      <th>5</th>\n",
       "      <td>loc_og_t2t_mou_8</td>\n",
       "      <td>0.012315</td>\n",
       "    </tr>\n",
       "  </tbody>\n",
       "</table>\n",
       "</div>"
      ],
      "text/plain": [
       "               Varname       Imp\n",
       "26  total_ic_mou_8      0.102778\n",
       "0   arpu_8              0.060847\n",
       "31  total_rech_amt_8    0.059874\n",
       "17  total_og_mou_8      0.052904\n",
       "33  last_day_rch_amt_8  0.045963\n",
       "21  loc_ic_mou_8        0.038869\n",
       "32  max_rech_amt_8      0.030402\n",
       "3   roam_ic_mou_8       0.027954\n",
       "4   roam_og_mou_8       0.026805\n",
       "19  loc_ic_t2m_mou_8    0.024338\n",
       "6   loc_og_t2m_mou_8    0.023142\n",
       "9   loc_og_mou_8        0.020241\n",
       "18  loc_ic_t2t_mou_8    0.019185\n",
       "38  av_rech_amt_data_8  0.018607\n",
       "20  loc_ic_t2f_mou_8    0.018605\n",
       "35  max_rech_data_8     0.018541\n",
       "2   offnet_mou_8        0.014542\n",
       "34  total_rech_data_8   0.013180\n",
       "25  std_ic_mou_8        0.012903\n",
       "5   loc_og_t2t_mou_8    0.012315"
      ]
     },
     "execution_count": 377,
     "metadata": {},
     "output_type": "execute_result"
    }
   ],
   "source": [
    "##Extarcting top-20 features\n",
    "\n",
    "imp_df=imp_df.sort_values(by='Imp',ascending=False).head(20)\n",
    "imp_df"
   ]
  },
  {
   "cell_type": "markdown",
   "metadata": {},
   "source": [
    "**Ploting the top 20 important features**"
   ]
  },
  {
   "cell_type": "code",
   "execution_count": 378,
   "metadata": {},
   "outputs": [
    {
     "data": {
      "image/png": "[encoded data removed]",
      "text/plain": [
       "<Figure size 720x504 with 1 Axes>"
      ]
     },
     "metadata": {},
     "output_type": "display_data"
    }
   ],
   "source": [
    "plt.figure(figsize=[10,7])\n",
    "sns.set_style(\"darkgrid\")\n",
    "x=imp_df['Varname'].values.tolist()\n",
    "y=imp_df['Imp'].values.tolist()\n",
    "p=sns.barplot(y,x)\n",
    "sns.set()\n",
    "plt.title('Important Features')\n",
    "plt.show()"
   ]
  },
  {
   "cell_type": "markdown",
   "metadata": {},
   "source": [
    "**Business Recommendation**\n",
    "\n",
    " 1.The churn rate is highest for the newly joined customers, also we are able to observe that the even loyal customers do churn as the rate of % is nearly 50% for them as opposed 75% for the new customers.(loyal customers in service >8years)\n",
    " \n",
    " 2.Over 40% of customers generated revenue in the the 8 month which is more or the same as generated by them in the previous months of June and July. These customers need to be targeted\n",
    " \n",
    "3.Over 58% of customers roughly show the declined path towards the revenue generation as they sporadically recharge in the August month compared to June and July. We need to roll out incentive schemes to retain them.\n",
    " \n",
    "4.There are specific customers who belong to all the categories like New,Gold,Diamond and Platinum who recharged more than the \n",
    "  previous months and also have not churned. You can find the details of those customers in the 'most_loyal_cust' csv sheet.\n",
    "    \n",
    "5.Also these people have not swayed from the business. So we can give them special discounts.The phone numbers are found in the most_loyal_cust sheet.For newly joined people we shall offer them a few couple of free services and insentives or gifts and \tfor the people who are associated with the service over a longer period of time(say>5 years:Gold,Diamond or Platinum) we shall offer them a free scheme say monthly topup at free cost etc.,\n",
    "\n",
    "6.In maximum recharge and total recharge amount for August month we could see more contribution from the diamond and platinum customers than the others but these customers are sparse in population when compared to the others and their contribution towards the business growth is indispensable\n",
    "\n",
    "7.The 2g usage has fairly the same distribution among the customers and the median of the value is slightly above 0.\n",
    "\n",
    "8.The 3g on the other side the high valued customers ( diamond and platinum ) used these plans but the new users show no interest on these products, but their population representing the entire data is huge. So we need to plan for incentives for the most trustable customers (please refer to the most loyal customer chart above)to maximize the profit through their subscription.\n",
    "\n",
    "9.Majority of the customers never utilised 2g and 3g data volume only very few utilised the significant volume of data which is evident from the above box plots and that needs to be taken into account. Might be due to less schemes or due to stringent price policies make the customers to think about an alternative.\n",
    "\n",
    "10.We found like special schemes like FB user or night scheme were not duly appreciated by the users. So it could be beneficial\n",
    "  to launch a survey or pool which represents the population of the customers to understand their needs and based on that, we     shall provide the schemes instead of investing in the resources prodical which adds only a trifling portion to the returns.\n",
    "  \n",
    "11.Apart from this, we find an immense value in the 8 month KPI data, as they play a dominant role in determing the pattern of customers. In the above chart, the important takeaway is that the features total incoming calls, average revenue per user,total\n",
    "recharge amount are some of the determintal factors to drive the business model.\n",
    "    \n",
    "  "
   ]
  }
 ],
 "metadata": {
  "kernelspec": {
   "display_name": "Python 3",
   "language": "python",
   "name": "python3"
  },
  "language_info": {
   "codemirror_mode": {
    "name": "ipython",
    "version": 3
   },
   "file_extension": ".py",
   "mimetype": "text/x-python",
   "name": "python",
   "nbconvert_exporter": "python",
   "pygments_lexer": "ipython3",
   "version": "3.7.0"
  }
 },
 "nbformat": 4,
 "nbformat_minor": 4
}
